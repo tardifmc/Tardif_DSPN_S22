{
 "cells": [
  {
   "cell_type": "markdown",
   "metadata": {
    "id": "5sUQy82wJN5i"
   },
   "source": [
    "# Homework 4:  Linear models\n",
    "\n",
    "This homework assignment is designed to give you practice with linear models and the bias-variance tradeoff. \n",
    "\n",
    "You will need to download the **unrestricted_trimmed_1_7_2020_10_50_44.csv** file from the *Homework/hcp_data* folder in the class GitHub repository. \n",
    "\n",
    "\n",
    "This data is a portion of the [Human Connectome Project database](http://www.humanconnectomeproject.org/). It provides measures of cognitive tasks and brain morphology measuresments from 1206 participants. The full description of each variable is provided in the **HCP_S1200_DataDictionary_April_20_2018.csv** file in the *Homework/hcp_data* folder in the class GitHub repository."
   ]
  },
  {
   "cell_type": "markdown",
   "metadata": {
    "id": "vzH_Qf0SJN5_"
   },
   "source": [
    "---\n",
    "## 1. Loading the Data (1 point)\n",
    "\n",
    "Use the `setwd` and `read.csv` functions to load data from the **unrestricted_trimmed_1_7_2020_10_50_44.csv** file. \n",
    "\n",
    "Using the tidyverse tools, make a new dataframe `d1` that only inclues the subject ID (`Subject`), gender (`Gender`), Flanker Task performance (`Flanker_Unadj`), total white matter volume (`FS_Tot_WM_Vol`), and total grey matter volume (`FS_Total_GM_Vol`) variables and remove all _na_ values.\n",
    "\n",
    "Use the `head` function to look at the first few rows of each data frame. "
   ]
  },
  {
   "cell_type": "code",
   "execution_count": 12,
   "metadata": {},
   "outputs": [
    {
     "name": "stderr",
     "output_type": "stream",
     "text": [
      "Warning message:\n",
      "\"package 'ggpubr' was built under R version 3.6.3\""
     ]
    },
    {
     "ename": "ERROR",
     "evalue": "Error: package or namespace load failed for 'ggpubr' in loadNamespace(j <- i[[1L]], c(lib.loc, .libPaths()), versionCheck = vI[[j]]):\n namespace 'broom' 0.5.2 is already loaded, but >= 0.7.4 is required\n",
     "output_type": "error",
     "traceback": [
      "Error: package or namespace load failed for 'ggpubr' in loadNamespace(j <- i[[1L]], c(lib.loc, .libPaths()), versionCheck = vI[[j]]):\n namespace 'broom' 0.5.2 is already loaded, but >= 0.7.4 is required\nTraceback:\n",
      "1. library(ggpubr)",
      "2. tryCatch({\n .     attr(package, \"LibPath\") <- which.lib.loc\n .     ns <- loadNamespace(package, lib.loc)\n .     env <- attachNamespace(ns, pos = pos, deps, exclude, include.only)\n . }, error = function(e) {\n .     P <- if (!is.null(cc <- conditionCall(e))) \n .         paste(\" in\", deparse(cc)[1L])\n .     else \"\"\n .     msg <- gettextf(\"package or namespace load failed for %s%s:\\n %s\", \n .         sQuote(package), P, conditionMessage(e))\n .     if (logical.return) \n .         message(paste(\"Error:\", msg), domain = NA)\n .     else stop(msg, call. = FALSE, domain = NA)\n . })",
      "3. tryCatchList(expr, classes, parentenv, handlers)",
      "4. tryCatchOne(expr, names, parentenv, handlers[[1L]])",
      "5. value[[3L]](cond)",
      "6. stop(msg, call. = FALSE, domain = NA)"
     ]
    }
   ],
   "source": [
    "library(tidyverse);#load tidyverse\n",
    "library(ggplot2); #load ggplot\n",
    "# install.packages('ggpubr')#install ggpubr commented out so that it doesn't reinstall everytime\n",
    "library(ggpubr);"
   ]
  },
  {
   "cell_type": "code",
   "execution_count": 5,
   "metadata": {
    "colab": {
     "base_uri": "https://localhost:8080/",
     "height": 283
    },
    "executionInfo": {
     "elapsed": 1919,
     "status": "ok",
     "timestamp": 1615920257534,
     "user": {
      "displayName": "Patience Stevens",
      "photoUrl": "https://lh3.googleusercontent.com/a-/AOh14Gi-_9ZqhIFhAv1oMehJNvNuIKSTyrFQHzjxQKhx=s64",
      "userId": "01994571539255174942"
     },
     "user_tz": 240
    },
    "id": "g7paDirkJN5_",
    "outputId": "3dc1b58e-345b-4907-f449-859ad6fc6d90"
   },
   "outputs": [
    {
     "data": {
      "text/html": [
       "<table>\n",
       "<thead><tr><th></th><th scope=col>Subject</th><th scope=col>Gender</th><th scope=col>Flanker_Unadj</th><th scope=col>FS_Tot_WM_Vol</th><th scope=col>FS_Total_GM_Vol</th></tr></thead>\n",
       "<tbody>\n",
       "\t<tr><th scope=row>2</th><td>100206</td><td>M     </td><td>130.42</td><td>543134</td><td>807245</td></tr>\n",
       "\t<tr><th scope=row>3</th><td>100307</td><td>F     </td><td>112.56</td><td>407292</td><td>664124</td></tr>\n",
       "\t<tr><th scope=row>4</th><td>100408</td><td>M     </td><td>121.18</td><td>500417</td><td>726206</td></tr>\n",
       "\t<tr><th scope=row>5</th><td>100610</td><td>M     </td><td>126.53</td><td>512946</td><td>762308</td></tr>\n",
       "\t<tr><th scope=row>6</th><td>101006</td><td>F     </td><td>101.85</td><td>429449</td><td>579632</td></tr>\n",
       "\t<tr><th scope=row>7</th><td>101107</td><td>M     </td><td>107.04</td><td>416995</td><td>665024</td></tr>\n",
       "</tbody>\n",
       "</table>\n"
      ],
      "text/latex": [
       "\\begin{tabular}{r|lllll}\n",
       "  & Subject & Gender & Flanker\\_Unadj & FS\\_Tot\\_WM\\_Vol & FS\\_Total\\_GM\\_Vol\\\\\n",
       "\\hline\n",
       "\t2 & 100206 & M      & 130.42 & 543134 & 807245\\\\\n",
       "\t3 & 100307 & F      & 112.56 & 407292 & 664124\\\\\n",
       "\t4 & 100408 & M      & 121.18 & 500417 & 726206\\\\\n",
       "\t5 & 100610 & M      & 126.53 & 512946 & 762308\\\\\n",
       "\t6 & 101006 & F      & 101.85 & 429449 & 579632\\\\\n",
       "\t7 & 101107 & M      & 107.04 & 416995 & 665024\\\\\n",
       "\\end{tabular}\n"
      ],
      "text/markdown": [
       "\n",
       "| <!--/--> | Subject | Gender | Flanker_Unadj | FS_Tot_WM_Vol | FS_Total_GM_Vol |\n",
       "|---|---|---|---|---|---|\n",
       "| 2 | 100206 | M      | 130.42 | 543134 | 807245 |\n",
       "| 3 | 100307 | F      | 112.56 | 407292 | 664124 |\n",
       "| 4 | 100408 | M      | 121.18 | 500417 | 726206 |\n",
       "| 5 | 100610 | M      | 126.53 | 512946 | 762308 |\n",
       "| 6 | 101006 | F      | 101.85 | 429449 | 579632 |\n",
       "| 7 | 101107 | M      | 107.04 | 416995 | 665024 |\n",
       "\n"
      ],
      "text/plain": [
       "  Subject Gender Flanker_Unadj FS_Tot_WM_Vol FS_Total_GM_Vol\n",
       "2 100206  M      130.42        543134        807245         \n",
       "3 100307  F      112.56        407292        664124         \n",
       "4 100408  M      121.18        500417        726206         \n",
       "5 100610  M      126.53        512946        762308         \n",
       "6 101006  F      101.85        429449        579632         \n",
       "7 101107  M      107.04        416995        665024         "
      ]
     },
     "metadata": {},
     "output_type": "display_data"
    }
   ],
   "source": [
    "setwd('C:/Users/MCT40/OneDrive - University of Pittsburgh/Classes/Spring2022/CMU_STATS/HOMEWORK/hcp_data')\n",
    "d <- read.csv('unrestricted_trimmed_1_7_2020_10_50_44.csv') #import and call it d (because of next step)\n",
    "\n",
    "#take a subset including specific 5 variables, and call it d1\n",
    "d %>% subset(select = c(Subject, Gender, Flanker_Unadj, FS_Tot_WM_Vol, FS_Total_GM_Vol)) %>% #subset the rows\n",
    "  drop_na() -> d1 #drop the NAs\n",
    "head(d1)\n",
    "\n"
   ]
  },
  {
   "cell_type": "markdown",
   "metadata": {
    "id": "5CFn7tyNJN6H"
   },
   "source": [
    "---\n",
    "## 2. Initial data visualization (2 point)\n",
    "\n",
    "Use the `pairs` function to look at all the pairwise scatterplots of the variables in `d1`. Describe which variables seem positively correlated, negatively correlated, or not correlated at all."
   ]
  },
  {
   "cell_type": "code",
   "execution_count": 6,
   "metadata": {
    "colab": {
     "base_uri": "https://localhost:8080/",
     "height": 437
    },
    "executionInfo": {
     "elapsed": 764,
     "status": "ok",
     "timestamp": 1615920324017,
     "user": {
      "displayName": "Patience Stevens",
      "photoUrl": "https://lh3.googleusercontent.com/a-/AOh14Gi-_9ZqhIFhAv1oMehJNvNuIKSTyrFQHzjxQKhx=s64",
      "userId": "01994571539255174942"
     },
     "user_tz": 240
    },
    "id": "y09NsOxMJN6N",
    "outputId": "67ae0139-9db0-4273-90cd-b6f1cf175905"
   },
   "outputs": [
    {
     "data": {
      "text/html": [
       "<table>\n",
       "<thead><tr><th></th><th scope=col>Subject</th><th scope=col>Gender</th><th scope=col>Flanker_Unadj</th><th scope=col>FS_Tot_WM_Vol</th><th scope=col>FS_Total_GM_Vol</th></tr></thead>\n",
       "<tbody>\n",
       "\t<tr><th scope=row>2</th><td>100206</td><td>2     </td><td>130.42</td><td>543134</td><td>807245</td></tr>\n",
       "\t<tr><th scope=row>3</th><td>100307</td><td>1     </td><td>112.56</td><td>407292</td><td>664124</td></tr>\n",
       "\t<tr><th scope=row>4</th><td>100408</td><td>2     </td><td>121.18</td><td>500417</td><td>726206</td></tr>\n",
       "\t<tr><th scope=row>5</th><td>100610</td><td>2     </td><td>126.53</td><td>512946</td><td>762308</td></tr>\n",
       "\t<tr><th scope=row>6</th><td>101006</td><td>1     </td><td>101.85</td><td>429449</td><td>579632</td></tr>\n",
       "\t<tr><th scope=row>7</th><td>101107</td><td>2     </td><td>107.04</td><td>416995</td><td>665024</td></tr>\n",
       "</tbody>\n",
       "</table>\n"
      ],
      "text/latex": [
       "\\begin{tabular}{r|lllll}\n",
       "  & Subject & Gender & Flanker\\_Unadj & FS\\_Tot\\_WM\\_Vol & FS\\_Total\\_GM\\_Vol\\\\\n",
       "\\hline\n",
       "\t2 & 100206 & 2      & 130.42 & 543134 & 807245\\\\\n",
       "\t3 & 100307 & 1      & 112.56 & 407292 & 664124\\\\\n",
       "\t4 & 100408 & 2      & 121.18 & 500417 & 726206\\\\\n",
       "\t5 & 100610 & 2      & 126.53 & 512946 & 762308\\\\\n",
       "\t6 & 101006 & 1      & 101.85 & 429449 & 579632\\\\\n",
       "\t7 & 101107 & 2      & 107.04 & 416995 & 665024\\\\\n",
       "\\end{tabular}\n"
      ],
      "text/markdown": [
       "\n",
       "| <!--/--> | Subject | Gender | Flanker_Unadj | FS_Tot_WM_Vol | FS_Total_GM_Vol |\n",
       "|---|---|---|---|---|---|\n",
       "| 2 | 100206 | 2      | 130.42 | 543134 | 807245 |\n",
       "| 3 | 100307 | 1      | 112.56 | 407292 | 664124 |\n",
       "| 4 | 100408 | 2      | 121.18 | 500417 | 726206 |\n",
       "| 5 | 100610 | 2      | 126.53 | 512946 | 762308 |\n",
       "| 6 | 101006 | 1      | 101.85 | 429449 | 579632 |\n",
       "| 7 | 101107 | 2      | 107.04 | 416995 | 665024 |\n",
       "\n"
      ],
      "text/plain": [
       "  Subject Gender Flanker_Unadj FS_Tot_WM_Vol FS_Total_GM_Vol\n",
       "2 100206  2      130.42        543134        807245         \n",
       "3 100307  1      112.56        407292        664124         \n",
       "4 100408  2      121.18        500417        726206         \n",
       "5 100610  2      126.53        512946        762308         \n",
       "6 101006  1      101.85        429449        579632         \n",
       "7 101107  2      107.04        416995        665024         "
      ]
     },
     "metadata": {},
     "output_type": "display_data"
    },
    {
     "data": {
      "image/png": "[encoded data removed]",
      "text/plain": [
       "plot without title"
      ]
     },
     "metadata": {},
     "output_type": "display_data"
    }
   ],
   "source": [
    "d1$Gender <- as.numeric(as.factor(d1$Gender)) #in order to include gender it has to be a numeric variable.\n",
    "head(d1) #Female = 1, Male = 2\n",
    "pairs(d1)\n",
    "\n",
    "#reminder: total white matter volume (FS_Tot_WM_Vol), and total grey matter volume (FS_Total_GM_Vol) \n"
   ]
  },
  {
   "cell_type": "markdown",
   "metadata": {
    "id": "yaL4VQPNJN6N"
   },
   "source": [
    "> Subject number: seems to not be correlated with anything (which is good since presumably it was randomly assigned). It does appeared to be skewed towards lower values, which is inconsequential. \n",
    "\n",
    "> Gender: Gender represented as a binary variable in this dataset. At first glance it appears females have lower distribution of values in total white matter volume and grey matter volume. This could be explained by smaller head/body size. \n",
    "\n",
    "> Flanker task result: These behavioural results seem to be uncorrelated to the other measures in the dataset. \n",
    "\n",
    "> White/Grey matter volumes: These two volumes seem to be linearly correlated, which makes sense since as the number of cell bodies (grey matter) increases, so should the number of tracts that connect them (white matter)"
   ]
  },
  {
   "cell_type": "markdown",
   "metadata": {
    "id": "LWntuBusJN6N"
   },
   "source": [
    "---\n",
    "## 3. Linear regression (4 points)\n",
    "\n",
    "Use the `lm` (linear model) function to determine the association between Flanker Task performance and total grey matter volume from the `d1` data frame.\n",
    "\n",
    "$$\n",
    "Y_{flanker} = \\beta_0 + \\beta_1 X_{GM volume}\n",
    "$$\n",
    "\n",
    "Show the results using the `summary` function, and report the mean coefficient values for $beta_0$ \\& $\\beta_1$ (`coef` function) and their 95\\% confidence intervals (`confint` function). Is grey matter volume significantly associated with Flanker Task performance?"
   ]
  },
  {
   "cell_type": "code",
   "execution_count": 9,
   "metadata": {
    "id": "vCvlheFFJN6T",
    "outputId": "e3d3008e-3218-4258-c817-72ce763b4a6c"
   },
   "outputs": [
    {
     "data": {
      "text/plain": [
       "\n",
       "Call:\n",
       "lm(formula = Flanker_Unadj ~ FS_Total_GM_Vol, data = d1)\n",
       "\n",
       "Residuals:\n",
       "     Min       1Q   Median       3Q      Max \n",
       "-28.2280  -6.5969  -0.0119   6.5497  31.0108 \n",
       "\n",
       "Coefficients:\n",
       "                 Estimate Std. Error t value Pr(>|t|)    \n",
       "(Intercept)     9.026e+01  3.041e+00  29.677  < 2e-16 ***\n",
       "FS_Total_GM_Vol 3.110e-05  4.412e-06   7.048 3.18e-12 ***\n",
       "---\n",
       "Signif. codes:  0 '***' 0.001 '**' 0.01 '*' 0.05 '.' 0.1 ' ' 1\n",
       "\n",
       "Residual standard error: 9.864 on 1111 degrees of freedom\n",
       "Multiple R-squared:  0.0428,\tAdjusted R-squared:  0.04194 \n",
       "F-statistic: 49.68 on 1 and 1111 DF,  p-value: 3.177e-12\n"
      ]
     },
     "metadata": {},
     "output_type": "display_data"
    },
    {
     "data": {
      "text/html": [
       "<dl class=dl-horizontal>\n",
       "\t<dt>(Intercept)</dt>\n",
       "\t\t<dd>90.2564608190942</dd>\n",
       "\t<dt>FS_Total_GM_Vol</dt>\n",
       "\t\t<dd>3.10996547106464e-05</dd>\n",
       "</dl>\n"
      ],
      "text/latex": [
       "\\begin{description*}\n",
       "\\item[(Intercept)] 90.2564608190942\n",
       "\\item[FS\\textbackslash{}\\_Total\\textbackslash{}\\_GM\\textbackslash{}\\_Vol] 3.10996547106464e-05\n",
       "\\end{description*}\n"
      ],
      "text/markdown": [
       "(Intercept)\n",
       ":   90.2564608190942FS_Total_GM_Vol\n",
       ":   3.10996547106464e-05\n",
       "\n"
      ],
      "text/plain": [
       "    (Intercept) FS_Total_GM_Vol \n",
       "   9.025646e+01    3.109965e-05 "
      ]
     },
     "metadata": {},
     "output_type": "display_data"
    },
    {
     "data": {
      "text/html": [
       "<table>\n",
       "<thead><tr><th></th><th scope=col>2.5 %</th><th scope=col>97.5 %</th></tr></thead>\n",
       "<tbody>\n",
       "\t<tr><th scope=row>(Intercept)</th><td>8.428917e+01</td><td>9.622375e+01</td></tr>\n",
       "\t<tr><th scope=row>FS_Total_GM_Vol</th><td>2.244198e-05</td><td>3.975733e-05</td></tr>\n",
       "</tbody>\n",
       "</table>\n"
      ],
      "text/latex": [
       "\\begin{tabular}{r|ll}\n",
       "  & 2.5 \\% & 97.5 \\%\\\\\n",
       "\\hline\n",
       "\t(Intercept) & 8.428917e+01 & 9.622375e+01\\\\\n",
       "\tFS\\_Total\\_GM\\_Vol & 2.244198e-05 & 3.975733e-05\\\\\n",
       "\\end{tabular}\n"
      ],
      "text/markdown": [
       "\n",
       "| <!--/--> | 2.5 % | 97.5 % |\n",
       "|---|---|---|\n",
       "| (Intercept) | 8.428917e+01 | 9.622375e+01 |\n",
       "| FS_Total_GM_Vol | 2.244198e-05 | 3.975733e-05 |\n",
       "\n"
      ],
      "text/plain": [
       "                2.5 %        97.5 %      \n",
       "(Intercept)     8.428917e+01 9.622375e+01\n",
       "FS_Total_GM_Vol 2.244198e-05 3.975733e-05"
      ]
     },
     "metadata": {},
     "output_type": "display_data"
    }
   ],
   "source": [
    "#INSERT CODE\n",
    "GM_Flank_lm <- lm(Flanker_Unadj ~ FS_Total_GM_Vol, d1)\n",
    "summary(GM_Flank_lm) #look at the model\n",
    "coef(GM_Flank_lm) # look at the coefficients\n",
    "confint(GM_Flank_lm) #look at the confidence intervals\n",
    "\n"
   ]
  },
  {
   "cell_type": "markdown",
   "metadata": {
    "id": "OhGk99UYJN6T"
   },
   "source": [
    "$$\n",
    "Y_{flanker} = 90.03 + 3.11 X_{GM volume}\n",
    "$$\n",
    "\n",
    "> Intercept: CI [8.43, 9.62]\n",
    "> GM volume: CI [2.24, 3.98]"
   ]
  },
  {
   "cell_type": "markdown",
   "metadata": {
    "id": "0rSD6W1IJN6U"
   },
   "source": [
    "---\n",
    "## 4. Plotting (2 points)\n",
    "\n",
    "Use `ggplot` to plot the `FS_Total_GM_Vol` variable (x axis) against the `Flanker_Unadj` variable (y axis), as well as the regression line with confidence intervals on the regrssion line. Qualitatively describe what you see. "
   ]
  },
  {
   "cell_type": "code",
   "execution_count": 24,
   "metadata": {
    "id": "csNNtVa-JN6U",
    "outputId": "8002c0d2-d527-40e3-e762-db39b9c27f0e"
   },
   "outputs": [
    {
     "data": {
      "image/png": "[encoded data removed]",
      "text/plain": [
       "plot without title"
      ]
     },
     "metadata": {},
     "output_type": "display_data"
    }
   ],
   "source": [
    "ggplot(d1, aes(x= FS_Total_GM_Vol, y= Flanker_Unadj)) +\n",
    "  geom_point(alpha=0.5, colour= 'purple') +\n",
    "  geom_smooth(method=lm, alpha= 0.4, fill='turquoise', colour='black') +\n",
    "  labs(title = \"Flanker task by grey matter volume\", y=\"Flanker task results\", x= \"Grey matter volume\") +\n",
    "  theme_classic()\n"
   ]
  },
  {
   "cell_type": "markdown",
   "metadata": {
    "id": "0XStcUtnJN6U"
   },
   "source": [
    "> \"Qualitatively describe what you see\"\n",
    "> I see a lot of dots and no CLEAR relationship. There is a slight positive correlation (R=~0.21) which is very weak. "
   ]
  },
  {
   "cell_type": "markdown",
   "metadata": {
    "id": "jdNxIM6lJN6V"
   },
   "source": [
    "---\n",
    "\n",
    "## 5. Reflection (1 point)\n",
    "\n",
    "What do you conclude based on the analyses above?"
   ]
  },
  {
   "cell_type": "markdown",
   "metadata": {
    "id": "AqRpqLKAJN6V"
   },
   "source": [
    "> There is a slight correlation between the two variables.  \n",
    "> "
   ]
  },
  {
   "cell_type": "markdown",
   "metadata": {
    "id": "3EgzqKyDJN6V"
   },
   "source": [
    "**DUE:** 5pm EST, March 4, 2022"
   ]
  },
  {
   "cell_type": "markdown",
   "metadata": {
    "id": "FJfHZOv2JN6V"
   },
   "source": [
    "**IMPORTANT** Did you collaborate with anyone on this assignment? If so, list their names here. \n",
    "> *Someone's Name*"
   ]
  }
 ],
 "metadata": {
  "colab": {
   "name": "Homework4_solutions.ipynb",
   "provenance": []
  },
  "kernelspec": {
   "display_name": "R",
   "language": "R",
   "name": "ir"
  },
  "language_info": {
   "codemirror_mode": "r",
   "file_extension": ".r",
   "mimetype": "text/x-r-source",
   "name": "R",
   "pygments_lexer": "r",
   "version": "3.6.1"
  }
 },
 "nbformat": 4,
 "nbformat_minor": 1
}
