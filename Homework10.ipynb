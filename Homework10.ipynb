{
 "cells": [
  {
   "cell_type": "markdown",
   "id": "614c6a4a",
   "metadata": {},
   "source": [
    "# Homework 10: Model selection"
   ]
  },
  {
   "cell_type": "markdown",
   "id": "7e861f62",
   "metadata": {},
   "source": [
    "This homework is designed to give you practice implementing model selection techniques, including best subset selection and forward/backward stepwise selection.\n",
    "\n",
    "You won't need to load in any data for this homework, we will be simulating our own.\n",
    "\n",
    "> Helpful tutorial: https://coaxlab.github.io/Data-Explorations/notebooks/selecting-the-best-model.html"
   ]
  },
  {
   "cell_type": "markdown",
   "id": "b065256e",
   "metadata": {},
   "source": [
    "---\n",
    "## 1. Best subset selection (4 points)"
   ]
  },
  {
   "cell_type": "markdown",
   "id": "bfe412c5",
   "metadata": {},
   "source": [
    "In this question, we will first generate simulated data, and then use it to perform best subset selection.\n",
    "\n",
    "a) Use `rnorm()` to generate a dataset including a predictor $X$ of length $n = 100$ and a noise vector $\\epsilon$ of length $n = 100$. Generate data for a response variable $Y$ of length $n = 100$ according to the model\n",
    "\n",
    "$Y = \\beta_0 + \\beta_1X + \\beta_2X^2 + \\beta_3X^3 + \\epsilon$\n",
    "\n",
    "where $\\beta_0$, $\\beta_1$, $\\beta_2$, and $\\beta_3$ are constants of your choice.\n"
   ]
  },
  {
   "cell_type": "code",
   "execution_count": 8,
   "id": "660d234a",
   "metadata": {},
   "outputs": [],
   "source": [
    "#load necessary packages\n",
    "#install.packages(\"leaps\")\n",
    "library(leaps)\n",
    "library(tidyverse)\n",
    "library(ggplot2)"
   ]
  },
  {
   "cell_type": "code",
   "execution_count": 9,
   "id": "82a01047",
   "metadata": {
    "vscode": {
     "languageId": "r"
    }
   },
   "outputs": [
    {
     "data": {
      "text/html": [
       "<table class=\"dataframe\">\n",
       "<caption>A data.frame: 6 × 2</caption>\n",
       "<thead>\n",
       "\t<tr><th></th><th scope=col>Y</th><th scope=col>X</th></tr>\n",
       "\t<tr><th></th><th scope=col>&lt;dbl&gt;</th><th scope=col>&lt;dbl&gt;</th></tr>\n",
       "</thead>\n",
       "<tbody>\n",
       "\t<tr><th scope=row>1</th><td> 5.120564</td><td>-0.1450469</td></tr>\n",
       "\t<tr><th scope=row>2</th><td>10.305126</td><td> 0.2913580</td></tr>\n",
       "\t<tr><th scope=row>3</th><td> 6.297996</td><td> 0.0937974</td></tr>\n",
       "\t<tr><th scope=row>4</th><td> 4.328160</td><td>-0.1273679</td></tr>\n",
       "\t<tr><th scope=row>5</th><td>15.998228</td><td>-0.8468310</td></tr>\n",
       "\t<tr><th scope=row>6</th><td> 7.418131</td><td> 0.1411659</td></tr>\n",
       "</tbody>\n",
       "</table>\n"
      ],
      "text/latex": [
       "A data.frame: 6 × 2\n",
       "\\begin{tabular}{r|ll}\n",
       "  & Y & X\\\\\n",
       "  & <dbl> & <dbl>\\\\\n",
       "\\hline\n",
       "\t1 &  5.120564 & -0.1450469\\\\\n",
       "\t2 & 10.305126 &  0.2913580\\\\\n",
       "\t3 &  6.297996 &  0.0937974\\\\\n",
       "\t4 &  4.328160 & -0.1273679\\\\\n",
       "\t5 & 15.998228 & -0.8468310\\\\\n",
       "\t6 &  7.418131 &  0.1411659\\\\\n",
       "\\end{tabular}\n"
      ],
      "text/markdown": [
       "\n",
       "A data.frame: 6 × 2\n",
       "\n",
       "| <!--/--> | Y &lt;dbl&gt; | X &lt;dbl&gt; |\n",
       "|---|---|---|\n",
       "| 1 |  5.120564 | -0.1450469 |\n",
       "| 2 | 10.305126 |  0.2913580 |\n",
       "| 3 |  6.297996 |  0.0937974 |\n",
       "| 4 |  4.328160 | -0.1273679 |\n",
       "| 5 | 15.998228 | -0.8468310 |\n",
       "| 6 |  7.418131 |  0.1411659 |\n",
       "\n"
      ],
      "text/plain": [
       "  Y         X         \n",
       "1  5.120564 -0.1450469\n",
       "2 10.305126  0.2913580\n",
       "3  6.297996  0.0937974\n",
       "4  4.328160 -0.1273679\n",
       "5 15.998228 -0.8468310\n",
       "6  7.418131  0.1411659"
      ]
     },
     "metadata": {},
     "output_type": "display_data"
    }
   ],
   "source": [
    "set.seed(73)\n",
    "\n",
    "X   <-  rnorm(100) # Of the predictor X\n",
    "eps <-  rnorm(100)\n",
    "sample_size = 100\n",
    "\n",
    "beta_n = 5 #my birth month\n",
    "beta_1 = 7 #EG's birthmonth\n",
    "beta_2 = 35 #n*1\n",
    "beta_3 = 12 #n+1\n",
    "\n",
    "Y = beta_n + beta_1*X + beta_2*(X^2) + beta_3*(X^3) + eps\n",
    "\n",
    "df <- data.frame(Y, X)\n",
    "head(df)\n",
    "\n"
   ]
  },
  {
   "cell_type": "markdown",
   "id": "19065c60",
   "metadata": {},
   "source": [
    "b) Use `regsubsets()` to perform best subset selection to determine the best model that contains the predictor variables $X$, $X^2$, . . . , $X^{10}$. Print the model summary.\n",
    "\n",
    "For this you will need to install and load the _leaps_ library."
   ]
  },
  {
   "cell_type": "code",
   "execution_count": 10,
   "id": "2d0ea51f",
   "metadata": {
    "vscode": {
     "languageId": "r"
    }
   },
   "outputs": [
    {
     "data": {
      "text/html": [
       "<table class=\"dataframe\">\n",
       "<caption>A data.frame: 6 × 11</caption>\n",
       "<thead>\n",
       "\t<tr><th></th><th scope=col>Y</th><th scope=col>X</th><th scope=col>X2</th><th scope=col>X3</th><th scope=col>X4</th><th scope=col>X5</th><th scope=col>X6</th><th scope=col>X7</th><th scope=col>X8</th><th scope=col>X9</th><th scope=col>X10</th></tr>\n",
       "\t<tr><th></th><th scope=col>&lt;dbl&gt;</th><th scope=col>&lt;dbl&gt;</th><th scope=col>&lt;dbl&gt;</th><th scope=col>&lt;dbl&gt;</th><th scope=col>&lt;dbl&gt;</th><th scope=col>&lt;dbl&gt;</th><th scope=col>&lt;dbl&gt;</th><th scope=col>&lt;dbl&gt;</th><th scope=col>&lt;dbl&gt;</th><th scope=col>&lt;dbl&gt;</th><th scope=col>&lt;dbl&gt;</th></tr>\n",
       "</thead>\n",
       "<tbody>\n",
       "\t<tr><th scope=row>1</th><td> 5.120564</td><td>-0.1450469</td><td>0.021038606</td><td>-0.0030515848</td><td>4.426229e-04</td><td>-6.420109e-05</td><td>9.312170e-06</td><td>-1.350701e-06</td><td>1.959151e-07</td><td>-2.841687e-08</td><td>4.121780e-09</td></tr>\n",
       "\t<tr><th scope=row>2</th><td>10.305126</td><td> 0.2913580</td><td>0.084889487</td><td> 0.0247332316</td><td>7.206225e-03</td><td> 2.099591e-03</td><td>6.117327e-04</td><td> 1.782332e-04</td><td>5.192968e-05</td><td> 1.513013e-05</td><td>4.408284e-06</td></tr>\n",
       "\t<tr><th scope=row>3</th><td> 6.297996</td><td> 0.0937974</td><td>0.008797953</td><td> 0.0008252252</td><td>7.740398e-05</td><td> 7.260292e-06</td><td>6.809966e-07</td><td> 6.387571e-08</td><td>5.991376e-09</td><td> 5.619755e-10</td><td>5.271184e-11</td></tr>\n",
       "\t<tr><th scope=row>4</th><td> 4.328160</td><td>-0.1273679</td><td>0.016222579</td><td>-0.0020662356</td><td>2.631721e-04</td><td>-3.351967e-05</td><td>4.269330e-06</td><td>-5.437755e-07</td><td>6.925954e-08</td><td>-8.821441e-09</td><td>1.123568e-09</td></tr>\n",
       "\t<tr><th scope=row>5</th><td>15.998228</td><td>-0.8468310</td><td>0.717122826</td><td>-0.6072818754</td><td>5.142651e-01</td><td>-4.354957e-01</td><td>3.687913e-01</td><td>-3.123039e-01</td><td>2.644686e-01</td><td>-2.239603e-01</td><td>1.896565e-01</td></tr>\n",
       "\t<tr><th scope=row>6</th><td> 7.418131</td><td> 0.1411659</td><td>0.019927799</td><td> 0.0028131249</td><td>3.971172e-04</td><td> 5.605939e-05</td><td>7.913672e-06</td><td> 1.117140e-06</td><td>1.577021e-07</td><td> 2.226215e-08</td><td>3.142655e-09</td></tr>\n",
       "</tbody>\n",
       "</table>\n"
      ],
      "text/latex": [
       "A data.frame: 6 × 11\n",
       "\\begin{tabular}{r|lllllllllll}\n",
       "  & Y & X & X2 & X3 & X4 & X5 & X6 & X7 & X8 & X9 & X10\\\\\n",
       "  & <dbl> & <dbl> & <dbl> & <dbl> & <dbl> & <dbl> & <dbl> & <dbl> & <dbl> & <dbl> & <dbl>\\\\\n",
       "\\hline\n",
       "\t1 &  5.120564 & -0.1450469 & 0.021038606 & -0.0030515848 & 4.426229e-04 & -6.420109e-05 & 9.312170e-06 & -1.350701e-06 & 1.959151e-07 & -2.841687e-08 & 4.121780e-09\\\\\n",
       "\t2 & 10.305126 &  0.2913580 & 0.084889487 &  0.0247332316 & 7.206225e-03 &  2.099591e-03 & 6.117327e-04 &  1.782332e-04 & 5.192968e-05 &  1.513013e-05 & 4.408284e-06\\\\\n",
       "\t3 &  6.297996 &  0.0937974 & 0.008797953 &  0.0008252252 & 7.740398e-05 &  7.260292e-06 & 6.809966e-07 &  6.387571e-08 & 5.991376e-09 &  5.619755e-10 & 5.271184e-11\\\\\n",
       "\t4 &  4.328160 & -0.1273679 & 0.016222579 & -0.0020662356 & 2.631721e-04 & -3.351967e-05 & 4.269330e-06 & -5.437755e-07 & 6.925954e-08 & -8.821441e-09 & 1.123568e-09\\\\\n",
       "\t5 & 15.998228 & -0.8468310 & 0.717122826 & -0.6072818754 & 5.142651e-01 & -4.354957e-01 & 3.687913e-01 & -3.123039e-01 & 2.644686e-01 & -2.239603e-01 & 1.896565e-01\\\\\n",
       "\t6 &  7.418131 &  0.1411659 & 0.019927799 &  0.0028131249 & 3.971172e-04 &  5.605939e-05 & 7.913672e-06 &  1.117140e-06 & 1.577021e-07 &  2.226215e-08 & 3.142655e-09\\\\\n",
       "\\end{tabular}\n"
      ],
      "text/markdown": [
       "\n",
       "A data.frame: 6 × 11\n",
       "\n",
       "| <!--/--> | Y &lt;dbl&gt; | X &lt;dbl&gt; | X2 &lt;dbl&gt; | X3 &lt;dbl&gt; | X4 &lt;dbl&gt; | X5 &lt;dbl&gt; | X6 &lt;dbl&gt; | X7 &lt;dbl&gt; | X8 &lt;dbl&gt; | X9 &lt;dbl&gt; | X10 &lt;dbl&gt; |\n",
       "|---|---|---|---|---|---|---|---|---|---|---|---|\n",
       "| 1 |  5.120564 | -0.1450469 | 0.021038606 | -0.0030515848 | 4.426229e-04 | -6.420109e-05 | 9.312170e-06 | -1.350701e-06 | 1.959151e-07 | -2.841687e-08 | 4.121780e-09 |\n",
       "| 2 | 10.305126 |  0.2913580 | 0.084889487 |  0.0247332316 | 7.206225e-03 |  2.099591e-03 | 6.117327e-04 |  1.782332e-04 | 5.192968e-05 |  1.513013e-05 | 4.408284e-06 |\n",
       "| 3 |  6.297996 |  0.0937974 | 0.008797953 |  0.0008252252 | 7.740398e-05 |  7.260292e-06 | 6.809966e-07 |  6.387571e-08 | 5.991376e-09 |  5.619755e-10 | 5.271184e-11 |\n",
       "| 4 |  4.328160 | -0.1273679 | 0.016222579 | -0.0020662356 | 2.631721e-04 | -3.351967e-05 | 4.269330e-06 | -5.437755e-07 | 6.925954e-08 | -8.821441e-09 | 1.123568e-09 |\n",
       "| 5 | 15.998228 | -0.8468310 | 0.717122826 | -0.6072818754 | 5.142651e-01 | -4.354957e-01 | 3.687913e-01 | -3.123039e-01 | 2.644686e-01 | -2.239603e-01 | 1.896565e-01 |\n",
       "| 6 |  7.418131 |  0.1411659 | 0.019927799 |  0.0028131249 | 3.971172e-04 |  5.605939e-05 | 7.913672e-06 |  1.117140e-06 | 1.577021e-07 |  2.226215e-08 | 3.142655e-09 |\n",
       "\n"
      ],
      "text/plain": [
       "  Y         X          X2          X3            X4           X5           \n",
       "1  5.120564 -0.1450469 0.021038606 -0.0030515848 4.426229e-04 -6.420109e-05\n",
       "2 10.305126  0.2913580 0.084889487  0.0247332316 7.206225e-03  2.099591e-03\n",
       "3  6.297996  0.0937974 0.008797953  0.0008252252 7.740398e-05  7.260292e-06\n",
       "4  4.328160 -0.1273679 0.016222579 -0.0020662356 2.631721e-04 -3.351967e-05\n",
       "5 15.998228 -0.8468310 0.717122826 -0.6072818754 5.142651e-01 -4.354957e-01\n",
       "6  7.418131  0.1411659 0.019927799  0.0028131249 3.971172e-04  5.605939e-05\n",
       "  X6           X7            X8           X9            X10         \n",
       "1 9.312170e-06 -1.350701e-06 1.959151e-07 -2.841687e-08 4.121780e-09\n",
       "2 6.117327e-04  1.782332e-04 5.192968e-05  1.513013e-05 4.408284e-06\n",
       "3 6.809966e-07  6.387571e-08 5.991376e-09  5.619755e-10 5.271184e-11\n",
       "4 4.269330e-06 -5.437755e-07 6.925954e-08 -8.821441e-09 1.123568e-09\n",
       "5 3.687913e-01 -3.123039e-01 2.644686e-01 -2.239603e-01 1.896565e-01\n",
       "6 7.913672e-06  1.117140e-06 1.577021e-07  2.226215e-08 3.142655e-09"
      ]
     },
     "metadata": {},
     "output_type": "display_data"
    },
    {
     "data": {
      "text/plain": [
       "Subset selection object\n",
       "Call: regsubsets.formula(Y ~ ., df, nvmax = 10)\n",
       "10 Variables  (and intercept)\n",
       "    Forced in Forced out\n",
       "X       FALSE      FALSE\n",
       "X2      FALSE      FALSE\n",
       "X3      FALSE      FALSE\n",
       "X4      FALSE      FALSE\n",
       "X5      FALSE      FALSE\n",
       "X6      FALSE      FALSE\n",
       "X7      FALSE      FALSE\n",
       "X8      FALSE      FALSE\n",
       "X9      FALSE      FALSE\n",
       "X10     FALSE      FALSE\n",
       "1 subsets of each size up to 10\n",
       "Selection Algorithm: exhaustive\n",
       "          X   X2  X3  X4  X5  X6  X7  X8  X9  X10\n",
       "1  ( 1 )  \" \" \" \" \" \" \" \" \"*\" \" \" \" \" \" \" \" \" \" \"\n",
       "2  ( 1 )  \" \" \"*\" \"*\" \" \" \" \" \" \" \" \" \" \" \" \" \" \"\n",
       "3  ( 1 )  \"*\" \"*\" \"*\" \" \" \" \" \" \" \" \" \" \" \" \" \" \"\n",
       "4  ( 1 )  \"*\" \"*\" \"*\" \" \" \"*\" \" \" \" \" \" \" \" \" \" \"\n",
       "5  ( 1 )  \"*\" \"*\" \"*\" \" \" \" \" \" \" \"*\" \" \" \" \" \"*\"\n",
       "6  ( 1 )  \"*\" \"*\" \"*\" \" \" \"*\" \" \" \"*\" \" \" \"*\" \" \"\n",
       "7  ( 1 )  \"*\" \"*\" \"*\" \" \" \"*\" \" \" \"*\" \"*\" \" \" \"*\"\n",
       "8  ( 1 )  \"*\" \"*\" \"*\" \"*\" \"*\" \"*\" \"*\" \"*\" \" \" \" \"\n",
       "9  ( 1 )  \"*\" \"*\" \"*\" \"*\" \"*\" \"*\" \"*\" \"*\" \" \" \"*\"\n",
       "10  ( 1 ) \"*\" \"*\" \"*\" \"*\" \"*\" \"*\" \"*\" \"*\" \"*\" \"*\""
      ]
     },
     "metadata": {},
     "output_type": "display_data"
    }
   ],
   "source": [
    "#loop for the X^i data\n",
    "for (i in 2:10) {\n",
    "  df[paste0(\"X\",i)] <- df$X^i \n",
    "}\n",
    "head(df)\n",
    "\n",
    "library(leaps)\n",
    "regfit.full <- regsubsets(Y ~ ., df, nvmax=10)\n",
    "reg.summary <- summary(regfit.full)\n",
    "reg.summary\n"
   ]
  },
  {
   "cell_type": "markdown",
   "id": "7046cb95",
   "metadata": {
    "vscode": {
     "languageId": "r"
    }
   },
   "source": [
    "'\"# Note: if your model summary doesn't show up when viewing your notebook on github, copy and paste the output below.\n",
    "\"'Otherwise you can either delete this cell or leave it blank.\n",
    "\n",
    "```\n",
    "# Subset selection object\n",
    "Call: regsubsets.formula(Y ~ ., df, nvmax = 10)\n",
    "10 Variables  (and intercept)\n",
    "    Forced in Forced out\n",
    "X       FALSE      FALSE\n",
    "X2      FALSE      FALSE\n",
    "X3      FALSE      FALSE\n",
    "X4      FALSE      FALSE\n",
    "X5      FALSE      FALSE\n",
    "X6      FALSE      FALSE\n",
    "X7      FALSE      FALSE\n",
    "X8      FALSE      FALSE\n",
    "X9      FALSE      FALSE\n",
    "X10     FALSE      FALSE\n",
    "1 subsets of each size up to 10\n",
    "Selection Algorithm: exhaustive\n",
    "          X   X2  X3  X4  X5  X6  X7  X8  X9  X10\n",
    "1  ( 1 )  \" \" \" \" \" \" \" \" \"*\" \" \" \" \" \" \" \" \" \" \"\n",
    "2  ( 1 )  \" \" \"*\" \"*\" \" \" \" \" \" \" \" \" \" \" \" \" \" \"\n",
    "3  ( 1 )  \"*\" \"*\" \"*\" \" \" \" \" \" \" \" \" \" \" \" \" \" \"\n",
    "4  ( 1 )  \"*\" \"*\" \"*\" \" \" \"*\" \" \" \" \" \" \" \" \" \" \"\n",
    "5  ( 1 )  \"*\" \"*\" \"*\" \" \" \" \" \" \" \"*\" \" \" \" \" \"*\"\n",
    "6  ( 1 )  \"*\" \"*\" \"*\" \" \" \"*\" \" \" \"*\" \" \" \"*\" \" \"\n",
    "7  ( 1 )  \"*\" \"*\" \"*\" \" \" \"*\" \" \" \"*\" \"*\" \" \" \"*\"\n",
    "8  ( 1 )  \"*\" \"*\" \"*\" \"*\" \"*\" \"*\" \"*\" \"*\" \" \" \" \"\n",
    "9  ( 1 )  \"*\" \"*\" \"*\" \"*\" \"*\" \"*\" \"*\" \"*\" \" \" \"*\"\n",
    "10  ( 1 ) \"*\" \"*\" \"*\" \"*\" \"*\" \"*\" \"*\" \"*\" \"*\" \"*\"\n",
    "\n",
    "```"
   ]
  },
  {
   "cell_type": "markdown",
   "id": "3528231b",
   "metadata": {},
   "source": [
    "c) Plot the Mallows' Cp, Bayesian Information Criteria (BIC) and the adjusted coefficient of determination, $R^2$, for each model tested. Which is the best model? Report the coefficients of the best model. "
   ]
  },
  {
   "cell_type": "code",
   "execution_count": 17,
   "id": "6a817913",
   "metadata": {
    "vscode": {
     "languageId": "r"
    }
   },
   "outputs": [
    {
     "name": "stdout",
     "output_type": "stream",
     "text": [
      "[1] 8.175201\n"
     ]
    },
    {
     "data": {
      "text/html": [
       "8"
      ],
      "text/latex": [
       "8"
      ],
      "text/markdown": [
       "8"
      ],
      "text/plain": [
       "[1] 8"
      ]
     },
     "metadata": {},
     "output_type": "display_data"
    },
    {
     "data": {
      "text/html": [
       "<style>\n",
       ".dl-inline {width: auto; margin:0; padding: 0}\n",
       ".dl-inline>dt, .dl-inline>dd {float: none; width: auto; display: inline-block}\n",
       ".dl-inline>dt::after {content: \":\\0020\"; padding-right: .5ex}\n",
       ".dl-inline>dt:not(:first-of-type) {padding-left: .5ex}\n",
       "</style><dl class=dl-inline><dt>(Intercept)</dt><dd>4.81059699438149</dd><dt>X</dt><dd>6.26349139755578</dd><dt>X2</dt><dd>35.8966981182912</dd><dt>X3</dt><dd>13.8364770161365</dd><dt>X4</dt><dd>-0.996897919585917</dd><dt>X5</dt><dd>-0.941862263368749</dd><dt>X6</dt><dd>0.386137830232056</dd><dt>X7</dt><dd>0.129330834552517</dd><dt>X8</dt><dd>-0.0481580443072431</dd></dl>\n"
      ],
      "text/latex": [
       "\\begin{description*}\n",
       "\\item[(Intercept)] 4.81059699438149\n",
       "\\item[X] 6.26349139755578\n",
       "\\item[X2] 35.8966981182912\n",
       "\\item[X3] 13.8364770161365\n",
       "\\item[X4] -0.996897919585917\n",
       "\\item[X5] -0.941862263368749\n",
       "\\item[X6] 0.386137830232056\n",
       "\\item[X7] 0.129330834552517\n",
       "\\item[X8] -0.0481580443072431\n",
       "\\end{description*}\n"
      ],
      "text/markdown": [
       "(Intercept)\n",
       ":   4.81059699438149X\n",
       ":   6.26349139755578X2\n",
       ":   35.8966981182912X3\n",
       ":   13.8364770161365X4\n",
       ":   -0.996897919585917X5\n",
       ":   -0.941862263368749X6\n",
       ":   0.386137830232056X7\n",
       ":   0.129330834552517X8\n",
       ":   -0.0481580443072431\n",
       "\n"
      ],
      "text/plain": [
       "(Intercept)           X          X2          X3          X4          X5 \n",
       " 4.81059699  6.26349140 35.89669812 13.83647702 -0.99689792 -0.94186226 \n",
       "         X6          X7          X8 \n",
       " 0.38613783  0.12933083 -0.04815804 "
      ]
     },
     "metadata": {},
     "output_type": "display_data"
    },
    {
     "data": {
      "image/png": "[encoded data removed]",
      "text/plain": [
       "plot without title"
      ]
     },
     "metadata": {
      "image/png": {
       "height": 420,
       "width": 420
      }
     },
     "output_type": "display_data"
    },
    {
     "name": "stdout",
     "output_type": "stream",
     "text": [
      "[1] -917.7613\n"
     ]
    },
    {
     "data": {
      "text/html": [
       "3"
      ],
      "text/latex": [
       "3"
      ],
      "text/markdown": [
       "3"
      ],
      "text/plain": [
       "[1] 3"
      ]
     },
     "metadata": {},
     "output_type": "display_data"
    },
    {
     "data": {
      "text/html": [
       "<style>\n",
       ".dl-inline {width: auto; margin:0; padding: 0}\n",
       ".dl-inline>dt, .dl-inline>dd {float: none; width: auto; display: inline-block}\n",
       ".dl-inline>dt::after {content: \":\\0020\"; padding-right: .5ex}\n",
       ".dl-inline>dt:not(:first-of-type) {padding-left: .5ex}\n",
       "</style><dl class=dl-inline><dt>(Intercept)</dt><dd>4.91805179874837</dd><dt>X</dt><dd>7.07934762270283</dd><dt>X2</dt><dd>35.0516264435887</dd><dt>X3</dt><dd>11.9908498033729</dd></dl>\n"
      ],
      "text/latex": [
       "\\begin{description*}\n",
       "\\item[(Intercept)] 4.91805179874837\n",
       "\\item[X] 7.07934762270283\n",
       "\\item[X2] 35.0516264435887\n",
       "\\item[X3] 11.9908498033729\n",
       "\\end{description*}\n"
      ],
      "text/markdown": [
       "(Intercept)\n",
       ":   4.91805179874837X\n",
       ":   7.07934762270283X2\n",
       ":   35.0516264435887X3\n",
       ":   11.9908498033729\n",
       "\n"
      ],
      "text/plain": [
       "(Intercept)           X          X2          X3 \n",
       "   4.918052    7.079348   35.051626   11.990850 "
      ]
     },
     "metadata": {},
     "output_type": "display_data"
    },
    {
     "data": {
      "image/png": "[encoded data removed]",
      "text/plain": [
       "plot without title"
      ]
     },
     "metadata": {
      "image/png": {
       "height": 420,
       "width": 420
      }
     },
     "output_type": "display_data"
    },
    {
     "name": "stdout",
     "output_type": "stream",
     "text": [
      "[1] 0.9999178\n"
     ]
    },
    {
     "data": {
      "text/html": [
       "8"
      ],
      "text/latex": [
       "8"
      ],
      "text/markdown": [
       "8"
      ],
      "text/plain": [
       "[1] 8"
      ]
     },
     "metadata": {},
     "output_type": "display_data"
    },
    {
     "data": {
      "text/html": [
       "<style>\n",
       ".dl-inline {width: auto; margin:0; padding: 0}\n",
       ".dl-inline>dt, .dl-inline>dd {float: none; width: auto; display: inline-block}\n",
       ".dl-inline>dt::after {content: \":\\0020\"; padding-right: .5ex}\n",
       ".dl-inline>dt:not(:first-of-type) {padding-left: .5ex}\n",
       "</style><dl class=dl-inline><dt>(Intercept)</dt><dd>4.81059699438149</dd><dt>X</dt><dd>6.26349139755578</dd><dt>X2</dt><dd>35.8966981182912</dd><dt>X3</dt><dd>13.8364770161365</dd><dt>X4</dt><dd>-0.996897919585917</dd><dt>X5</dt><dd>-0.941862263368749</dd><dt>X6</dt><dd>0.386137830232056</dd><dt>X7</dt><dd>0.129330834552517</dd><dt>X8</dt><dd>-0.0481580443072431</dd></dl>\n"
      ],
      "text/latex": [
       "\\begin{description*}\n",
       "\\item[(Intercept)] 4.81059699438149\n",
       "\\item[X] 6.26349139755578\n",
       "\\item[X2] 35.8966981182912\n",
       "\\item[X3] 13.8364770161365\n",
       "\\item[X4] -0.996897919585917\n",
       "\\item[X5] -0.941862263368749\n",
       "\\item[X6] 0.386137830232056\n",
       "\\item[X7] 0.129330834552517\n",
       "\\item[X8] -0.0481580443072431\n",
       "\\end{description*}\n"
      ],
      "text/markdown": [
       "(Intercept)\n",
       ":   4.81059699438149X\n",
       ":   6.26349139755578X2\n",
       ":   35.8966981182912X3\n",
       ":   13.8364770161365X4\n",
       ":   -0.996897919585917X5\n",
       ":   -0.941862263368749X6\n",
       ":   0.386137830232056X7\n",
       ":   0.129330834552517X8\n",
       ":   -0.0481580443072431\n",
       "\n"
      ],
      "text/plain": [
       "(Intercept)           X          X2          X3          X4          X5 \n",
       " 4.81059699  6.26349140 35.89669812 13.83647702 -0.99689792 -0.94186226 \n",
       "         X6          X7          X8 \n",
       " 0.38613783  0.12933083 -0.04815804 "
      ]
     },
     "metadata": {},
     "output_type": "display_data"
    },
    {
     "data": {
      "image/png": "[encoded data removed]",
      "text/plain": [
       "plot without title"
      ]
     },
     "metadata": {
      "image/png": {
       "height": 420,
       "width": 420
      }
     },
     "output_type": "display_data"
    }
   ],
   "source": [
    "numvar = 1:length(reg.summary$rss)# Make a vector that lists the number of variables in sequence, from 1 to 19. \n",
    "allfalse = rep(FALSE,length(reg.summary$rss))# Starting point for an indicator that marks the best model choice for each metric.\n",
    "\n",
    "#mallow's cp\n",
    " cp.df <- data.frame(numvar = numvar, cp <- reg.summary$cp, mincp <- allfalse)\n",
    " cp.df$mincp[which.min(reg.summary$cp)] <- TRUE\n",
    " ggplot(cp.df,aes(x=numvar,y=cp,shape=mincp,col=mincp)) + \n",
    "     geom_point(size=3) + theme_light() + scale_x_continuous(breaks=seq(0,10,1)) +\n",
    "     labs(x = \"Number of Variables\", y = \"Mallow's CP\", color=\"Maximum CP\", \n",
    "          shape=\"Maximum CP\", title = \"Mallow's CP by number of variables\")\n",
    "\n",
    "print(min(cp))\n",
    "which.min(cp)\n",
    "coef(regfit.full, which.min(cp))\n",
    "\n",
    "# #bic\n",
    " bic.df <- data.frame(numvar = numvar,bic <- reg.summary$bic, minbic <- allfalse)\n",
    " bic.df$minbic[which.min(reg.summary$bic)] <- TRUE\n",
    " ggplot(bic.df,aes(x=numvar,y=bic,shape=minbic,col=minbic)) + \n",
    "     geom_point(size=3) + theme_light() + scale_x_continuous(breaks=seq(0,10,1)) + \n",
    "     labs(x = \"Number of Variables\", y = \"BIC\", color=\"Minimum BIC\", \n",
    "          shape=\"Minimum BIC\", title = \"Bayesian Information Criteria (BIC) by number of variables\")\n",
    "\n",
    "\n",
    "print(min(bic))\n",
    "which.min(bic)\n",
    "coef(regfit.full, which.min(bic))\n",
    "\n",
    "#adjr2\n",
    "adjr2.df <- data.frame(numvar = numvar, adjr2 <- reg.summary$adjr2, maxadjr2 <- allfalse)\n",
    "adjr2.df$maxadjr2[which.max(reg.summary$adjr2)] <- TRUE\n",
    "ggplot(adjr2.df,aes(x=numvar,y=adjr2,shape=maxadjr2,col=maxadjr2)) + \n",
    "    geom_point(size=3) + theme_light() + scale_x_continuous(breaks=seq(0,10,1)) +\n",
    "    labs(x = \"Number of Variables\", y = 'Adj'~R^2, color='Maximum Adj'~R^2, \n",
    "         shape='Maximum Adj'~R^2, title = \"Adjusted coefficient of determination R^2 by number of variables\")\n",
    "\n",
    "print(max(adjr2))\n",
    "which.max(adjr2)\n",
    "coef(regfit.full, which.max(adjr2))"
   ]
  },
  {
   "cell_type": "markdown",
   "id": "e7f16d76",
   "metadata": {},
   "source": [
    "> *Write your response here* \n",
    "> The Mallow's CP and adjusted R^2 models agree and indicate that for this data, a model including 8 terms would be ideal. and with BIC indicating that 3 terms would be ideal. But the overall performance or the elbows of the plots occur near 2-3 variables. \n",
    ">\n",
    "> The coefficients used to model each ideal model are printed above each of the graphs above alongside their coefficient label. \n",
    "> e.g. for Adjr^2: \n",
    "> Terms: 8\n",
    ">\n",
    ">(Intercept)\n",
    "    4.81059699438149\n",
    "X\n",
    "    6.26349139755578\n",
    "X2\n",
    "    35.8966981182912\n",
    "X3\n",
    "    13.8364770161365\n",
    "X4\n",
    "    -0.996897919585917\n",
    "X5\n",
    "    -0.941862263368749\n",
    "X6\n",
    "    0.386137830232056\n",
    "X7\n",
    "    0.129330834552517\n",
    "X8\n",
    "    -0.0481580443072431\n",
    "\n"
   ]
  },
  {
   "cell_type": "markdown",
   "id": "19d388b0",
   "metadata": {},
   "source": [
    "---\n",
    "## 2. Forward and backwards stepwise selection (3 points)"
   ]
  },
  {
   "cell_type": "markdown",
   "id": "620dc14c",
   "metadata": {},
   "source": [
    "Using the same simulated data from question 1, use forward stepwise selection, and backwards stepwise selections to determine the best model. Again, for both model selection methods, plot the Mallows' Cp, Bayesian Information Criteria (BIC) and the adjusted coefficient of determination, $R^2$, for each model tested. Report the coefficients of the best model. "
   ]
  },
  {
   "cell_type": "markdown",
   "id": "d734954e",
   "metadata": {},
   "source": [
    "a) Forward stepwise selection:"
   ]
  },
  {
   "cell_type": "code",
   "execution_count": 18,
   "id": "8018ba62",
   "metadata": {
    "vscode": {
     "languageId": "r"
    }
   },
   "outputs": [
    {
     "data": {
      "text/plain": [
       "Subset selection object\n",
       "Call: regsubsets.formula(Y ~ ., df, nvmax = 10, method = c(\"forward\"))\n",
       "10 Variables  (and intercept)\n",
       "    Forced in Forced out\n",
       "X       FALSE      FALSE\n",
       "X2      FALSE      FALSE\n",
       "X3      FALSE      FALSE\n",
       "X4      FALSE      FALSE\n",
       "X5      FALSE      FALSE\n",
       "X6      FALSE      FALSE\n",
       "X7      FALSE      FALSE\n",
       "X8      FALSE      FALSE\n",
       "X9      FALSE      FALSE\n",
       "X10     FALSE      FALSE\n",
       "1 subsets of each size up to 10\n",
       "Selection Algorithm: forward\n",
       "          X   X2  X3  X4  X5  X6  X7  X8  X9  X10\n",
       "1  ( 1 )  \" \" \" \" \" \" \" \" \"*\" \" \" \" \" \" \" \" \" \" \"\n",
       "2  ( 1 )  \" \" \"*\" \" \" \" \" \"*\" \" \" \" \" \" \" \" \" \" \"\n",
       "3  ( 1 )  \" \" \"*\" \"*\" \" \" \"*\" \" \" \" \" \" \" \" \" \" \"\n",
       "4  ( 1 )  \"*\" \"*\" \"*\" \" \" \"*\" \" \" \" \" \" \" \" \" \" \"\n",
       "5  ( 1 )  \"*\" \"*\" \"*\" \" \" \"*\" \" \" \" \" \" \" \" \" \"*\"\n",
       "6  ( 1 )  \"*\" \"*\" \"*\" \" \" \"*\" \" \" \"*\" \" \" \" \" \"*\"\n",
       "7  ( 1 )  \"*\" \"*\" \"*\" \" \" \"*\" \" \" \"*\" \"*\" \" \" \"*\"\n",
       "8  ( 1 )  \"*\" \"*\" \"*\" \" \" \"*\" \"*\" \"*\" \"*\" \" \" \"*\"\n",
       "9  ( 1 )  \"*\" \"*\" \"*\" \"*\" \"*\" \"*\" \"*\" \"*\" \" \" \"*\"\n",
       "10  ( 1 ) \"*\" \"*\" \"*\" \"*\" \"*\" \"*\" \"*\" \"*\" \"*\" \"*\""
      ]
     },
     "metadata": {},
     "output_type": "display_data"
    },
    {
     "name": "stdout",
     "output_type": "stream",
     "text": [
      "[1] 8.453594\n"
     ]
    },
    {
     "data": {
      "text/html": [
       "7"
      ],
      "text/latex": [
       "7"
      ],
      "text/markdown": [
       "7"
      ],
      "text/plain": [
       "[1] 7"
      ]
     },
     "metadata": {},
     "output_type": "display_data"
    },
    {
     "data": {
      "text/html": [
       "<style>\n",
       ".dl-inline {width: auto; margin:0; padding: 0}\n",
       ".dl-inline>dt, .dl-inline>dd {float: none; width: auto; display: inline-block}\n",
       ".dl-inline>dt::after {content: \":\\0020\"; padding-right: .5ex}\n",
       ".dl-inline>dt:not(:first-of-type) {padding-left: .5ex}\n",
       "</style><dl class=dl-inline><dt>(Intercept)</dt><dd>4.93124393595711</dd><dt>X</dt><dd>6.40710788258629</dd><dt>X2</dt><dd>35.0207118303964</dd><dt>X3</dt><dd>13.5150156091486</dd><dt>X5</dt><dd>-0.775747437523963</dd><dt>X7</dt><dd>0.105619615307182</dd><dt>X8</dt><dd>0.00899120875827754</dd><dt>X10</dt><dd>-0.00250612218289104</dd></dl>\n"
      ],
      "text/latex": [
       "\\begin{description*}\n",
       "\\item[(Intercept)] 4.93124393595711\n",
       "\\item[X] 6.40710788258629\n",
       "\\item[X2] 35.0207118303964\n",
       "\\item[X3] 13.5150156091486\n",
       "\\item[X5] -0.775747437523963\n",
       "\\item[X7] 0.105619615307182\n",
       "\\item[X8] 0.00899120875827754\n",
       "\\item[X10] -0.00250612218289104\n",
       "\\end{description*}\n"
      ],
      "text/markdown": [
       "(Intercept)\n",
       ":   4.93124393595711X\n",
       ":   6.40710788258629X2\n",
       ":   35.0207118303964X3\n",
       ":   13.5150156091486X5\n",
       ":   -0.775747437523963X7\n",
       ":   0.105619615307182X8\n",
       ":   0.00899120875827754X10\n",
       ":   -0.00250612218289104\n",
       "\n"
      ],
      "text/plain": [
       " (Intercept)            X           X2           X3           X5           X7 \n",
       " 4.931243936  6.407107883 35.020711830 13.515015609 -0.775747438  0.105619615 \n",
       "          X8          X10 \n",
       " 0.008991209 -0.002506122 "
      ]
     },
     "metadata": {},
     "output_type": "display_data"
    },
    {
     "data": {
      "image/png": "[encoded data removed]",
      "text/plain": [
       "plot without title"
      ]
     },
     "metadata": {
      "image/png": {
       "height": 420,
       "width": 420
      }
     },
     "output_type": "display_data"
    },
    {
     "name": "stdout",
     "output_type": "stream",
     "text": [
      "[1] -913.4116\n"
     ]
    },
    {
     "data": {
      "text/html": [
       "4"
      ],
      "text/latex": [
       "4"
      ],
      "text/markdown": [
       "4"
      ],
      "text/plain": [
       "[1] 4"
      ]
     },
     "metadata": {},
     "output_type": "display_data"
    },
    {
     "data": {
      "text/html": [
       "<style>\n",
       ".dl-inline {width: auto; margin:0; padding: 0}\n",
       ".dl-inline>dt, .dl-inline>dd {float: none; width: auto; display: inline-block}\n",
       ".dl-inline>dt::after {content: \":\\0020\"; padding-right: .5ex}\n",
       ".dl-inline>dt:not(:first-of-type) {padding-left: .5ex}\n",
       "</style><dl class=dl-inline><dt>(Intercept)</dt><dd>4.93336502506655</dd><dt>X</dt><dd>7.17509509852589</dd><dt>X2</dt><dd>35.0339892744092</dd><dt>X3</dt><dd>11.9193664961375</dd><dt>X5</dt><dd>0.0090641439361534</dd></dl>\n"
      ],
      "text/latex": [
       "\\begin{description*}\n",
       "\\item[(Intercept)] 4.93336502506655\n",
       "\\item[X] 7.17509509852589\n",
       "\\item[X2] 35.0339892744092\n",
       "\\item[X3] 11.9193664961375\n",
       "\\item[X5] 0.0090641439361534\n",
       "\\end{description*}\n"
      ],
      "text/markdown": [
       "(Intercept)\n",
       ":   4.93336502506655X\n",
       ":   7.17509509852589X2\n",
       ":   35.0339892744092X3\n",
       ":   11.9193664961375X5\n",
       ":   0.0090641439361534\n",
       "\n"
      ],
      "text/plain": [
       " (Intercept)            X           X2           X3           X5 \n",
       " 4.933365025  7.175095099 35.033989274 11.919366496  0.009064144 "
      ]
     },
     "metadata": {},
     "output_type": "display_data"
    },
    {
     "data": {
      "image/png": "[encoded data removed]",
      "text/plain": [
       "plot without title"
      ]
     },
     "metadata": {
      "image/png": {
       "height": 420,
       "width": 420
      }
     },
     "output_type": "display_data"
    },
    {
     "name": "stdout",
     "output_type": "stream",
     "text": [
      "[1] 0.9999174\n"
     ]
    },
    {
     "data": {
      "text/html": [
       "9"
      ],
      "text/latex": [
       "9"
      ],
      "text/markdown": [
       "9"
      ],
      "text/plain": [
       "[1] 9"
      ]
     },
     "metadata": {},
     "output_type": "display_data"
    },
    {
     "data": {
      "text/html": [
       "<style>\n",
       ".dl-inline {width: auto; margin:0; padding: 0}\n",
       ".dl-inline>dt, .dl-inline>dd {float: none; width: auto; display: inline-block}\n",
       ".dl-inline>dt::after {content: \":\\0020\"; padding-right: .5ex}\n",
       ".dl-inline>dt:not(:first-of-type) {padding-left: .5ex}\n",
       "</style><dl class=dl-inline><dt>(Intercept)</dt><dd>4.7447247444008</dd><dt>X</dt><dd>6.2383100542196</dd><dt>X2</dt><dd>36.4516227953663</dd><dt>X3</dt><dd>13.9239610046663</dd><dt>X4</dt><dd>-1.69871887417985</dd><dt>X5</dt><dd>-1.00003312654813</dd><dt>X6</dt><dd>0.68228251238116</dd><dt>X7</dt><dd>0.139419723152754</dd><dt>X8</dt><dd>-0.095812441564137</dd><dt>X10</dt><dd>0.00238626912531651</dd></dl>\n"
      ],
      "text/latex": [
       "\\begin{description*}\n",
       "\\item[(Intercept)] 4.7447247444008\n",
       "\\item[X] 6.2383100542196\n",
       "\\item[X2] 36.4516227953663\n",
       "\\item[X3] 13.9239610046663\n",
       "\\item[X4] -1.69871887417985\n",
       "\\item[X5] -1.00003312654813\n",
       "\\item[X6] 0.68228251238116\n",
       "\\item[X7] 0.139419723152754\n",
       "\\item[X8] -0.095812441564137\n",
       "\\item[X10] 0.00238626912531651\n",
       "\\end{description*}\n"
      ],
      "text/markdown": [
       "(Intercept)\n",
       ":   4.7447247444008X\n",
       ":   6.2383100542196X2\n",
       ":   36.4516227953663X3\n",
       ":   13.9239610046663X4\n",
       ":   -1.69871887417985X5\n",
       ":   -1.00003312654813X6\n",
       ":   0.68228251238116X7\n",
       ":   0.139419723152754X8\n",
       ":   -0.095812441564137X10\n",
       ":   0.00238626912531651\n",
       "\n"
      ],
      "text/plain": [
       " (Intercept)            X           X2           X3           X4           X5 \n",
       " 4.744724744  6.238310054 36.451622795 13.923961005 -1.698718874 -1.000033127 \n",
       "          X6           X7           X8          X10 \n",
       " 0.682282512  0.139419723 -0.095812442  0.002386269 "
      ]
     },
     "metadata": {},
     "output_type": "display_data"
    },
    {
     "data": {
      "image/png": "[encoded data removed]",
      "text/plain": [
       "plot without title"
      ]
     },
     "metadata": {
      "image/png": {
       "height": 420,
       "width": 420
      }
     },
     "output_type": "display_data"
    }
   ],
   "source": [
    "# https://www.rdocumentation.org/packages/leaps/versions/3.1/topics/regsubsets\n",
    "# specify the method\n",
    "\n",
    "#forward model \n",
    "regfit.forward <- regsubsets(Y ~ ., df, nvmax = 10, method = c(\"forward\"))\n",
    "reg.forward.summary <- summary(regfit.forward)\n",
    "reg.forward.summary\n",
    "\n",
    "##Malloy's cp\n",
    "cp.df_forward <- data.frame(numvar = numvar, cp_forward <- reg.forward.summary$cp, \n",
    "                            mincp_forward <- allfalse)\n",
    "cp.df_forward$mincp_forward[which.min(reg.forward.summary$cp)] <- TRUE\n",
    "ggplot(cp.df_forward, aes(x=numvar, y=cp_forward, shape=mincp_forward, col=mincp_forward)) +\n",
    "  geom_point(size=3) + scale_x_continuous(breaks=seq(0,10,1)) +\n",
    "  labs(x = \"Number of Variables\", y = \"Mallow's CP\", color=\"Maximum CP\", shape=\"Maximum CP\",\n",
    "       title = \"Mallow's CP by number of variable --Forward selection\") +\n",
    "  theme_light()\n",
    "\n",
    "print(min(cp_forward))\n",
    "which.min(cp_forward)\n",
    "coef(regfit.forward, which.min(cp_forward))\n",
    "\n",
    "# BIC\n",
    "bic.df_forward <- data.frame(numvar = numvar,bic_forward <- reg.forward.summary$bic, \n",
    "                             minbic_forward <- allfalse)\n",
    "bic.df_forward$minbic_forward[which.min(reg.forward.summary$bic)] <- TRUE\n",
    "ggplot(bic.df_forward,aes(x=numvar,y=bic_forward,shape=minbic_forward,col=minbic_forward)) + \n",
    "  geom_point(size=3) + theme_light() + scale_x_continuous(breaks=seq(0,10,1)) +\n",
    "  labs(x = \"Number of Variables\", y = \"BIC\", color=\"Minimum BIC\", shape=\"Minimum BIC\",\n",
    "       title = \"Bayesian Information Criteria (BIC) by number of variable --forward selection\")\n",
    "\n",
    "print(min(bic_forward))\n",
    "which.min(bic_forward)\n",
    "coef(regfit.forward, which.min(bic_forward))\n",
    "\n",
    "\n",
    "#adjr^2\n",
    "adjr2.df_forward <- data.frame(numvar = numvar, adjr2_forward <- reg.forward.summary$adjr2, \n",
    "                               maxadjr2_forward <- allfalse)\n",
    "adjr2.df_forward$maxadjr2_forward[which.max(reg.forward.summary$adjr2)] <- TRUE\n",
    "ggplot(adjr2.df_forward,aes(x=numvar,y=adjr2_forward,shape=maxadjr2_forward,col=maxadjr2_forward)) + \n",
    "  geom_point(size=3) + theme_light() + scale_x_continuous(breaks=seq(0,10,1)) +\n",
    "  labs(x = \"Number of Variables\", y = 'Adj'~R^2, color='Maximum Adj'~R^2, shape='Maximum Adj'~R^2,\n",
    "       title = \"Adjusted coefficient of determination R^2 by number of variable --forward selction\")\n",
    "print(max(adjr2_forward))\n",
    "which.max(adjr2_forward)\n",
    "coef(regfit.full, which.max(adjr2_forward))"
   ]
  },
  {
   "cell_type": "code",
   "execution_count": null,
   "id": "861cedcd",
   "metadata": {
    "vscode": {
     "languageId": "r"
    }
   },
   "outputs": [],
   "source": [
    "# Note: if your model summary doesn't show up when viewing your notebook on github, copy and paste the output below.\n",
    "# Otherwise you can either delete this cell or leave it blank.\n",
    "\n",
    "```\n",
    "# paste here\n",
    "\n",
    "```"
   ]
  },
  {
   "cell_type": "markdown",
   "id": "955e381d",
   "metadata": {},
   "source": [
    "b) Backwards stepwise selection:"
   ]
  },
  {
   "cell_type": "code",
   "execution_count": 30,
   "id": "c9a50756",
   "metadata": {
    "vscode": {
     "languageId": "r"
    }
   },
   "outputs": [
    {
     "data": {
      "text/plain": [
       "Subset selection object\n",
       "Call: regsubsets.formula(Y ~ ., df, nvmax = 10, method = c(\"backward\"))\n",
       "10 Variables  (and intercept)\n",
       "    Forced in Forced out\n",
       "X       FALSE      FALSE\n",
       "X2      FALSE      FALSE\n",
       "X3      FALSE      FALSE\n",
       "X4      FALSE      FALSE\n",
       "X5      FALSE      FALSE\n",
       "X6      FALSE      FALSE\n",
       "X7      FALSE      FALSE\n",
       "X8      FALSE      FALSE\n",
       "X9      FALSE      FALSE\n",
       "X10     FALSE      FALSE\n",
       "1 subsets of each size up to 10\n",
       "Selection Algorithm: backward\n",
       "          X   X2  X3  X4  X5  X6  X7  X8  X9  X10\n",
       "1  ( 1 )  \" \" \" \" \"*\" \" \" \" \" \" \" \" \" \" \" \" \" \" \"\n",
       "2  ( 1 )  \" \" \"*\" \"*\" \" \" \" \" \" \" \" \" \" \" \" \" \" \"\n",
       "3  ( 1 )  \"*\" \"*\" \"*\" \" \" \" \" \" \" \" \" \" \" \" \" \" \"\n",
       "4  ( 1 )  \"*\" \"*\" \"*\" \" \" \" \" \" \" \"*\" \" \" \" \" \" \"\n",
       "5  ( 1 )  \"*\" \"*\" \"*\" \" \" \" \" \" \" \"*\" \"*\" \" \" \" \"\n",
       "6  ( 1 )  \"*\" \"*\" \"*\" \" \" \" \" \"*\" \"*\" \"*\" \" \" \" \"\n",
       "7  ( 1 )  \"*\" \"*\" \"*\" \" \" \"*\" \"*\" \"*\" \"*\" \" \" \" \"\n",
       "8  ( 1 )  \"*\" \"*\" \"*\" \"*\" \"*\" \"*\" \"*\" \"*\" \" \" \" \"\n",
       "9  ( 1 )  \"*\" \"*\" \"*\" \"*\" \"*\" \"*\" \"*\" \"*\" \" \" \"*\"\n",
       "10  ( 1 ) \"*\" \"*\" \"*\" \"*\" \"*\" \"*\" \"*\" \"*\" \"*\" \"*\""
      ]
     },
     "metadata": {},
     "output_type": "display_data"
    },
    {
     "name": "stdout",
     "output_type": "stream",
     "text": [
      "[1] 8.175201\n"
     ]
    },
    {
     "data": {
      "text/html": [
       "8"
      ],
      "text/latex": [
       "8"
      ],
      "text/markdown": [
       "8"
      ],
      "text/plain": [
       "[1] 8"
      ]
     },
     "metadata": {},
     "output_type": "display_data"
    },
    {
     "data": {
      "text/html": [
       "<style>\n",
       ".dl-inline {width: auto; margin:0; padding: 0}\n",
       ".dl-inline>dt, .dl-inline>dd {float: none; width: auto; display: inline-block}\n",
       ".dl-inline>dt::after {content: \":\\0020\"; padding-right: .5ex}\n",
       ".dl-inline>dt:not(:first-of-type) {padding-left: .5ex}\n",
       "</style><dl class=dl-inline><dt>(Intercept)</dt><dd>4.81059699438153</dd><dt>X</dt><dd>6.26349139755577</dd><dt>X2</dt><dd>35.8966981182912</dd><dt>X3</dt><dd>13.8364770161365</dd><dt>X4</dt><dd>-0.996897919585949</dd><dt>X5</dt><dd>-0.941862263368752</dd><dt>X6</dt><dd>0.386137830232065</dd><dt>X7</dt><dd>0.129330834552519</dd><dt>X8</dt><dd>-0.0481580443072441</dd></dl>\n"
      ],
      "text/latex": [
       "\\begin{description*}\n",
       "\\item[(Intercept)] 4.81059699438153\n",
       "\\item[X] 6.26349139755577\n",
       "\\item[X2] 35.8966981182912\n",
       "\\item[X3] 13.8364770161365\n",
       "\\item[X4] -0.996897919585949\n",
       "\\item[X5] -0.941862263368752\n",
       "\\item[X6] 0.386137830232065\n",
       "\\item[X7] 0.129330834552519\n",
       "\\item[X8] -0.0481580443072441\n",
       "\\end{description*}\n"
      ],
      "text/markdown": [
       "(Intercept)\n",
       ":   4.81059699438153X\n",
       ":   6.26349139755577X2\n",
       ":   35.8966981182912X3\n",
       ":   13.8364770161365X4\n",
       ":   -0.996897919585949X5\n",
       ":   -0.941862263368752X6\n",
       ":   0.386137830232065X7\n",
       ":   0.129330834552519X8\n",
       ":   -0.0481580443072441\n",
       "\n"
      ],
      "text/plain": [
       "(Intercept)           X          X2          X3          X4          X5 \n",
       " 4.81059699  6.26349140 35.89669812 13.83647702 -0.99689792 -0.94186226 \n",
       "         X6          X7          X8 \n",
       " 0.38613783  0.12933083 -0.04815804 "
      ]
     },
     "metadata": {},
     "output_type": "display_data"
    },
    {
     "data": {
      "image/png": "[encoded data removed]",
      "text/plain": [
       "plot without title"
      ]
     },
     "metadata": {
      "image/png": {
       "height": 420,
       "width": 420
      }
     },
     "output_type": "display_data"
    },
    {
     "name": "stdout",
     "output_type": "stream",
     "text": [
      "[1] -917.7613\n"
     ]
    },
    {
     "data": {
      "text/html": [
       "3"
      ],
      "text/latex": [
       "3"
      ],
      "text/markdown": [
       "3"
      ],
      "text/plain": [
       "[1] 3"
      ]
     },
     "metadata": {},
     "output_type": "display_data"
    },
    {
     "data": {
      "text/html": [
       "<style>\n",
       ".dl-inline {width: auto; margin:0; padding: 0}\n",
       ".dl-inline>dt, .dl-inline>dd {float: none; width: auto; display: inline-block}\n",
       ".dl-inline>dt::after {content: \":\\0020\"; padding-right: .5ex}\n",
       ".dl-inline>dt:not(:first-of-type) {padding-left: .5ex}\n",
       "</style><dl class=dl-inline><dt>(Intercept)</dt><dd>4.91805179874841</dd><dt>X</dt><dd>7.07934762270276</dd><dt>X2</dt><dd>35.0516264435886</dd><dt>X3</dt><dd>11.9908498033729</dd></dl>\n"
      ],
      "text/latex": [
       "\\begin{description*}\n",
       "\\item[(Intercept)] 4.91805179874841\n",
       "\\item[X] 7.07934762270276\n",
       "\\item[X2] 35.0516264435886\n",
       "\\item[X3] 11.9908498033729\n",
       "\\end{description*}\n"
      ],
      "text/markdown": [
       "(Intercept)\n",
       ":   4.91805179874841X\n",
       ":   7.07934762270276X2\n",
       ":   35.0516264435886X3\n",
       ":   11.9908498033729\n",
       "\n"
      ],
      "text/plain": [
       "(Intercept)           X          X2          X3 \n",
       "   4.918052    7.079348   35.051626   11.990850 "
      ]
     },
     "metadata": {},
     "output_type": "display_data"
    },
    {
     "data": {
      "image/png": "[encoded data removed]",
      "text/plain": [
       "plot without title"
      ]
     },
     "metadata": {
      "image/png": {
       "height": 420,
       "width": 420
      }
     },
     "output_type": "display_data"
    },
    {
     "name": "stdout",
     "output_type": "stream",
     "text": [
      "[1] 0.9999178\n"
     ]
    },
    {
     "data": {
      "text/html": [
       "8"
      ],
      "text/latex": [
       "8"
      ],
      "text/markdown": [
       "8"
      ],
      "text/plain": [
       "[1] 8"
      ]
     },
     "metadata": {},
     "output_type": "display_data"
    },
    {
     "data": {
      "text/html": [
       "<style>\n",
       ".dl-inline {width: auto; margin:0; padding: 0}\n",
       ".dl-inline>dt, .dl-inline>dd {float: none; width: auto; display: inline-block}\n",
       ".dl-inline>dt::after {content: \":\\0020\"; padding-right: .5ex}\n",
       ".dl-inline>dt:not(:first-of-type) {padding-left: .5ex}\n",
       "</style><dl class=dl-inline><dt>(Intercept)</dt><dd>0.111836446671428</dd><dt>x1</dt><dd>1.11749193279498</dd><dt>x5</dt><dd>0.9937566147283</dd><dt>x6</dt><dd>0.773823542935249</dd><dt>x11</dt><dd>0.884013840760356</dd><dt>x13</dt><dd>1.04139919952005</dd><dt>x15</dt><dd>1.10400398010453</dd><dt>x18</dt><dd>0.823887508620871</dd><dt>x19</dt><dd>0.521464578200844</dd></dl>\n"
      ],
      "text/latex": [
       "\\begin{description*}\n",
       "\\item[(Intercept)] 0.111836446671428\n",
       "\\item[x1] 1.11749193279498\n",
       "\\item[x5] 0.9937566147283\n",
       "\\item[x6] 0.773823542935249\n",
       "\\item[x11] 0.884013840760356\n",
       "\\item[x13] 1.04139919952005\n",
       "\\item[x15] 1.10400398010453\n",
       "\\item[x18] 0.823887508620871\n",
       "\\item[x19] 0.521464578200844\n",
       "\\end{description*}\n"
      ],
      "text/markdown": [
       "(Intercept)\n",
       ":   0.111836446671428x1\n",
       ":   1.11749193279498x5\n",
       ":   0.9937566147283x6\n",
       ":   0.773823542935249x11\n",
       ":   0.884013840760356x13\n",
       ":   1.04139919952005x15\n",
       ":   1.10400398010453x18\n",
       ":   0.823887508620871x19\n",
       ":   0.521464578200844\n",
       "\n"
      ],
      "text/plain": [
       "(Intercept)          x1          x5          x6         x11         x13 \n",
       "  0.1118364   1.1174919   0.9937566   0.7738235   0.8840138   1.0413992 \n",
       "        x15         x18         x19 \n",
       "  1.1040040   0.8238875   0.5214646 "
      ]
     },
     "metadata": {},
     "output_type": "display_data"
    },
    {
     "data": {
      "image/png": "[encoded data removed]",
      "text/plain": [
       "plot without title"
      ]
     },
     "metadata": {
      "image/png": {
       "height": 420,
       "width": 420
      }
     },
     "output_type": "display_data"
    }
   ],
   "source": [
    "#backward model \n",
    "regfit.backward <- regsubsets(Y ~ ., df, nvmax = 10, method = c(\"backward\"))\n",
    "reg.backward.summary <- summary(regfit.backward)\n",
    "reg.backward.summary\n",
    "\n",
    "##Malloy's cp\n",
    "cp.df_backward <- data.frame(numvar = numvar, cp_backward <- reg.backward.summary$cp, \n",
    "                            mincp_backward <- allfalse)\n",
    "cp.df_backward$mincp_backward[which.min(reg.backward.summary$cp)] <- TRUE\n",
    "ggplot(cp.df_backward, aes(x=numvar, y=cp_backward, shape=mincp_backward, col=mincp_backward)) +\n",
    "  geom_point(size=3) + scale_x_continuous(breaks=seq(0,10,1)) +\n",
    "  labs(x = \"Number of Variables\", y = \"Mallow's CP\", color=\"Maximum CP\", shape=\"Maximum CP\",\n",
    "       title = \"Mallow's CP by number of variable --backward selection\") +\n",
    "  theme_light()\n",
    "\n",
    "print(min(cp_backward))\n",
    "which.min(cp_backward)\n",
    "coef(regfit.backward, which.min(cp_backward))\n",
    "\n",
    "# BIC\n",
    "bic.df_backward <- data.frame(numvar = numvar,bic_backward <- reg.backward.summary$bic, \n",
    "                             minbic_backward <- allfalse)\n",
    "bic.df_backward$minbic_backward[which.min(reg.backward.summary$bic)] <- TRUE\n",
    "ggplot(bic.df_backward,aes(x=numvar,y=bic_backward,shape=minbic_backward,col=minbic_backward)) + \n",
    "  geom_point(size=3) + theme_light() + scale_x_continuous(breaks=seq(0,10,1)) +\n",
    "  labs(x = \"Number of Variables\", y = \"BIC\", color=\"Minimum BIC\", shape=\"Minimum BIC\",\n",
    "       title = \"Bayesian Information Criteria (BIC) by number of variable --backward selection\")\n",
    "\n",
    "print(min(bic_backward))\n",
    "which.min(bic_backward)\n",
    "coef(regfit.backward, which.min(bic_backward))\n",
    "#adjr^2\n",
    "adjr2.df_backward <- data.frame(numvar = numvar, adjr2_backward <- reg.backward.summary$adjr2, \n",
    "                               maxadjr2_backward <- allfalse)\n",
    "adjr2.df_backward$maxadjr2_backward[which.max(reg.backward.summary$adjr2)] <- TRUE\n",
    "ggplot(adjr2.df_backward,aes(x=numvar,y=adjr2_backward,shape=maxadjr2_backward,col=maxadjr2_backward)) + \n",
    "  geom_point(size=3) + theme_light() + scale_x_continuous(breaks=seq(0,10,1)) +\n",
    "  labs(x = \"Number of Variables\", y = 'Adj'~R^2, color='Maximum Adj'~R^2, shape='Maximum Adj'~R^2,\n",
    "       title = \"Adjusted coefficient of determination R^2 by number of variable --backward selction\")\n",
    "print(max(adjr2_backward))\n",
    "which.max(adjr2_backward)\n",
    "coef(regfit.full, which.max(adjr2_backward))"
   ]
  },
  {
   "cell_type": "code",
   "execution_count": null,
   "id": "30746619",
   "metadata": {
    "vscode": {
     "languageId": "r"
    }
   },
   "outputs": [],
   "source": [
    "# Note: if your model summary doesn't show up when viewing your notebook on github, copy and paste the output below.\n",
    "# Otherwise you can either delete this cell or leave it blank.\n",
    "\n",
    "```\n",
    "# paste here\n",
    "\n",
    "```"
   ]
  },
  {
   "cell_type": "markdown",
   "id": "25dbc027",
   "metadata": {},
   "source": [
    "c) Compare your results from parts a and b with those of question 1."
   ]
  },
  {
   "cell_type": "markdown",
   "id": "34ac850e",
   "metadata": {},
   "source": [
    "\n",
    "> It appears that the default selection method as completed in the section 1 is identical to the findings when we selected the \"backward\" method. In the forward selection the number of coefficients were high (except for Malloy's CP, which was one variable lower). \n",
    "> The elbows of the plots for the first method and backwards were more similar, and slightly less well defined for the forward selection model. "
   ]
  },
  {
   "cell_type": "markdown",
   "id": "630f4909",
   "metadata": {},
   "source": [
    "---\n",
    "## 3. Training and test error (3 points)"
   ]
  },
  {
   "cell_type": "markdown",
   "id": "cdea3f49",
   "metadata": {},
   "source": [
    "This question will explore the relationship between training and test error and the number of features included in a model. We will again use a simulated dataset. \n",
    "\n",
    "a) Simulate dataset with features $p = 20$ and observations $n = 1,000$. Generate data for a response variable $Y$ according to the model\n",
    "\n",
    "$Y = X\\beta + \\epsilon$ \n",
    "\n",
    "where $\\beta$ is random with some elements that are exactly zero.\n",
    "\n",
    "Split your simulated dataset into a training set containing $n=100$ observations and a test set containing $n=900$ observations."
   ]
  },
  {
   "cell_type": "code",
   "execution_count": 32,
   "id": "3f113879",
   "metadata": {
    "vscode": {
     "languageId": "r"
    }
   },
   "outputs": [
    {
     "name": "stdout",
     "output_type": "stream",
     "text": [
      "[1] \"beta coefficients\"\n",
      " [1] 0.86420166 0.00000000 0.09335636 0.32652520 0.72983312 0.80275109\n",
      " [7] 0.00000000 0.00000000 0.00000000 0.62092316 0.96837967 0.54668101\n",
      "[13] 0.89733037 0.23889128 0.81167402 0.00000000 0.24199947 0.85126591\n",
      "[19] 0.52977882 0.08807213\n"
     ]
    },
    {
     "data": {
      "text/html": [
       "<table class=\"dataframe\">\n",
       "<caption>A data.frame: 6 × 21</caption>\n",
       "<thead>\n",
       "\t<tr><th></th><th scope=col>y</th><th scope=col>x1</th><th scope=col>x2</th><th scope=col>x3</th><th scope=col>x4</th><th scope=col>x5</th><th scope=col>x6</th><th scope=col>x7</th><th scope=col>x8</th><th scope=col>x9</th><th scope=col>⋯</th><th scope=col>x11</th><th scope=col>x12</th><th scope=col>x13</th><th scope=col>x14</th><th scope=col>x15</th><th scope=col>x16</th><th scope=col>x17</th><th scope=col>x18</th><th scope=col>x19</th><th scope=col>x20</th></tr>\n",
       "\t<tr><th></th><th scope=col>&lt;dbl&gt;</th><th scope=col>&lt;dbl&gt;</th><th scope=col>&lt;dbl&gt;</th><th scope=col>&lt;dbl&gt;</th><th scope=col>&lt;dbl&gt;</th><th scope=col>&lt;dbl&gt;</th><th scope=col>&lt;dbl&gt;</th><th scope=col>&lt;dbl&gt;</th><th scope=col>&lt;dbl&gt;</th><th scope=col>&lt;dbl&gt;</th><th scope=col>⋯</th><th scope=col>&lt;dbl&gt;</th><th scope=col>&lt;dbl&gt;</th><th scope=col>&lt;dbl&gt;</th><th scope=col>&lt;dbl&gt;</th><th scope=col>&lt;dbl&gt;</th><th scope=col>&lt;dbl&gt;</th><th scope=col>&lt;dbl&gt;</th><th scope=col>&lt;dbl&gt;</th><th scope=col>&lt;dbl&gt;</th><th scope=col>&lt;dbl&gt;</th></tr>\n",
       "</thead>\n",
       "<tbody>\n",
       "\t<tr><th scope=row>1</th><td>-0.1339373</td><td> 1.2465863</td><td> 1.4147485</td><td> 1.2021348</td><td>-1.56881584</td><td>-0.4390559</td><td>-0.1222701</td><td>-0.2687101</td><td>-0.1318883</td><td>-1.2089157</td><td>⋯</td><td>-0.5585992</td><td>-0.0428876</td><td>-0.3828148</td><td> 0.7168363</td><td> 0.6985789</td><td> 0.67903745</td><td> 0.6341752</td><td>-1.5003570</td><td>-0.4595834</td><td>-0.2575906</td></tr>\n",
       "\t<tr><th scope=row>2</th><td> 0.6534708</td><td>-0.7655089</td><td>-2.1033311</td><td>-1.0626155</td><td> 0.08521893</td><td>-0.4372183</td><td>-0.9501183</td><td>-0.6460667</td><td> 0.7727997</td><td> 0.9536174</td><td>⋯</td><td> 1.1506234</td><td> 0.9765331</td><td> 1.0509019</td><td>-0.7675162</td><td> 0.6099757</td><td> 0.95489397</td><td>-1.6622791</td><td> 2.0496175</td><td> 0.1361250</td><td> 0.2236826</td></tr>\n",
       "\t<tr><th scope=row>3</th><td> 2.7207819</td><td> 0.2161769</td><td>-1.0836873</td><td>-0.6888250</td><td> 2.15111380</td><td>-1.7827091</td><td>-0.2341507</td><td>-1.6595001</td><td> 2.7400567</td><td> 0.0949909</td><td>⋯</td><td>-0.9217053</td><td> 1.5357973</td><td> 1.5247192</td><td> 0.9915014</td><td> 0.8615012</td><td> 1.14978343</td><td> 0.7258745</td><td> 1.3276711</td><td> 1.1870402</td><td> 1.0458008</td></tr>\n",
       "\t<tr><th scope=row>4</th><td>-1.4850483</td><td>-0.3643673</td><td>-0.3703383</td><td>-1.8573875</td><td> 0.31335709</td><td> 0.1498823</td><td>-0.4779484</td><td> 0.5584125</td><td> 1.3123117</td><td>-2.1152477</td><td>⋯</td><td>-0.8473124</td><td> 0.4569601</td><td>-0.3524163</td><td>-0.1967865</td><td> 0.2221628</td><td>-0.04644167</td><td>-1.0784992</td><td>-0.2297948</td><td>-0.1034430</td><td> 1.0201045</td></tr>\n",
       "\t<tr><th scope=row>5</th><td>-0.2808796</td><td>-0.8206727</td><td> 0.7557620</td><td> 2.1881843</td><td> 0.06584053</td><td>-0.5459620</td><td>-0.3581681</td><td> 0.9596813</td><td>-0.4886679</td><td>-0.4192946</td><td>⋯</td><td>-0.3359664</td><td> 0.7856112</td><td> 1.8792661</td><td>-1.6211312</td><td>-0.1221005</td><td>-0.77299592</td><td>-0.7388894</td><td> 0.1049551</td><td> 2.2571479</td><td>-0.1006152</td></tr>\n",
       "\t<tr><th scope=row>6</th><td> 4.5277225</td><td> 0.5823607</td><td> 0.1780450</td><td> 0.2684239</td><td> 1.70352505</td><td> 0.8114545</td><td> 1.1764904</td><td>-0.4212632</td><td> 0.4322041</td><td> 0.1129376</td><td>⋯</td><td> 0.3657479</td><td> 1.1723508</td><td> 0.6383581</td><td>-0.8390841</td><td> 0.3117004</td><td> 0.11136202</td><td>-0.5464460</td><td> 1.3380008</td><td> 1.1145063</td><td>-1.8949970</td></tr>\n",
       "</tbody>\n",
       "</table>\n"
      ],
      "text/latex": [
       "A data.frame: 6 × 21\n",
       "\\begin{tabular}{r|lllllllllllllllllllll}\n",
       "  & y & x1 & x2 & x3 & x4 & x5 & x6 & x7 & x8 & x9 & ⋯ & x11 & x12 & x13 & x14 & x15 & x16 & x17 & x18 & x19 & x20\\\\\n",
       "  & <dbl> & <dbl> & <dbl> & <dbl> & <dbl> & <dbl> & <dbl> & <dbl> & <dbl> & <dbl> & ⋯ & <dbl> & <dbl> & <dbl> & <dbl> & <dbl> & <dbl> & <dbl> & <dbl> & <dbl> & <dbl>\\\\\n",
       "\\hline\n",
       "\t1 & -0.1339373 &  1.2465863 &  1.4147485 &  1.2021348 & -1.56881584 & -0.4390559 & -0.1222701 & -0.2687101 & -0.1318883 & -1.2089157 & ⋯ & -0.5585992 & -0.0428876 & -0.3828148 &  0.7168363 &  0.6985789 &  0.67903745 &  0.6341752 & -1.5003570 & -0.4595834 & -0.2575906\\\\\n",
       "\t2 &  0.6534708 & -0.7655089 & -2.1033311 & -1.0626155 &  0.08521893 & -0.4372183 & -0.9501183 & -0.6460667 &  0.7727997 &  0.9536174 & ⋯ &  1.1506234 &  0.9765331 &  1.0509019 & -0.7675162 &  0.6099757 &  0.95489397 & -1.6622791 &  2.0496175 &  0.1361250 &  0.2236826\\\\\n",
       "\t3 &  2.7207819 &  0.2161769 & -1.0836873 & -0.6888250 &  2.15111380 & -1.7827091 & -0.2341507 & -1.6595001 &  2.7400567 &  0.0949909 & ⋯ & -0.9217053 &  1.5357973 &  1.5247192 &  0.9915014 &  0.8615012 &  1.14978343 &  0.7258745 &  1.3276711 &  1.1870402 &  1.0458008\\\\\n",
       "\t4 & -1.4850483 & -0.3643673 & -0.3703383 & -1.8573875 &  0.31335709 &  0.1498823 & -0.4779484 &  0.5584125 &  1.3123117 & -2.1152477 & ⋯ & -0.8473124 &  0.4569601 & -0.3524163 & -0.1967865 &  0.2221628 & -0.04644167 & -1.0784992 & -0.2297948 & -0.1034430 &  1.0201045\\\\\n",
       "\t5 & -0.2808796 & -0.8206727 &  0.7557620 &  2.1881843 &  0.06584053 & -0.5459620 & -0.3581681 &  0.9596813 & -0.4886679 & -0.4192946 & ⋯ & -0.3359664 &  0.7856112 &  1.8792661 & -1.6211312 & -0.1221005 & -0.77299592 & -0.7388894 &  0.1049551 &  2.2571479 & -0.1006152\\\\\n",
       "\t6 &  4.5277225 &  0.5823607 &  0.1780450 &  0.2684239 &  1.70352505 &  0.8114545 &  1.1764904 & -0.4212632 &  0.4322041 &  0.1129376 & ⋯ &  0.3657479 &  1.1723508 &  0.6383581 & -0.8390841 &  0.3117004 &  0.11136202 & -0.5464460 &  1.3380008 &  1.1145063 & -1.8949970\\\\\n",
       "\\end{tabular}\n"
      ],
      "text/markdown": [
       "\n",
       "A data.frame: 6 × 21\n",
       "\n",
       "| <!--/--> | y &lt;dbl&gt; | x1 &lt;dbl&gt; | x2 &lt;dbl&gt; | x3 &lt;dbl&gt; | x4 &lt;dbl&gt; | x5 &lt;dbl&gt; | x6 &lt;dbl&gt; | x7 &lt;dbl&gt; | x8 &lt;dbl&gt; | x9 &lt;dbl&gt; | ⋯ ⋯ | x11 &lt;dbl&gt; | x12 &lt;dbl&gt; | x13 &lt;dbl&gt; | x14 &lt;dbl&gt; | x15 &lt;dbl&gt; | x16 &lt;dbl&gt; | x17 &lt;dbl&gt; | x18 &lt;dbl&gt; | x19 &lt;dbl&gt; | x20 &lt;dbl&gt; |\n",
       "|---|---|---|---|---|---|---|---|---|---|---|---|---|---|---|---|---|---|---|---|---|---|\n",
       "| 1 | -0.1339373 |  1.2465863 |  1.4147485 |  1.2021348 | -1.56881584 | -0.4390559 | -0.1222701 | -0.2687101 | -0.1318883 | -1.2089157 | ⋯ | -0.5585992 | -0.0428876 | -0.3828148 |  0.7168363 |  0.6985789 |  0.67903745 |  0.6341752 | -1.5003570 | -0.4595834 | -0.2575906 |\n",
       "| 2 |  0.6534708 | -0.7655089 | -2.1033311 | -1.0626155 |  0.08521893 | -0.4372183 | -0.9501183 | -0.6460667 |  0.7727997 |  0.9536174 | ⋯ |  1.1506234 |  0.9765331 |  1.0509019 | -0.7675162 |  0.6099757 |  0.95489397 | -1.6622791 |  2.0496175 |  0.1361250 |  0.2236826 |\n",
       "| 3 |  2.7207819 |  0.2161769 | -1.0836873 | -0.6888250 |  2.15111380 | -1.7827091 | -0.2341507 | -1.6595001 |  2.7400567 |  0.0949909 | ⋯ | -0.9217053 |  1.5357973 |  1.5247192 |  0.9915014 |  0.8615012 |  1.14978343 |  0.7258745 |  1.3276711 |  1.1870402 |  1.0458008 |\n",
       "| 4 | -1.4850483 | -0.3643673 | -0.3703383 | -1.8573875 |  0.31335709 |  0.1498823 | -0.4779484 |  0.5584125 |  1.3123117 | -2.1152477 | ⋯ | -0.8473124 |  0.4569601 | -0.3524163 | -0.1967865 |  0.2221628 | -0.04644167 | -1.0784992 | -0.2297948 | -0.1034430 |  1.0201045 |\n",
       "| 5 | -0.2808796 | -0.8206727 |  0.7557620 |  2.1881843 |  0.06584053 | -0.5459620 | -0.3581681 |  0.9596813 | -0.4886679 | -0.4192946 | ⋯ | -0.3359664 |  0.7856112 |  1.8792661 | -1.6211312 | -0.1221005 | -0.77299592 | -0.7388894 |  0.1049551 |  2.2571479 | -0.1006152 |\n",
       "| 6 |  4.5277225 |  0.5823607 |  0.1780450 |  0.2684239 |  1.70352505 |  0.8114545 |  1.1764904 | -0.4212632 |  0.4322041 |  0.1129376 | ⋯ |  0.3657479 |  1.1723508 |  0.6383581 | -0.8390841 |  0.3117004 |  0.11136202 | -0.5464460 |  1.3380008 |  1.1145063 | -1.8949970 |\n",
       "\n"
      ],
      "text/plain": [
       "  y          x1         x2         x3         x4          x5         x6        \n",
       "1 -0.1339373  1.2465863  1.4147485  1.2021348 -1.56881584 -0.4390559 -0.1222701\n",
       "2  0.6534708 -0.7655089 -2.1033311 -1.0626155  0.08521893 -0.4372183 -0.9501183\n",
       "3  2.7207819  0.2161769 -1.0836873 -0.6888250  2.15111380 -1.7827091 -0.2341507\n",
       "4 -1.4850483 -0.3643673 -0.3703383 -1.8573875  0.31335709  0.1498823 -0.4779484\n",
       "5 -0.2808796 -0.8206727  0.7557620  2.1881843  0.06584053 -0.5459620 -0.3581681\n",
       "6  4.5277225  0.5823607  0.1780450  0.2684239  1.70352505  0.8114545  1.1764904\n",
       "  x7         x8         x9         <U+22EF>        x11        x12        x13       \n",
       "1 -0.2687101 -0.1318883 -1.2089157 <U+22EF> -0.5585992 -0.0428876 -0.3828148\n",
       "2 -0.6460667  0.7727997  0.9536174 <U+22EF>  1.1506234  0.9765331  1.0509019\n",
       "3 -1.6595001  2.7400567  0.0949909 <U+22EF> -0.9217053  1.5357973  1.5247192\n",
       "4  0.5584125  1.3123117 -2.1152477 <U+22EF> -0.8473124  0.4569601 -0.3524163\n",
       "5  0.9596813 -0.4886679 -0.4192946 <U+22EF> -0.3359664  0.7856112  1.8792661\n",
       "6 -0.4212632  0.4322041  0.1129376 <U+22EF>  0.3657479  1.1723508  0.6383581\n",
       "  x14        x15        x16         x17        x18        x19        x20       \n",
       "1  0.7168363  0.6985789  0.67903745  0.6341752 -1.5003570 -0.4595834 -0.2575906\n",
       "2 -0.7675162  0.6099757  0.95489397 -1.6622791  2.0496175  0.1361250  0.2236826\n",
       "3  0.9915014  0.8615012  1.14978343  0.7258745  1.3276711  1.1870402  1.0458008\n",
       "4 -0.1967865  0.2221628 -0.04644167 -1.0784992 -0.2297948 -0.1034430  1.0201045\n",
       "5 -1.6211312 -0.1221005 -0.77299592 -0.7388894  0.1049551  2.2571479 -0.1006152\n",
       "6 -0.8390841  0.3117004  0.11136202 -0.5464460  1.3380008  1.1145063 -1.8949970"
      ]
     },
     "metadata": {},
     "output_type": "display_data"
    },
    {
     "name": "stdout",
     "output_type": "stream",
     "text": [
      "[1] \"full dataset\"\n"
     ]
    },
    {
     "data": {
      "text/html": [
       "<table class=\"dataframe\">\n",
       "<caption>A data.frame: 6 × 21</caption>\n",
       "<thead>\n",
       "\t<tr><th></th><th scope=col>y</th><th scope=col>x1</th><th scope=col>x2</th><th scope=col>x3</th><th scope=col>x4</th><th scope=col>x5</th><th scope=col>x6</th><th scope=col>x7</th><th scope=col>x8</th><th scope=col>x9</th><th scope=col>⋯</th><th scope=col>x11</th><th scope=col>x12</th><th scope=col>x13</th><th scope=col>x14</th><th scope=col>x15</th><th scope=col>x16</th><th scope=col>x17</th><th scope=col>x18</th><th scope=col>x19</th><th scope=col>x20</th></tr>\n",
       "\t<tr><th></th><th scope=col>&lt;dbl&gt;</th><th scope=col>&lt;dbl&gt;</th><th scope=col>&lt;dbl&gt;</th><th scope=col>&lt;dbl&gt;</th><th scope=col>&lt;dbl&gt;</th><th scope=col>&lt;dbl&gt;</th><th scope=col>&lt;dbl&gt;</th><th scope=col>&lt;dbl&gt;</th><th scope=col>&lt;dbl&gt;</th><th scope=col>&lt;dbl&gt;</th><th scope=col>⋯</th><th scope=col>&lt;dbl&gt;</th><th scope=col>&lt;dbl&gt;</th><th scope=col>&lt;dbl&gt;</th><th scope=col>&lt;dbl&gt;</th><th scope=col>&lt;dbl&gt;</th><th scope=col>&lt;dbl&gt;</th><th scope=col>&lt;dbl&gt;</th><th scope=col>&lt;dbl&gt;</th><th scope=col>&lt;dbl&gt;</th><th scope=col>&lt;dbl&gt;</th></tr>\n",
       "</thead>\n",
       "<tbody>\n",
       "\t<tr><th scope=row>6</th><td> 4.5277225</td><td> 0.5823607</td><td> 0.1780450</td><td> 0.26842386</td><td> 1.7035250</td><td> 0.81145453</td><td>1.1764904</td><td>-0.4212632</td><td> 0.43220409</td><td> 0.11293763</td><td>⋯</td><td> 0.3657479</td><td> 1.1723508</td><td> 0.63835809</td><td>-0.8390841</td><td> 0.3117004</td><td> 0.11136202</td><td>-0.5464460</td><td> 1.3380008</td><td> 1.11450630</td><td>-1.89499697</td></tr>\n",
       "\t<tr><th scope=row>63</th><td>-0.5375611</td><td> 0.3735465</td><td> 0.3390785</td><td> 0.25587916</td><td>-0.4821487</td><td> 1.23645129</td><td>1.0625994</td><td>-1.1800987</td><td> 0.67754117</td><td>-0.11660548</td><td>⋯</td><td> 0.2808138</td><td>-0.9146055</td><td>-0.58205993</td><td> 0.0217115</td><td>-2.9313034</td><td> 2.13595197</td><td> 0.9972629</td><td> 0.8088749</td><td>-0.60973952</td><td>-0.42543406</td></tr>\n",
       "\t<tr><th scope=row>29</th><td> 1.0703139</td><td> 1.4557338</td><td>-0.1861957</td><td>-0.32941559</td><td>-1.3217254</td><td> 1.23781359</td><td>0.8990695</td><td>-0.7401299</td><td>-1.39070553</td><td> 0.33666754</td><td>⋯</td><td>-1.1111813</td><td> 1.3496289</td><td>-0.05243495</td><td> 0.4654092</td><td>-2.0452797</td><td>-0.06907754</td><td>-0.7400608</td><td> 1.6524589</td><td>-0.44913746</td><td>-0.06905433</td></tr>\n",
       "\t<tr><th scope=row>48</th><td> 2.2136558</td><td> 0.7529639</td><td> 0.8419220</td><td> 0.17198235</td><td> 0.3455190</td><td>-0.06984991</td><td>0.7852429</td><td>-1.5718503</td><td> 1.12175608</td><td> 0.30370550</td><td>⋯</td><td> 0.8680369</td><td>-1.1916297</td><td>-1.48170625</td><td> 0.2931556</td><td> 0.4453774</td><td> 1.10967789</td><td> 1.2548455</td><td> 0.2833390</td><td> 1.54709115</td><td> 0.12569081</td></tr>\n",
       "\t<tr><th scope=row>97</th><td> 4.8711200</td><td> 3.1393687</td><td>-2.9012023</td><td> 0.08983045</td><td>-0.3299558</td><td> 0.35907920</td><td>1.5070989</td><td> 1.1039885</td><td>-3.93090169</td><td> 1.63684322</td><td>⋯</td><td> 1.6157389</td><td>-0.1539488</td><td>-0.38585704</td><td>-0.5403739</td><td> 1.0597098</td><td> 0.11073743</td><td>-0.7285586</td><td>-1.4360005</td><td>-0.05868554</td><td>-1.30818578</td></tr>\n",
       "\t<tr><th scope=row>70</th><td> 0.9458724</td><td>-0.7922808</td><td>-1.9628694</td><td> 0.88566860</td><td> 0.5258215</td><td>-0.03735233</td><td>0.4702701</td><td>-0.1404534</td><td> 0.04819022</td><td> 0.08298163</td><td>⋯</td><td>-0.9075759</td><td>-0.4521809</td><td>-0.53559868</td><td>-1.1724853</td><td> 0.9718999</td><td> 1.14280278</td><td>-0.4471806</td><td> 1.1603132</td><td>-0.58085458</td><td>-0.47301214</td></tr>\n",
       "</tbody>\n",
       "</table>\n"
      ],
      "text/latex": [
       "A data.frame: 6 × 21\n",
       "\\begin{tabular}{r|lllllllllllllllllllll}\n",
       "  & y & x1 & x2 & x3 & x4 & x5 & x6 & x7 & x8 & x9 & ⋯ & x11 & x12 & x13 & x14 & x15 & x16 & x17 & x18 & x19 & x20\\\\\n",
       "  & <dbl> & <dbl> & <dbl> & <dbl> & <dbl> & <dbl> & <dbl> & <dbl> & <dbl> & <dbl> & ⋯ & <dbl> & <dbl> & <dbl> & <dbl> & <dbl> & <dbl> & <dbl> & <dbl> & <dbl> & <dbl>\\\\\n",
       "\\hline\n",
       "\t6 &  4.5277225 &  0.5823607 &  0.1780450 &  0.26842386 &  1.7035250 &  0.81145453 & 1.1764904 & -0.4212632 &  0.43220409 &  0.11293763 & ⋯ &  0.3657479 &  1.1723508 &  0.63835809 & -0.8390841 &  0.3117004 &  0.11136202 & -0.5464460 &  1.3380008 &  1.11450630 & -1.89499697\\\\\n",
       "\t63 & -0.5375611 &  0.3735465 &  0.3390785 &  0.25587916 & -0.4821487 &  1.23645129 & 1.0625994 & -1.1800987 &  0.67754117 & -0.11660548 & ⋯ &  0.2808138 & -0.9146055 & -0.58205993 &  0.0217115 & -2.9313034 &  2.13595197 &  0.9972629 &  0.8088749 & -0.60973952 & -0.42543406\\\\\n",
       "\t29 &  1.0703139 &  1.4557338 & -0.1861957 & -0.32941559 & -1.3217254 &  1.23781359 & 0.8990695 & -0.7401299 & -1.39070553 &  0.33666754 & ⋯ & -1.1111813 &  1.3496289 & -0.05243495 &  0.4654092 & -2.0452797 & -0.06907754 & -0.7400608 &  1.6524589 & -0.44913746 & -0.06905433\\\\\n",
       "\t48 &  2.2136558 &  0.7529639 &  0.8419220 &  0.17198235 &  0.3455190 & -0.06984991 & 0.7852429 & -1.5718503 &  1.12175608 &  0.30370550 & ⋯ &  0.8680369 & -1.1916297 & -1.48170625 &  0.2931556 &  0.4453774 &  1.10967789 &  1.2548455 &  0.2833390 &  1.54709115 &  0.12569081\\\\\n",
       "\t97 &  4.8711200 &  3.1393687 & -2.9012023 &  0.08983045 & -0.3299558 &  0.35907920 & 1.5070989 &  1.1039885 & -3.93090169 &  1.63684322 & ⋯ &  1.6157389 & -0.1539488 & -0.38585704 & -0.5403739 &  1.0597098 &  0.11073743 & -0.7285586 & -1.4360005 & -0.05868554 & -1.30818578\\\\\n",
       "\t70 &  0.9458724 & -0.7922808 & -1.9628694 &  0.88566860 &  0.5258215 & -0.03735233 & 0.4702701 & -0.1404534 &  0.04819022 &  0.08298163 & ⋯ & -0.9075759 & -0.4521809 & -0.53559868 & -1.1724853 &  0.9718999 &  1.14280278 & -0.4471806 &  1.1603132 & -0.58085458 & -0.47301214\\\\\n",
       "\\end{tabular}\n"
      ],
      "text/markdown": [
       "\n",
       "A data.frame: 6 × 21\n",
       "\n",
       "| <!--/--> | y &lt;dbl&gt; | x1 &lt;dbl&gt; | x2 &lt;dbl&gt; | x3 &lt;dbl&gt; | x4 &lt;dbl&gt; | x5 &lt;dbl&gt; | x6 &lt;dbl&gt; | x7 &lt;dbl&gt; | x8 &lt;dbl&gt; | x9 &lt;dbl&gt; | ⋯ ⋯ | x11 &lt;dbl&gt; | x12 &lt;dbl&gt; | x13 &lt;dbl&gt; | x14 &lt;dbl&gt; | x15 &lt;dbl&gt; | x16 &lt;dbl&gt; | x17 &lt;dbl&gt; | x18 &lt;dbl&gt; | x19 &lt;dbl&gt; | x20 &lt;dbl&gt; |\n",
       "|---|---|---|---|---|---|---|---|---|---|---|---|---|---|---|---|---|---|---|---|---|---|\n",
       "| 6 |  4.5277225 |  0.5823607 |  0.1780450 |  0.26842386 |  1.7035250 |  0.81145453 | 1.1764904 | -0.4212632 |  0.43220409 |  0.11293763 | ⋯ |  0.3657479 |  1.1723508 |  0.63835809 | -0.8390841 |  0.3117004 |  0.11136202 | -0.5464460 |  1.3380008 |  1.11450630 | -1.89499697 |\n",
       "| 63 | -0.5375611 |  0.3735465 |  0.3390785 |  0.25587916 | -0.4821487 |  1.23645129 | 1.0625994 | -1.1800987 |  0.67754117 | -0.11660548 | ⋯ |  0.2808138 | -0.9146055 | -0.58205993 |  0.0217115 | -2.9313034 |  2.13595197 |  0.9972629 |  0.8088749 | -0.60973952 | -0.42543406 |\n",
       "| 29 |  1.0703139 |  1.4557338 | -0.1861957 | -0.32941559 | -1.3217254 |  1.23781359 | 0.8990695 | -0.7401299 | -1.39070553 |  0.33666754 | ⋯ | -1.1111813 |  1.3496289 | -0.05243495 |  0.4654092 | -2.0452797 | -0.06907754 | -0.7400608 |  1.6524589 | -0.44913746 | -0.06905433 |\n",
       "| 48 |  2.2136558 |  0.7529639 |  0.8419220 |  0.17198235 |  0.3455190 | -0.06984991 | 0.7852429 | -1.5718503 |  1.12175608 |  0.30370550 | ⋯ |  0.8680369 | -1.1916297 | -1.48170625 |  0.2931556 |  0.4453774 |  1.10967789 |  1.2548455 |  0.2833390 |  1.54709115 |  0.12569081 |\n",
       "| 97 |  4.8711200 |  3.1393687 | -2.9012023 |  0.08983045 | -0.3299558 |  0.35907920 | 1.5070989 |  1.1039885 | -3.93090169 |  1.63684322 | ⋯ |  1.6157389 | -0.1539488 | -0.38585704 | -0.5403739 |  1.0597098 |  0.11073743 | -0.7285586 | -1.4360005 | -0.05868554 | -1.30818578 |\n",
       "| 70 |  0.9458724 | -0.7922808 | -1.9628694 |  0.88566860 |  0.5258215 | -0.03735233 | 0.4702701 | -0.1404534 |  0.04819022 |  0.08298163 | ⋯ | -0.9075759 | -0.4521809 | -0.53559868 | -1.1724853 |  0.9718999 |  1.14280278 | -0.4471806 |  1.1603132 | -0.58085458 | -0.47301214 |\n",
       "\n"
      ],
      "text/plain": [
       "   y          x1         x2         x3          x4         x5         \n",
       "6   4.5277225  0.5823607  0.1780450  0.26842386  1.7035250  0.81145453\n",
       "63 -0.5375611  0.3735465  0.3390785  0.25587916 -0.4821487  1.23645129\n",
       "29  1.0703139  1.4557338 -0.1861957 -0.32941559 -1.3217254  1.23781359\n",
       "48  2.2136558  0.7529639  0.8419220  0.17198235  0.3455190 -0.06984991\n",
       "97  4.8711200  3.1393687 -2.9012023  0.08983045 -0.3299558  0.35907920\n",
       "70  0.9458724 -0.7922808 -1.9628694  0.88566860  0.5258215 -0.03735233\n",
       "   x6        x7         x8          x9          <U+22EF>        x11        x12       \n",
       "6  1.1764904 -0.4212632  0.43220409  0.11293763 <U+22EF>  0.3657479  1.1723508\n",
       "63 1.0625994 -1.1800987  0.67754117 -0.11660548 <U+22EF>  0.2808138 -0.9146055\n",
       "29 0.8990695 -0.7401299 -1.39070553  0.33666754 <U+22EF> -1.1111813  1.3496289\n",
       "48 0.7852429 -1.5718503  1.12175608  0.30370550 <U+22EF>  0.8680369 -1.1916297\n",
       "97 1.5070989  1.1039885 -3.93090169  1.63684322 <U+22EF>  1.6157389 -0.1539488\n",
       "70 0.4702701 -0.1404534  0.04819022  0.08298163 <U+22EF> -0.9075759 -0.4521809\n",
       "   x13         x14        x15        x16         x17        x18       \n",
       "6   0.63835809 -0.8390841  0.3117004  0.11136202 -0.5464460  1.3380008\n",
       "63 -0.58205993  0.0217115 -2.9313034  2.13595197  0.9972629  0.8088749\n",
       "29 -0.05243495  0.4654092 -2.0452797 -0.06907754 -0.7400608  1.6524589\n",
       "48 -1.48170625  0.2931556  0.4453774  1.10967789  1.2548455  0.2833390\n",
       "97 -0.38585704 -0.5403739  1.0597098  0.11073743 -0.7285586 -1.4360005\n",
       "70 -0.53559868 -1.1724853  0.9718999  1.14280278 -0.4471806  1.1603132\n",
       "   x19         x20        \n",
       "6   1.11450630 -1.89499697\n",
       "63 -0.60973952 -0.42543406\n",
       "29 -0.44913746 -0.06905433\n",
       "48  1.54709115  0.12569081\n",
       "97 -0.05868554 -1.30818578\n",
       "70 -0.58085458 -0.47301214"
      ]
     },
     "metadata": {},
     "output_type": "display_data"
    },
    {
     "name": "stdout",
     "output_type": "stream",
     "text": [
      "[1] \"train\"\n"
     ]
    },
    {
     "data": {
      "text/html": [
       "<table class=\"dataframe\">\n",
       "<caption>A data.frame: 6 × 21</caption>\n",
       "<thead>\n",
       "\t<tr><th></th><th scope=col>y</th><th scope=col>x1</th><th scope=col>x2</th><th scope=col>x3</th><th scope=col>x4</th><th scope=col>x5</th><th scope=col>x6</th><th scope=col>x7</th><th scope=col>x8</th><th scope=col>x9</th><th scope=col>⋯</th><th scope=col>x11</th><th scope=col>x12</th><th scope=col>x13</th><th scope=col>x14</th><th scope=col>x15</th><th scope=col>x16</th><th scope=col>x17</th><th scope=col>x18</th><th scope=col>x19</th><th scope=col>x20</th></tr>\n",
       "\t<tr><th></th><th scope=col>&lt;dbl&gt;</th><th scope=col>&lt;dbl&gt;</th><th scope=col>&lt;dbl&gt;</th><th scope=col>&lt;dbl&gt;</th><th scope=col>&lt;dbl&gt;</th><th scope=col>&lt;dbl&gt;</th><th scope=col>&lt;dbl&gt;</th><th scope=col>&lt;dbl&gt;</th><th scope=col>&lt;dbl&gt;</th><th scope=col>&lt;dbl&gt;</th><th scope=col>⋯</th><th scope=col>&lt;dbl&gt;</th><th scope=col>&lt;dbl&gt;</th><th scope=col>&lt;dbl&gt;</th><th scope=col>&lt;dbl&gt;</th><th scope=col>&lt;dbl&gt;</th><th scope=col>&lt;dbl&gt;</th><th scope=col>&lt;dbl&gt;</th><th scope=col>&lt;dbl&gt;</th><th scope=col>&lt;dbl&gt;</th><th scope=col>&lt;dbl&gt;</th></tr>\n",
       "</thead>\n",
       "<tbody>\n",
       "\t<tr><th scope=row>101</th><td> 0.8071753</td><td> 2.1641666</td><td> 0.5923079</td><td> 1.1040496</td><td>-0.48026086</td><td>-1.8955933</td><td> 0.781023686</td><td>-0.7776559</td><td>-1.10207110</td><td> 2.65349395</td><td>⋯</td><td>-1.7886662</td><td>-1.0804553</td><td>-0.2930243</td><td> 0.17351842</td><td>-0.3064487</td><td>-0.21936260</td><td>-0.73815246</td><td> 1.44347498</td><td> 0.67371749</td><td> 1.7717413</td></tr>\n",
       "\t<tr><th scope=row>102</th><td> 2.7562188</td><td> 2.4209916</td><td>-0.8093397</td><td>-1.5372891</td><td>-0.10630519</td><td>-0.4363213</td><td> 0.787701331</td><td>-0.6389117</td><td>-0.55907413</td><td> 2.09111397</td><td>⋯</td><td> 0.3407137</td><td> 1.8023137</td><td>-0.8910892</td><td> 2.45420050</td><td>-0.3715867</td><td> 0.26669186</td><td> 0.67063714</td><td>-0.34602170</td><td>-0.01211526</td><td>-0.2644567</td></tr>\n",
       "\t<tr><th scope=row>103</th><td> 2.0604356</td><td> 2.2109649</td><td> 0.8495062</td><td> 0.0165824</td><td>-0.20059450</td><td>-1.2630568</td><td>-0.355308829</td><td>-1.1225987</td><td>-0.17708851</td><td>-1.37809071</td><td>⋯</td><td> 1.1570288</td><td>-0.3335782</td><td>-0.6453255</td><td> 0.69812125</td><td> 0.5872984</td><td> 0.83710909</td><td>-1.92838968</td><td>-0.45463000</td><td> 2.10121360</td><td>-0.6133898</td></tr>\n",
       "\t<tr><th scope=row>104</th><td>-4.9342978</td><td> 0.9116650</td><td>-0.1923357</td><td>-0.1333743</td><td>-0.39465860</td><td>-0.9185951</td><td>-0.952062444</td><td> 1.0411603</td><td>-1.09670639</td><td> 0.22833049</td><td>⋯</td><td>-0.2281841</td><td>-1.8294743</td><td>-0.6488586</td><td>-1.69889120</td><td>-1.1250427</td><td>-1.85884539</td><td> 0.52739914</td><td> 0.53813539</td><td>-0.48125009</td><td>-0.7055567</td></tr>\n",
       "\t<tr><th scope=row>105</th><td> 1.1783511</td><td> 0.8978615</td><td> 1.1037698</td><td> 0.5698524</td><td> 0.21568613</td><td>-1.9583253</td><td>-0.113183651</td><td>-0.6111422</td><td>-1.31354102</td><td>-1.89935690</td><td>⋯</td><td> 0.6631126</td><td> 2.5284852</td><td> 0.2820812</td><td> 0.06045005</td><td> 0.1575016</td><td>-0.08600852</td><td> 0.01331849</td><td>-0.02603377</td><td>-0.01077810</td><td> 2.1851161</td></tr>\n",
       "\t<tr><th scope=row>106</th><td>-6.8348740</td><td>-0.7193885</td><td>-0.7193825</td><td> 1.1361199</td><td>-0.09743793</td><td>-1.1215700</td><td>-0.003006725</td><td> 0.1112571</td><td>-0.01536906</td><td> 0.09054127</td><td>⋯</td><td>-1.2019629</td><td> 0.1879677</td><td> 0.5098609</td><td> 0.90162621</td><td>-0.6763861</td><td> 1.37895743</td><td>-0.67202845</td><td>-2.18732890</td><td>-0.66608494</td><td> 0.3323794</td></tr>\n",
       "</tbody>\n",
       "</table>\n"
      ],
      "text/latex": [
       "A data.frame: 6 × 21\n",
       "\\begin{tabular}{r|lllllllllllllllllllll}\n",
       "  & y & x1 & x2 & x3 & x4 & x5 & x6 & x7 & x8 & x9 & ⋯ & x11 & x12 & x13 & x14 & x15 & x16 & x17 & x18 & x19 & x20\\\\\n",
       "  & <dbl> & <dbl> & <dbl> & <dbl> & <dbl> & <dbl> & <dbl> & <dbl> & <dbl> & <dbl> & ⋯ & <dbl> & <dbl> & <dbl> & <dbl> & <dbl> & <dbl> & <dbl> & <dbl> & <dbl> & <dbl>\\\\\n",
       "\\hline\n",
       "\t101 &  0.8071753 &  2.1641666 &  0.5923079 &  1.1040496 & -0.48026086 & -1.8955933 &  0.781023686 & -0.7776559 & -1.10207110 &  2.65349395 & ⋯ & -1.7886662 & -1.0804553 & -0.2930243 &  0.17351842 & -0.3064487 & -0.21936260 & -0.73815246 &  1.44347498 &  0.67371749 &  1.7717413\\\\\n",
       "\t102 &  2.7562188 &  2.4209916 & -0.8093397 & -1.5372891 & -0.10630519 & -0.4363213 &  0.787701331 & -0.6389117 & -0.55907413 &  2.09111397 & ⋯ &  0.3407137 &  1.8023137 & -0.8910892 &  2.45420050 & -0.3715867 &  0.26669186 &  0.67063714 & -0.34602170 & -0.01211526 & -0.2644567\\\\\n",
       "\t103 &  2.0604356 &  2.2109649 &  0.8495062 &  0.0165824 & -0.20059450 & -1.2630568 & -0.355308829 & -1.1225987 & -0.17708851 & -1.37809071 & ⋯ &  1.1570288 & -0.3335782 & -0.6453255 &  0.69812125 &  0.5872984 &  0.83710909 & -1.92838968 & -0.45463000 &  2.10121360 & -0.6133898\\\\\n",
       "\t104 & -4.9342978 &  0.9116650 & -0.1923357 & -0.1333743 & -0.39465860 & -0.9185951 & -0.952062444 &  1.0411603 & -1.09670639 &  0.22833049 & ⋯ & -0.2281841 & -1.8294743 & -0.6488586 & -1.69889120 & -1.1250427 & -1.85884539 &  0.52739914 &  0.53813539 & -0.48125009 & -0.7055567\\\\\n",
       "\t105 &  1.1783511 &  0.8978615 &  1.1037698 &  0.5698524 &  0.21568613 & -1.9583253 & -0.113183651 & -0.6111422 & -1.31354102 & -1.89935690 & ⋯ &  0.6631126 &  2.5284852 &  0.2820812 &  0.06045005 &  0.1575016 & -0.08600852 &  0.01331849 & -0.02603377 & -0.01077810 &  2.1851161\\\\\n",
       "\t106 & -6.8348740 & -0.7193885 & -0.7193825 &  1.1361199 & -0.09743793 & -1.1215700 & -0.003006725 &  0.1112571 & -0.01536906 &  0.09054127 & ⋯ & -1.2019629 &  0.1879677 &  0.5098609 &  0.90162621 & -0.6763861 &  1.37895743 & -0.67202845 & -2.18732890 & -0.66608494 &  0.3323794\\\\\n",
       "\\end{tabular}\n"
      ],
      "text/markdown": [
       "\n",
       "A data.frame: 6 × 21\n",
       "\n",
       "| <!--/--> | y &lt;dbl&gt; | x1 &lt;dbl&gt; | x2 &lt;dbl&gt; | x3 &lt;dbl&gt; | x4 &lt;dbl&gt; | x5 &lt;dbl&gt; | x6 &lt;dbl&gt; | x7 &lt;dbl&gt; | x8 &lt;dbl&gt; | x9 &lt;dbl&gt; | ⋯ ⋯ | x11 &lt;dbl&gt; | x12 &lt;dbl&gt; | x13 &lt;dbl&gt; | x14 &lt;dbl&gt; | x15 &lt;dbl&gt; | x16 &lt;dbl&gt; | x17 &lt;dbl&gt; | x18 &lt;dbl&gt; | x19 &lt;dbl&gt; | x20 &lt;dbl&gt; |\n",
       "|---|---|---|---|---|---|---|---|---|---|---|---|---|---|---|---|---|---|---|---|---|---|\n",
       "| 101 |  0.8071753 |  2.1641666 |  0.5923079 |  1.1040496 | -0.48026086 | -1.8955933 |  0.781023686 | -0.7776559 | -1.10207110 |  2.65349395 | ⋯ | -1.7886662 | -1.0804553 | -0.2930243 |  0.17351842 | -0.3064487 | -0.21936260 | -0.73815246 |  1.44347498 |  0.67371749 |  1.7717413 |\n",
       "| 102 |  2.7562188 |  2.4209916 | -0.8093397 | -1.5372891 | -0.10630519 | -0.4363213 |  0.787701331 | -0.6389117 | -0.55907413 |  2.09111397 | ⋯ |  0.3407137 |  1.8023137 | -0.8910892 |  2.45420050 | -0.3715867 |  0.26669186 |  0.67063714 | -0.34602170 | -0.01211526 | -0.2644567 |\n",
       "| 103 |  2.0604356 |  2.2109649 |  0.8495062 |  0.0165824 | -0.20059450 | -1.2630568 | -0.355308829 | -1.1225987 | -0.17708851 | -1.37809071 | ⋯ |  1.1570288 | -0.3335782 | -0.6453255 |  0.69812125 |  0.5872984 |  0.83710909 | -1.92838968 | -0.45463000 |  2.10121360 | -0.6133898 |\n",
       "| 104 | -4.9342978 |  0.9116650 | -0.1923357 | -0.1333743 | -0.39465860 | -0.9185951 | -0.952062444 |  1.0411603 | -1.09670639 |  0.22833049 | ⋯ | -0.2281841 | -1.8294743 | -0.6488586 | -1.69889120 | -1.1250427 | -1.85884539 |  0.52739914 |  0.53813539 | -0.48125009 | -0.7055567 |\n",
       "| 105 |  1.1783511 |  0.8978615 |  1.1037698 |  0.5698524 |  0.21568613 | -1.9583253 | -0.113183651 | -0.6111422 | -1.31354102 | -1.89935690 | ⋯ |  0.6631126 |  2.5284852 |  0.2820812 |  0.06045005 |  0.1575016 | -0.08600852 |  0.01331849 | -0.02603377 | -0.01077810 |  2.1851161 |\n",
       "| 106 | -6.8348740 | -0.7193885 | -0.7193825 |  1.1361199 | -0.09743793 | -1.1215700 | -0.003006725 |  0.1112571 | -0.01536906 |  0.09054127 | ⋯ | -1.2019629 |  0.1879677 |  0.5098609 |  0.90162621 | -0.6763861 |  1.37895743 | -0.67202845 | -2.18732890 | -0.66608494 |  0.3323794 |\n",
       "\n"
      ],
      "text/plain": [
       "    y          x1         x2         x3         x4          x5        \n",
       "101  0.8071753  2.1641666  0.5923079  1.1040496 -0.48026086 -1.8955933\n",
       "102  2.7562188  2.4209916 -0.8093397 -1.5372891 -0.10630519 -0.4363213\n",
       "103  2.0604356  2.2109649  0.8495062  0.0165824 -0.20059450 -1.2630568\n",
       "104 -4.9342978  0.9116650 -0.1923357 -0.1333743 -0.39465860 -0.9185951\n",
       "105  1.1783511  0.8978615  1.1037698  0.5698524  0.21568613 -1.9583253\n",
       "106 -6.8348740 -0.7193885 -0.7193825  1.1361199 -0.09743793 -1.1215700\n",
       "    x6           x7         x8          x9          <U+22EF>        x11       \n",
       "101  0.781023686 -0.7776559 -1.10207110  2.65349395 <U+22EF> -1.7886662\n",
       "102  0.787701331 -0.6389117 -0.55907413  2.09111397 <U+22EF>  0.3407137\n",
       "103 -0.355308829 -1.1225987 -0.17708851 -1.37809071 <U+22EF>  1.1570288\n",
       "104 -0.952062444  1.0411603 -1.09670639  0.22833049 <U+22EF> -0.2281841\n",
       "105 -0.113183651 -0.6111422 -1.31354102 -1.89935690 <U+22EF>  0.6631126\n",
       "106 -0.003006725  0.1112571 -0.01536906  0.09054127 <U+22EF> -1.2019629\n",
       "    x12        x13        x14         x15        x16         x17        \n",
       "101 -1.0804553 -0.2930243  0.17351842 -0.3064487 -0.21936260 -0.73815246\n",
       "102  1.8023137 -0.8910892  2.45420050 -0.3715867  0.26669186  0.67063714\n",
       "103 -0.3335782 -0.6453255  0.69812125  0.5872984  0.83710909 -1.92838968\n",
       "104 -1.8294743 -0.6488586 -1.69889120 -1.1250427 -1.85884539  0.52739914\n",
       "105  2.5284852  0.2820812  0.06045005  0.1575016 -0.08600852  0.01331849\n",
       "106  0.1879677  0.5098609  0.90162621 -0.6763861  1.37895743 -0.67202845\n",
       "    x18         x19         x20       \n",
       "101  1.44347498  0.67371749  1.7717413\n",
       "102 -0.34602170 -0.01211526 -0.2644567\n",
       "103 -0.45463000  2.10121360 -0.6133898\n",
       "104  0.53813539 -0.48125009 -0.7055567\n",
       "105 -0.02603377 -0.01077810  2.1851161\n",
       "106 -2.18732890 -0.66608494  0.3323794"
      ]
     },
     "metadata": {},
     "output_type": "display_data"
    },
    {
     "name": "stdout",
     "output_type": "stream",
     "text": [
      "[1] \"test\"\n"
     ]
    }
   ],
   "source": [
    "set.seed(7)\n",
    "\n",
    "df2 <- matrix(NA, nrow=1000, ncol=21) #create a matrix with NAs\n",
    "eps2<- rnorm(1000) #epsilon error term 2\n",
    "\n",
    "#create Beta coefficients\n",
    "for (i in 2:21) {\n",
    "  df2[,i] <- rnorm(1000)\n",
    "}\n",
    "\n",
    "beta = runif(20)\n",
    "beta[sample(20, 5)] = 0\n",
    "print(\"beta coefficients\")\n",
    "print(beta)\n",
    "\n",
    "#create dataframe\n",
    "for (i in 1:nrow(df2)) {\n",
    "  df2[i,1] = (df2[i,2:21] %*% beta) + eps2[i]\n",
    "}\n",
    "\n",
    "df2 <- data.frame(df2)\n",
    "colnames(df2) <- append(\"y\", paste0(\"x\", 1:20))\n",
    "\n",
    "\n",
    "head(df2) #peep that df\n",
    "print(\"full dataset\")\n",
    "\n",
    "## Create test train split\n",
    "train <- sample(nrow(df2) * 0.1)\n",
    "df2_train <- df2[train,]\n",
    "df2_test <- df2[-train,]\n",
    "\n",
    "\n",
    "head(df2_train)\n",
    "print(\"train\")\n",
    "\n",
    "head(df2_test)\n",
    "print(\"test\")"
   ]
  },
  {
   "cell_type": "markdown",
   "id": "5886639c",
   "metadata": {},
   "source": [
    "b) Perform best subset selection on the training set, and plot the associated training and test set MSE for the best model of each size."
   ]
  },
  {
   "cell_type": "code",
   "execution_count": 28,
   "id": "a1dbdf04",
   "metadata": {
    "vscode": {
     "languageId": "r"
    }
   },
   "outputs": [
    {
     "data": {
      "text/plain": [
       "Subset selection object\n",
       "Call: regsubsets.formula(y ~ ., df2_train, nvmax = 20)\n",
       "20 Variables  (and intercept)\n",
       "    Forced in Forced out\n",
       "x1      FALSE      FALSE\n",
       "x2      FALSE      FALSE\n",
       "x3      FALSE      FALSE\n",
       "x4      FALSE      FALSE\n",
       "x5      FALSE      FALSE\n",
       "x6      FALSE      FALSE\n",
       "x7      FALSE      FALSE\n",
       "x8      FALSE      FALSE\n",
       "x9      FALSE      FALSE\n",
       "x10     FALSE      FALSE\n",
       "x11     FALSE      FALSE\n",
       "x12     FALSE      FALSE\n",
       "x13     FALSE      FALSE\n",
       "x14     FALSE      FALSE\n",
       "x15     FALSE      FALSE\n",
       "x16     FALSE      FALSE\n",
       "x17     FALSE      FALSE\n",
       "x18     FALSE      FALSE\n",
       "x19     FALSE      FALSE\n",
       "x20     FALSE      FALSE\n",
       "1 subsets of each size up to 20\n",
       "Selection Algorithm: exhaustive\n",
       "          x1  x2  x3  x4  x5  x6  x7  x8  x9  x10 x11 x12 x13 x14 x15 x16 x17\n",
       "1  ( 1 )  \" \" \" \" \" \" \" \" \" \" \" \" \" \" \" \" \" \" \" \" \" \" \" \" \" \" \" \" \"*\" \" \" \" \"\n",
       "2  ( 1 )  \" \" \" \" \" \" \" \" \"*\" \" \" \" \" \" \" \" \" \" \" \" \" \" \" \" \" \" \" \"*\" \" \" \" \"\n",
       "3  ( 1 )  \"*\" \" \" \" \" \" \" \"*\" \" \" \" \" \" \" \" \" \" \" \" \" \" \" \" \" \" \" \"*\" \" \" \" \"\n",
       "4  ( 1 )  \"*\" \" \" \" \" \" \" \"*\" \" \" \" \" \" \" \" \" \" \" \" \" \" \" \"*\" \" \" \"*\" \" \" \" \"\n",
       "5  ( 1 )  \"*\" \" \" \" \" \" \" \"*\" \"*\" \" \" \" \" \" \" \" \" \" \" \" \" \"*\" \" \" \"*\" \" \" \" \"\n",
       "6  ( 1 )  \"*\" \" \" \" \" \" \" \"*\" \" \" \" \" \" \" \" \" \" \" \"*\" \" \" \"*\" \" \" \"*\" \" \" \" \"\n",
       "7  ( 1 )  \"*\" \" \" \" \" \" \" \"*\" \"*\" \" \" \" \" \" \" \" \" \"*\" \" \" \"*\" \" \" \"*\" \" \" \" \"\n",
       "8  ( 1 )  \"*\" \" \" \" \" \" \" \"*\" \"*\" \" \" \" \" \" \" \" \" \"*\" \" \" \"*\" \" \" \"*\" \" \" \" \"\n",
       "9  ( 1 )  \"*\" \" \" \" \" \" \" \"*\" \"*\" \" \" \" \" \" \" \"*\" \"*\" \" \" \"*\" \" \" \"*\" \" \" \" \"\n",
       "10  ( 1 ) \"*\" \" \" \" \" \" \" \"*\" \"*\" \" \" \" \" \" \" \"*\" \"*\" \" \" \"*\" \"*\" \"*\" \" \" \" \"\n",
       "11  ( 1 ) \"*\" \" \" \" \" \"*\" \"*\" \"*\" \" \" \" \" \" \" \"*\" \"*\" \" \" \"*\" \"*\" \"*\" \" \" \" \"\n",
       "12  ( 1 ) \"*\" \" \" \" \" \"*\" \"*\" \"*\" \" \" \" \" \" \" \"*\" \"*\" \"*\" \"*\" \"*\" \"*\" \" \" \" \"\n",
       "13  ( 1 ) \"*\" \" \" \" \" \"*\" \"*\" \"*\" \" \" \" \" \" \" \"*\" \"*\" \"*\" \"*\" \"*\" \"*\" \" \" \"*\"\n",
       "14  ( 1 ) \"*\" \" \" \"*\" \"*\" \"*\" \"*\" \" \" \" \" \" \" \"*\" \"*\" \"*\" \"*\" \"*\" \"*\" \" \" \"*\"\n",
       "15  ( 1 ) \"*\" \" \" \"*\" \"*\" \"*\" \"*\" \" \" \"*\" \" \" \"*\" \"*\" \"*\" \"*\" \"*\" \"*\" \" \" \"*\"\n",
       "16  ( 1 ) \"*\" \" \" \"*\" \"*\" \"*\" \"*\" \" \" \"*\" \" \" \"*\" \"*\" \"*\" \"*\" \"*\" \"*\" \" \" \"*\"\n",
       "17  ( 1 ) \"*\" \" \" \"*\" \"*\" \"*\" \"*\" \" \" \"*\" \" \" \"*\" \"*\" \"*\" \"*\" \"*\" \"*\" \"*\" \"*\"\n",
       "18  ( 1 ) \"*\" \" \" \"*\" \"*\" \"*\" \"*\" \" \" \"*\" \"*\" \"*\" \"*\" \"*\" \"*\" \"*\" \"*\" \"*\" \"*\"\n",
       "19  ( 1 ) \"*\" \"*\" \"*\" \"*\" \"*\" \"*\" \" \" \"*\" \"*\" \"*\" \"*\" \"*\" \"*\" \"*\" \"*\" \"*\" \"*\"\n",
       "20  ( 1 ) \"*\" \"*\" \"*\" \"*\" \"*\" \"*\" \"*\" \"*\" \"*\" \"*\" \"*\" \"*\" \"*\" \"*\" \"*\" \"*\" \"*\"\n",
       "          x18 x19 x20\n",
       "1  ( 1 )  \" \" \" \" \" \"\n",
       "2  ( 1 )  \" \" \" \" \" \"\n",
       "3  ( 1 )  \" \" \" \" \" \"\n",
       "4  ( 1 )  \" \" \" \" \" \"\n",
       "5  ( 1 )  \" \" \" \" \" \"\n",
       "6  ( 1 )  \"*\" \" \" \" \"\n",
       "7  ( 1 )  \"*\" \" \" \" \"\n",
       "8  ( 1 )  \"*\" \"*\" \" \"\n",
       "9  ( 1 )  \"*\" \"*\" \" \"\n",
       "10  ( 1 ) \"*\" \"*\" \" \"\n",
       "11  ( 1 ) \"*\" \"*\" \" \"\n",
       "12  ( 1 ) \"*\" \"*\" \" \"\n",
       "13  ( 1 ) \"*\" \"*\" \" \"\n",
       "14  ( 1 ) \"*\" \"*\" \" \"\n",
       "15  ( 1 ) \"*\" \"*\" \" \"\n",
       "16  ( 1 ) \"*\" \"*\" \"*\"\n",
       "17  ( 1 ) \"*\" \"*\" \"*\"\n",
       "18  ( 1 ) \"*\" \"*\" \"*\"\n",
       "19  ( 1 ) \"*\" \"*\" \"*\"\n",
       "20  ( 1 ) \"*\" \"*\" \"*\""
      ]
     },
     "metadata": {},
     "output_type": "display_data"
    },
    {
     "name": "stdout",
     "output_type": "stream",
     "text": [
      "(Intercept)          x1          x2          x3          x4          x5 \n",
      " 0.29081201  1.01264805  0.01971645  0.09928467  0.43884096  0.84629156 \n",
      "         x6          x7          x8          x9         x10         x11 \n",
      " 0.96577718  0.01331592 -0.10515270 -0.03937084  0.58971080  0.96638463 \n",
      "        x12         x13         x14         x15         x16         x17 \n",
      " 0.52096672  0.95174582  0.39375664  0.99052263  0.06275071  0.43110391 \n",
      "        x18         x19         x20 \n",
      " 0.71683658  0.51769531  0.07228924 \n"
     ]
    },
    {
     "data": {
      "image/png": "[encoded data removed]",
      "text/plain": [
       "plot without title"
      ]
     },
     "metadata": {
      "image/png": {
       "height": 420,
       "width": 420
      }
     },
     "output_type": "display_data"
    },
    {
     "data": {
      "image/png": "[encoded data removed]",
      "text/plain": [
       "plot without title"
      ]
     },
     "metadata": {
      "image/png": {
       "height": 420,
       "width": 420
      }
     },
     "output_type": "display_data"
    }
   ],
   "source": [
    "## Perform best subset selection on the training set\n",
    "regfit.full <- regsubsets(y ~ ., df2_train, nvmax = 20)\n",
    "bestsubset_summary <- summary(regfit.full)\n",
    "bestsubset_summary\n",
    "\n",
    "\n",
    "## Plot associated training set MSE for best model of each size\n",
    "tibble(MSE = bestsubset_summary$rss/900) %>%\n",
    "  mutate(id = row_number()) %>%\n",
    "  ggplot(aes(id, MSE)) + \n",
    "  geom_line() + geom_point() + \n",
    "  xlab('Variables') + \n",
    "  ggtitle('MSE on training set') + \n",
    "  scale_x_continuous(breaks = 1:20) + theme_light()\n",
    "\n",
    "\n",
    "## Plot associated test set MSE for best model of each size\n",
    "test_errors = rep(NA, 19)\n",
    "test.matrix <- model.matrix(y ~ ., data = df2_test)\n",
    "\n",
    "for (i in 1:20) {\n",
    "  coeffs = coef(regfit.full, id = i)\n",
    "  pred = test.matrix[,names(coeffs)]%*%coeffs\n",
    "  test_errors[i] = mean((df2_test$y-pred)^2)\n",
    "}\n",
    "\n",
    "print(coeffs)\n",
    "\n",
    "tibble(MSE = test_errors) %>%\n",
    "  mutate(id = row_number()) %>%\n",
    "  ggplot(aes(id, MSE)) + \n",
    "  geom_line() + geom_point() + \n",
    "  xlab(\"Variables\") + \n",
    "  ggtitle(\"MSE on testing set\") + theme_light()\n",
    "\n"
   ]
  },
  {
   "cell_type": "markdown",
   "id": "24f9d2f1",
   "metadata": {},
   "source": [
    "c) Identify the best model according the test MSE. How does this model compare to the actual model used to simulate the dataset?\n",
    "\n",
    "*Note: If the model identified contains only an intercept or all of the features, then generate a new dataset (i.e. repeat part a with a different random seed) until the test set MSE is minimized for an intermediate model size.*"
   ]
  },
  {
   "cell_type": "code",
   "execution_count": 29,
   "id": "87db7d52",
   "metadata": {
    "vscode": {
     "languageId": "r"
    }
   },
   "outputs": [
    {
     "data": {
      "text/html": [
       "14"
      ],
      "text/latex": [
       "14"
      ],
      "text/markdown": [
       "14"
      ],
      "text/plain": [
       "[1] 14"
      ]
     },
     "metadata": {},
     "output_type": "display_data"
    },
    {
     "data": {
      "text/html": [
       "<style>\n",
       ".dl-inline {width: auto; margin:0; padding: 0}\n",
       ".dl-inline>dt, .dl-inline>dd {float: none; width: auto; display: inline-block}\n",
       ".dl-inline>dt::after {content: \":\\0020\"; padding-right: .5ex}\n",
       ".dl-inline>dt:not(:first-of-type) {padding-left: .5ex}\n",
       "</style><dl class=dl-inline><dt>(Intercept)</dt><dd>0.288520340369265</dd><dt>x1</dt><dd>1.026148874091</dd><dt>x3</dt><dd>0.0960713376456776</dd><dt>x4</dt><dd>0.416537765774045</dd><dt>x5</dt><dd>0.838194107119138</dd><dt>x6</dt><dd>0.962123117406634</dd><dt>x10</dt><dd>0.616975194088475</dd><dt>x11</dt><dd>0.971490975417402</dd><dt>x12</dt><dd>0.505325499351793</dd><dt>x13</dt><dd>0.927253331478886</dd><dt>x14</dt><dd>0.423547634479969</dd><dt>x15</dt><dd>0.977017658684067</dd><dt>x17</dt><dd>0.438581925596646</dd><dt>x18</dt><dd>0.726257164242759</dd><dt>x19</dt><dd>0.523121785094658</dd></dl>\n"
      ],
      "text/latex": [
       "\\begin{description*}\n",
       "\\item[(Intercept)] 0.288520340369265\n",
       "\\item[x1] 1.026148874091\n",
       "\\item[x3] 0.0960713376456776\n",
       "\\item[x4] 0.416537765774045\n",
       "\\item[x5] 0.838194107119138\n",
       "\\item[x6] 0.962123117406634\n",
       "\\item[x10] 0.616975194088475\n",
       "\\item[x11] 0.971490975417402\n",
       "\\item[x12] 0.505325499351793\n",
       "\\item[x13] 0.927253331478886\n",
       "\\item[x14] 0.423547634479969\n",
       "\\item[x15] 0.977017658684067\n",
       "\\item[x17] 0.438581925596646\n",
       "\\item[x18] 0.726257164242759\n",
       "\\item[x19] 0.523121785094658\n",
       "\\end{description*}\n"
      ],
      "text/markdown": [
       "(Intercept)\n",
       ":   0.288520340369265x1\n",
       ":   1.026148874091x3\n",
       ":   0.0960713376456776x4\n",
       ":   0.416537765774045x5\n",
       ":   0.838194107119138x6\n",
       ":   0.962123117406634x10\n",
       ":   0.616975194088475x11\n",
       ":   0.971490975417402x12\n",
       ":   0.505325499351793x13\n",
       ":   0.927253331478886x14\n",
       ":   0.423547634479969x15\n",
       ":   0.977017658684067x17\n",
       ":   0.438581925596646x18\n",
       ":   0.726257164242759x19\n",
       ":   0.523121785094658\n",
       "\n"
      ],
      "text/plain": [
       "(Intercept)          x1          x3          x4          x5          x6 \n",
       " 0.28852034  1.02614887  0.09607134  0.41653777  0.83819411  0.96212312 \n",
       "        x10         x11         x12         x13         x14         x15 \n",
       " 0.61697519  0.97149098  0.50532550  0.92725333  0.42354763  0.97701766 \n",
       "        x17         x18         x19 \n",
       " 0.43858193  0.72625716  0.52312179 "
      ]
     },
     "metadata": {},
     "output_type": "display_data"
    }
   ],
   "source": [
    "which.min(test_errors)\n",
    "coef(regfit.full, which.min(test_errors))"
   ]
  },
  {
   "cell_type": "markdown",
   "id": "894b4503",
   "metadata": {},
   "source": [
    "> It looks like the MSE stabilizes arounnd 12-13 terms for both the training and test set. "
   ]
  },
  {
   "cell_type": "markdown",
   "id": "35b974f0",
   "metadata": {},
   "source": [
    "**DUE:** 5pm EST, April 15th, 2022"
   ]
  },
  {
   "cell_type": "markdown",
   "id": "957a72c5",
   "metadata": {},
   "source": [
    "**IMPORTANT** Did you collaborate with anyone on this assignment? If so, list their names here. \n",
    "> Emily Goldberg, queen of R and someone who really deserves ice cream :) "
   ]
  }
 ],
 "metadata": {
  "kernelspec": {
   "display_name": "R",
   "language": "R",
   "name": "ir"
  },
  "language_info": {
   "codemirror_mode": "r",
   "file_extension": ".r",
   "mimetype": "text/x-r-source",
   "name": "R",
   "pygments_lexer": "r",
   "version": "4.0.5"
  }
 },
 "nbformat": 4,
 "nbformat_minor": 5
}
