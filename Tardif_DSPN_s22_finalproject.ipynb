{
 "cells": [
  {
   "cell_type": "markdown",
   "id": "5f5ffa4e",
   "metadata": {},
   "source": [
    "# Title: Rate of speech adaptation to gradually increasing delayed auditory feedback\n",
    "\n",
    "## by Monique C. Tardif"
   ]
  },
  {
   "cell_type": "markdown",
   "id": "df08a4dc",
   "metadata": {},
   "source": [
    "# 2. Background\n",
    "\n",
    "When we speak, we can typically hear what we say; this is called auditory feedback. We use this feedback by comparing it to what we intended to say, to determine whether or not we produced an error in our speech. Models of speech motor control typically include the predictive models that serve to anticipate the auditory consequences of planned speech, which is then compared to auditory feedback. Auditory-motor adaptation experiments are used to investigate the short-term plasticity of spectral (the what. i.e formants and pitch) predictions from the forward model by gradually altering the feedback signals heard by participants over many trials. However, these studies have not established the extent of plasticity of temporal (the when) forward model predictions. Delayed auditory feedback (DAF) is commonly used to modify when feedback arrives and causes noticeable rate reductions during speech (Yates, 1961). Karlin, Naber, and Parrell (2021), showed that individuals are sensitive to focal changes in feedback timing during vowel productions. The goal of this study is to quantify adaptation to gradual changes in latency of delayed auditory feedback (DAF). We did so by applying paradigms previously used for measuring adaptation to gradual spectral changes. Katz and Lackner (1977) showed that participants adapted to a DAF task similar to the one used presently, but to our knowledge that study has not been replicated. "
   ]
  },
  {
   "cell_type": "markdown",
   "id": "dfd8b9ca",
   "metadata": {},
   "source": [
    "# 3. Variables\n",
    "\n",
    "#### Rate of speech: \n",
    "Rate of speech is the outcome measure; a continuous numerical variable that quantifies the number of syllables a participant produced in a second. We obtained these values by parsing each utterance produce on a given trial and using praat’s Vocal toolkit plugin extracted the rate of speech measures using a semi-automatic algorithm that counts acoustic spectral peaks over the duration of phonation. Our lab completed some testing to optimize the settings of the algorithm as well as some manual reliability testing, I will not get into the details here for the sake of brevity. We have one measure of rate of speech per trial per participant, which is ideally 600 trials per experiment x 29 participants = 17 400 observations of rate of speech. The final number is different due to cleaning and participant exclusion discussed below. \n",
    "\n",
    "#### Baseline corrected rate of speech: \n",
    "This variable is the same as above, however it has been normalized to the baseline section of the experiment. This means, that the mean rate of speech for the GRADUAL and SUDDEN conditions were calculated for each individual condition. For those same conditions, the participant’s baseline mean rate of speech was subtracted from the rate of per individual trial. This provides us with a measure quantifying how much the rate of speech has changed given the presentation of delay (either gradually or suddenly). For the RAND condition, the participant mean for GRADUAL and SUDDEN pooled was used as a baseline. This was done to ensure that  \n",
    "\n",
    "#### Delay: \n",
    "This continuous numerical variable quantifies the amount of time between the production of a word and the playback over headphones. That is to say, the difference between when a participant said a word, and when they heard it; the amount of delayed auditory feedback (DAF) received by a participant on any given trial. It ranges from 0 (or a very minimal subthreshold 6 ms) to 100ms. This is the key independent variables that was manipulated in three different ways across the 3 conditions of the experiments (explained below).\n",
    "\n",
    "#### Participant ID: \n",
    "This is an arbitrary categorical variable applied to organize participants by the order they participated in the experiment. No significance should be placed on the numerical values attributed to each participants. In the end there are 23 participants included in the final analysis. \n",
    "\n",
    "#### Condition: \n",
    "The condition is a categorical variable that distinguishes between three orders of DAF presentation. See figure ZXC for a diagram of these conditions. SUDDEN is a condition in which following a baseline 25 trials with 0 delay, the delay is increased to 100ms during the hold phase for 150 trials, followed by an after-effect phase where the delay returns to 0 for 25 trials. The GRADUAL condition is the one in which following a similar baseline portion to the SUDDEN condition, the RAND is the presentation of random delays distributed between 15-100ms to mirror the delays presented in the GRADUAL condition across all phases of the experiment. Each participant received all three conditions. \n",
    "\n",
    "#### Trial Number: \n",
    "A discrete series of numbers from 1-200 per condition, totaling 600 trials per participant. The trial number is related to the amount of delay provided to participants (as described for the condition variable). \n",
    "\n",
    "#### Section of experiment: \n",
    "This categorical variable serves as a way to bin trials in order to best represent the changes occurring in the condition at that portion of the experiment. The first 25 trials are labelled as “baseline” since in the GRADUAL and SUDDEN conditions these trials contain no delayed auditory feedback (DAF). From trials 26-125, this is the ramp section: in the GRADUAL condition this means that there is a 0.75ms increase of delay per trial, in the SUDDEN condition the delay is held constant at 100ms. Next is the hold section, during both the GRADUAL and SUDDEN conditions the delays are held at 100ms. Finally, the GRADUAL and SUDDEN conditions contain a final 25 trials with 0 ms DAF. The sections of the experiment are less applicable or important when applying it to the RAND condition since, for this condition, the delays have been randomly assigned to any given trial. \n",
    "\n",
    "#### Order: \n",
    "The order of presentation of conditions was pseudorandomized for each participant to make sure they were controlled across all participants. 6 presentations were rotated between—e.g., GRADUAL presented first, followed by SUDDEN, then RAND, or RAND, GRADUAL, SUDDEN. This is a categorical variable that will be controlled for as a random factor. \n"
   ]
  },
  {
   "cell_type": "markdown",
   "id": "87aa58be",
   "metadata": {},
   "source": [
    "# 4. Hypotheses\n",
    "\n",
    "#### Purpose and Hypotheses\n",
    "The purpose of this study was to examine the degree of plasticity present in the temporal predictions of forward models of speech. Specifically, we aimed to establish to what extent individuals can learn to compensate to (be less affected by) gradually increasing magnitudes of delayed auditory feedback (DAF). \n",
    "\n",
    "#### Hypothesis 1\n",
    "Prior work establishes that participants reduce their rate of speech in response to DAF (Shiller et al., 2020; Yates, 1963). We predict that the incremental increase of DAF will lead to compensation—smaller reduction—in rate of speech. This comparison will be quantified across all sections, but with particular attention to the hold section in the GRADUAL vs. SUDDEN conditions, where we will see more slowing of rate of speech (a slower rate of speech: i.e a large negative Estimate coefficient) in the SUDDEN condition when compared to the GRADUAL condition. Since we anticipate that different delay presentations will have different effects on rate of speech, we anticipate seeing an interaction between condition and section of the experiment. This will be mostly driven by the ramp and hold sections. \n",
    "\n",
    "#### Hypothesis 2\n",
    "Prior studies establish that delays larger than 50ms DAF seems to have a noticeable impact on speech (Stuart et al., 2002). Here, we wish to explore the threshold which delay along the ramp from 25-100ms begin to affect rate of speech compared to the previous delay. This will be quantified across the ramp portion of the experiment for the GRADUAL condition, and along a corresponding section of the SUDDEN condition. Repeated t-test analysis & Bayesian analyses will reveal at every trial bin whether there is a difference between the GRADUAL and SUDDEN condition. \n"
   ]
  },
  {
   "cell_type": "markdown",
   "id": "bf67e5d0",
   "metadata": {},
   "source": [
    "# 5. Data Organization"
   ]
  },
  {
   "cell_type": "markdown",
   "id": "2c8c5ecc",
   "metadata": {},
   "source": [
    "# 6. Analysis\n",
    "\n"
   ]
  },
  {
   "cell_type": "markdown",
   "id": "c149fcd8",
   "metadata": {},
   "source": [
    "# 7.Conclusion\n",
    "\n",
    "Overall, these results demonstrate that speakers were able to maintain a faster speaking rate when delays were introduced gradually over time rather than suddenly or randomly. This evidence supports the idea that forward temporal predictions are adaptable during speech."
   ]
  },
  {
   "cell_type": "code",
   "execution_count": null,
   "id": "c2b3f474",
   "metadata": {},
   "outputs": [],
   "source": [
    "## 8. Acknowledgements\n",
    "\n",
    "I would like to thank and acknowledge my advisor Dr. Jason"
   ]
  }
 ],
 "metadata": {
  "kernelspec": {
   "display_name": "R",
   "language": "R",
   "name": "ir"
  },
  "language_info": {
   "codemirror_mode": "r",
   "file_extension": ".r",
   "mimetype": "text/x-r-source",
   "name": "R",
   "pygments_lexer": "r",
   "version": "4.0.5"
  }
 },
 "nbformat": 4,
 "nbformat_minor": 5
}
