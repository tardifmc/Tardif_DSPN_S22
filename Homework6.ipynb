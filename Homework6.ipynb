{
 "cells": [
  {
   "cell_type": "markdown",
   "metadata": {
    "id": "-2W919d2ZXp7"
   },
   "source": [
    "# Homework 6: Mixed effects"
   ]
  },
  {
   "cell_type": "markdown",
   "metadata": {
    "id": "L4nOzVhyZXqK"
   },
   "source": [
    "This homework assignment is designed to give you practice fitting and interpreting mixed effects models. \n",
    "\n",
    "We will be using the **LexicalData.csv** and **Items.csv** files from the *Homework/lexDat* folder in the class GitHub repository again. \n",
    "\n",
    "This data is a subset of the [English Lexicon Project database](https://elexicon.wustl.edu/). It provides the reaction times (in milliseconds) of many subjects as they are presented with letter strings and asked to decide, as quickly and as accurately as possible, whether the letter string is a word or not. The **Items.csv** provides characteristics of the words used, namely frequency (how common is this word?) and length (how many letters?). Unlike in the previous homework, there isn't any missing data in the **LexicalData.csv** file. \n",
    "\n",
    "*Data courtesy of Balota, D.A., Yap, M.J., Cortese, M.J., Hutchison, K.A., Kessler, B., Loftis, B., Neely, J.H., Nelson, D.L., Simpson, G.B., & Treiman, R. (2007). The English Lexicon Project. Behavior Research Methods, 39, 445-459.*"
   ]
  },
  {
   "cell_type": "markdown",
   "metadata": {
    "id": "9DsyBTB6ZXqN"
   },
   "source": [
    "---\n",
    "## 1. Loading and formatting the data (1 point)\n",
    "\n",
    "Load in data from the **LexicalData.csv** and **Items.csv** files. As in the previous homeworks, remove the commas from the reaction times and convert them from strings to numbers. Use `left_join` to add word characteristics `Length` and `Log_Freq_Hal` from **Items** to **LexicalData**. \n",
    "\n",
    "*Note: the `Freq_HAL` variable in **Items.csv** has a similar formatting issue, using string values with commas. We're not going to worry about fixing this since we're only using `Log_Freq_HAL`, which is the natural log transformation of `Freq_HAL`, in this homework.*"
   ]
  },
  {
   "cell_type": "code",
   "execution_count": 10,
   "metadata": {
    "colab": {
     "base_uri": "https://localhost:8080/",
     "height": 283
    },
    "executionInfo": {
     "elapsed": 3646,
     "status": "ok",
     "timestamp": 1615941478718,
     "user": {
      "displayName": "Patience Stevens",
      "photoUrl": "https://lh3.googleusercontent.com/a-/AOh14Gi-_9ZqhIFhAv1oMehJNvNuIKSTyrFQHzjxQKhx=s64",
      "userId": "01994571539255174942"
     },
     "user_tz": 240
    },
    "id": "UnBVazYfZXqP",
    "outputId": "ac15e53d-db29-431a-cefe-c4a81bee3024"
   },
   "outputs": [
    {
     "data": {
      "text/html": [
       "FALSE"
      ],
      "text/latex": [
       "FALSE"
      ],
      "text/markdown": [
       "FALSE"
      ],
      "text/plain": [
       "[1] FALSE"
      ]
     },
     "metadata": {},
     "output_type": "display_data"
    },
    {
     "data": {
      "text/html": [
       "<table class=\"dataframe\">\n",
       "<caption>A data.frame: 6 × 12</caption>\n",
       "<thead>\n",
       "\t<tr><th></th><th scope=col>Sub_ID</th><th scope=col>Trial</th><th scope=col>Type</th><th scope=col>D_RT</th><th scope=col>D_Word</th><th scope=col>Outlier</th><th scope=col>D_Zscore</th><th scope=col>Word</th><th scope=col>Occurrences</th><th scope=col>Length</th><th scope=col>Freq_HAL</th><th scope=col>Log_Freq_HAL</th></tr>\n",
       "\t<tr><th></th><th scope=col>&lt;int&gt;</th><th scope=col>&lt;int&gt;</th><th scope=col>&lt;int&gt;</th><th scope=col>&lt;dbl&gt;</th><th scope=col>&lt;chr&gt;</th><th scope=col>&lt;chr&gt;</th><th scope=col>&lt;dbl&gt;</th><th scope=col>&lt;chr&gt;</th><th scope=col>&lt;int&gt;</th><th scope=col>&lt;int&gt;</th><th scope=col>&lt;chr&gt;</th><th scope=col>&lt;dbl&gt;</th></tr>\n",
       "</thead>\n",
       "<tbody>\n",
       "\t<tr><th scope=row>1</th><td>157</td><td>1</td><td>1</td><td> 710</td><td>browse     </td><td>false</td><td>-0.437</td><td>browse     </td><td>2</td><td> 6</td><td>7,016</td><td>8.856</td></tr>\n",
       "\t<tr><th scope=row>2</th><td> 67</td><td>1</td><td>1</td><td>1094</td><td>refrigerant</td><td>false</td><td> 0.825</td><td>refrigerant</td><td>3</td><td>11</td><td>104  </td><td>4.644</td></tr>\n",
       "\t<tr><th scope=row>3</th><td>120</td><td>1</td><td>1</td><td> 587</td><td>gaining    </td><td>false</td><td>-0.645</td><td>gaining    </td><td>4</td><td> 7</td><td>4,039</td><td>8.304</td></tr>\n",
       "\t<tr><th scope=row>4</th><td> 21</td><td>1</td><td>1</td><td> 984</td><td>cheerless  </td><td>false</td><td> 0.025</td><td>cheerless  </td><td>4</td><td> 9</td><td>14   </td><td>2.639</td></tr>\n",
       "\t<tr><th scope=row>5</th><td>236</td><td>1</td><td>1</td><td> 577</td><td>pattered   </td><td>false</td><td>-0.763</td><td>pattered   </td><td>4</td><td> 8</td><td>4    </td><td>1.386</td></tr>\n",
       "\t<tr><th scope=row>6</th><td>236</td><td>2</td><td>1</td><td> 715</td><td>conjures   </td><td>false</td><td>-0.364</td><td>conjures   </td><td>4</td><td> 8</td><td>194  </td><td>5.268</td></tr>\n",
       "</tbody>\n",
       "</table>\n"
      ],
      "text/latex": [
       "A data.frame: 6 × 12\n",
       "\\begin{tabular}{r|llllllllllll}\n",
       "  & Sub\\_ID & Trial & Type & D\\_RT & D\\_Word & Outlier & D\\_Zscore & Word & Occurrences & Length & Freq\\_HAL & Log\\_Freq\\_HAL\\\\\n",
       "  & <int> & <int> & <int> & <dbl> & <chr> & <chr> & <dbl> & <chr> & <int> & <int> & <chr> & <dbl>\\\\\n",
       "\\hline\n",
       "\t1 & 157 & 1 & 1 &  710 & browse      & false & -0.437 & browse      & 2 &  6 & 7,016 & 8.856\\\\\n",
       "\t2 &  67 & 1 & 1 & 1094 & refrigerant & false &  0.825 & refrigerant & 3 & 11 & 104   & 4.644\\\\\n",
       "\t3 & 120 & 1 & 1 &  587 & gaining     & false & -0.645 & gaining     & 4 &  7 & 4,039 & 8.304\\\\\n",
       "\t4 &  21 & 1 & 1 &  984 & cheerless   & false &  0.025 & cheerless   & 4 &  9 & 14    & 2.639\\\\\n",
       "\t5 & 236 & 1 & 1 &  577 & pattered    & false & -0.763 & pattered    & 4 &  8 & 4     & 1.386\\\\\n",
       "\t6 & 236 & 2 & 1 &  715 & conjures    & false & -0.364 & conjures    & 4 &  8 & 194   & 5.268\\\\\n",
       "\\end{tabular}\n"
      ],
      "text/markdown": [
       "\n",
       "A data.frame: 6 × 12\n",
       "\n",
       "| <!--/--> | Sub_ID &lt;int&gt; | Trial &lt;int&gt; | Type &lt;int&gt; | D_RT &lt;dbl&gt; | D_Word &lt;chr&gt; | Outlier &lt;chr&gt; | D_Zscore &lt;dbl&gt; | Word &lt;chr&gt; | Occurrences &lt;int&gt; | Length &lt;int&gt; | Freq_HAL &lt;chr&gt; | Log_Freq_HAL &lt;dbl&gt; |\n",
       "|---|---|---|---|---|---|---|---|---|---|---|---|---|\n",
       "| 1 | 157 | 1 | 1 |  710 | browse      | false | -0.437 | browse      | 2 |  6 | 7,016 | 8.856 |\n",
       "| 2 |  67 | 1 | 1 | 1094 | refrigerant | false |  0.825 | refrigerant | 3 | 11 | 104   | 4.644 |\n",
       "| 3 | 120 | 1 | 1 |  587 | gaining     | false | -0.645 | gaining     | 4 |  7 | 4,039 | 8.304 |\n",
       "| 4 |  21 | 1 | 1 |  984 | cheerless   | false |  0.025 | cheerless   | 4 |  9 | 14    | 2.639 |\n",
       "| 5 | 236 | 1 | 1 |  577 | pattered    | false | -0.763 | pattered    | 4 |  8 | 4     | 1.386 |\n",
       "| 6 | 236 | 2 | 1 |  715 | conjures    | false | -0.364 | conjures    | 4 |  8 | 194   | 5.268 |\n",
       "\n"
      ],
      "text/plain": [
       "  Sub_ID Trial Type D_RT D_Word      Outlier D_Zscore Word        Occurrences\n",
       "1 157    1     1     710 browse      false   -0.437   browse      2          \n",
       "2  67    1     1    1094 refrigerant false    0.825   refrigerant 3          \n",
       "3 120    1     1     587 gaining     false   -0.645   gaining     4          \n",
       "4  21    1     1     984 cheerless   false    0.025   cheerless   4          \n",
       "5 236    1     1     577 pattered    false   -0.763   pattered    4          \n",
       "6 236    2     1     715 conjures    false   -0.364   conjures    4          \n",
       "  Length Freq_HAL Log_Freq_HAL\n",
       "1  6     7,016    8.856       \n",
       "2 11     104      4.644       \n",
       "3  7     4,039    8.304       \n",
       "4  9     14       2.639       \n",
       "5  8     4        1.386       \n",
       "6  8     194      5.268       "
      ]
     },
     "metadata": {},
     "output_type": "display_data"
    }
   ],
   "source": [
    "library(tidyverse)\n",
    "\n",
    "setwd(\"C:/Users/MCT40/OneDrive - University of Pittsburgh/Classes/Spring2022/CMU_STATS/HOMEWORK\")\n",
    "LD <- read.csv(\"lexDat/LexicalData.csv\")\n",
    "items <- read.csv(\"lexDat/items.csv\")\n",
    "\n",
    "LD_nona <- LD\n",
    "LD_nona$D_RT <- as.numeric(gsub(\",\", \"\", LD$D_RT)) #remove the commas and make the col numeric\n",
    "LD_nona %>% filter(D_RT !=\"n/a\") -> LD2 #remove NAs save to LD2\n",
    "\n",
    "any(LD2$D_RT == \"n/a\")\n",
    "\n",
    "LD2$Word <- LD$D_Word #add a new column identical to D_Word just called word to join the two databases\n",
    "#I added a new column instead of renaming it because I wasn't sure this was correct\n",
    "# In other iterationa I would simply rename this column using the \"names\" function\n",
    "\n",
    "LD3 <- left_join(LD2, items, by='Word') #adding together all of the variables to make the final question of the homework easier\n",
    "head(LD3)"
   ]
  },
  {
   "cell_type": "markdown",
   "metadata": {
    "id": "bXy81Viishk1"
   },
   "source": [
    "---\n",
    "## 2. Model fitting (4 points)"
   ]
  },
  {
   "cell_type": "markdown",
   "metadata": {
    "id": "H7_gEgkbzFtU"
   },
   "source": [
    "First, fit a linear model with `Log_Freq_HAL` and `Length` as predictors, and `D_RT` as the output. Include an interaction term. Use `summary()` to look at the model output. "
   ]
  },
  {
   "cell_type": "code",
   "execution_count": 11,
   "metadata": {
    "colab": {
     "base_uri": "https://localhost:8080/",
     "height": 357
    },
    "executionInfo": {
     "elapsed": 218,
     "status": "ok",
     "timestamp": 1615950762843,
     "user": {
      "displayName": "Patience Stevens",
      "photoUrl": "https://lh3.googleusercontent.com/a-/AOh14Gi-_9ZqhIFhAv1oMehJNvNuIKSTyrFQHzjxQKhx=s64",
      "userId": "01994571539255174942"
     },
     "user_tz": 240
    },
    "id": "OIOIg-GRz4rN",
    "outputId": "34ebc9d5-f7dc-4bc0-bc4a-9ed6b8a38630"
   },
   "outputs": [
    {
     "data": {
      "text/plain": [
       "\n",
       "Call:\n",
       "lm(formula = D_RT ~ Log_Freq_HAL * Length, data = LD3)\n",
       "\n",
       "Residuals:\n",
       "     Min       1Q   Median       3Q      Max \n",
       "-1118.01  -205.23   -86.95    90.77  3147.07 \n",
       "\n",
       "Coefficients:\n",
       "                    Estimate Std. Error t value Pr(>|t|)    \n",
       "(Intercept)         610.1903    14.6678  41.601  < 2e-16 ***\n",
       "Log_Freq_HAL         -6.0239     1.9678  -3.061  0.00221 ** \n",
       "Length               47.7531     1.6368  29.175  < 2e-16 ***\n",
       "Log_Freq_HAL:Length  -2.9421     0.2348 -12.528  < 2e-16 ***\n",
       "---\n",
       "Signif. codes:  0 '***' 0.001 '**' 0.01 '*' 0.05 '.' 0.1 ' ' 1\n",
       "\n",
       "Residual standard error: 359.1 on 62606 degrees of freedom\n",
       "Multiple R-squared:  0.09473,\tAdjusted R-squared:  0.09469 \n",
       "F-statistic:  2184 on 3 and 62606 DF,  p-value: < 2.2e-16\n"
      ]
     },
     "metadata": {},
     "output_type": "display_data"
    },
    {
     "data": {
      "text/html": [
       "914436.394428578"
      ],
      "text/latex": [
       "914436.394428578"
      ],
      "text/markdown": [
       "914436.394428578"
      ],
      "text/plain": [
       "[1] 914436.4"
      ]
     },
     "metadata": {},
     "output_type": "display_data"
    }
   ],
   "source": [
    "ML1 <- lm(D_RT ~ Log_Freq_HAL * Length, data= LD3)\n",
    "summary(ML1)\n",
    "AIC(ML1)"
   ]
  },
  {
   "cell_type": "markdown",
   "metadata": {
    "id": "Pbeg_JrS3mwU"
   },
   "source": [
    "Now, install `lme4` using `install.packages()` and then load the library. "
   ]
  },
  {
   "cell_type": "code",
   "execution_count": 12,
   "metadata": {
    "colab": {
     "base_uri": "https://localhost:8080/"
    },
    "executionInfo": {
     "elapsed": 194755,
     "status": "ok",
     "timestamp": 1615942729586,
     "user": {
      "displayName": "Patience Stevens",
      "photoUrl": "https://lh3.googleusercontent.com/a-/AOh14Gi-_9ZqhIFhAv1oMehJNvNuIKSTyrFQHzjxQKhx=s64",
      "userId": "01994571539255174942"
     },
     "user_tz": 240
    },
    "id": "hFSnvvb_re2O",
    "outputId": "c834867c-929f-4792-ed8f-753f0b17d91a"
   },
   "outputs": [
    {
     "name": "stderr",
     "output_type": "stream",
     "text": [
      "Warning message:\n",
      "\"package 'lme4' is in use and will not be installed\"\n"
     ]
    }
   ],
   "source": [
    "#install.packages(\"lme4\") because I ran this a few times\n",
    "library(lme4)\n",
    "\n"
   ]
  },
  {
   "cell_type": "markdown",
   "metadata": {
    "id": "xZJns7xr41nW"
   },
   "source": [
    "Now fit a mixed effects model that includes the same predictors as the linear model above, as well as random intercepts for `Sub_ID` (i.e., cases where subject ID shifts the RT mean). Use `summary()` to look at the model output. "
   ]
  },
  {
   "cell_type": "code",
   "execution_count": 13,
   "metadata": {
    "colab": {
     "base_uri": "https://localhost:8080/",
     "height": 493
    },
    "executionInfo": {
     "elapsed": 899,
     "status": "ok",
     "timestamp": 1615950778119,
     "user": {
      "displayName": "Patience Stevens",
      "photoUrl": "https://lh3.googleusercontent.com/a-/AOh14Gi-_9ZqhIFhAv1oMehJNvNuIKSTyrFQHzjxQKhx=s64",
      "userId": "01994571539255174942"
     },
     "user_tz": 240
    },
    "id": "8kjwT0je57N7",
    "outputId": "6f4974ab-621d-4608-f3bf-113735ede739"
   },
   "outputs": [
    {
     "data": {
      "text/plain": [
       "Linear mixed model fit by REML ['lmerMod']\n",
       "Formula: D_RT ~ Log_Freq_HAL * Length + (1 | Sub_ID)\n",
       "   Data: LD3\n",
       "\n",
       "REML criterion at convergence: 888235.6\n",
       "\n",
       "Scaled residuals: \n",
       "    Min      1Q  Median      3Q     Max \n",
       "-4.5058 -0.5472 -0.1568  0.3103 10.7381 \n",
       "\n",
       "Random effects:\n",
       " Groups   Name        Variance Std.Dev.\n",
       " Sub_ID   (Intercept) 46333    215.3   \n",
       " Residual             82978    288.1   \n",
       "Number of obs: 62610, groups:  Sub_ID, 299\n",
       "\n",
       "Fixed effects:\n",
       "                    Estimate Std. Error t value\n",
       "(Intercept)         616.8445    17.1522  35.963\n",
       "Log_Freq_HAL         -7.4374     1.5830  -4.698\n",
       "Length               47.7477     1.3162  36.277\n",
       "Log_Freq_HAL:Length  -2.8778     0.1888 -15.239\n",
       "\n",
       "Correlation of Fixed Effects:\n",
       "            (Intr) Lg_F_HAL Length\n",
       "Log_Frq_HAL -0.645                \n",
       "Length      -0.656  0.917         \n",
       "Lg_Fr_HAL:L  0.582 -0.942   -0.923"
      ]
     },
     "metadata": {},
     "output_type": "display_data"
    },
    {
     "data": {
      "text/html": [
       "888247.571057002"
      ],
      "text/latex": [
       "888247.571057002"
      ],
      "text/markdown": [
       "888247.571057002"
      ],
      "text/plain": [
       "[1] 888247.6"
      ]
     },
     "metadata": {},
     "output_type": "display_data"
    }
   ],
   "source": [
    "ML2 <- lmer(D_RT ~ Log_Freq_HAL * Length + (1|Sub_ID), data= LD3)\n",
    "summary(ML2)\n",
    "AIC(ML2)\n",
    "\n"
   ]
  },
  {
   "cell_type": "markdown",
   "metadata": {
    "id": "Vfb_ovk7JFGt"
   },
   "source": [
    "---\n",
    "## 3. Model assessment (4 points)"
   ]
  },
  {
   "cell_type": "markdown",
   "metadata": {
    "id": "r7B1Ux6RHGjy"
   },
   "source": [
    "Compare the three t-values for the fixed effects and the mixed effects models. How do they differ, and why? "
   ]
  },
  {
   "cell_type": "markdown",
   "metadata": {
    "id": "kCi5gYOeHo6m"
   },
   "source": [
    "> The t-values are identical in both models (really tiny: < 2e-16) except for the Log_Freq_Hal value which drops from 0.00221 to 2.63e-06 from the linear model to the fixed effect. This indicates that we have a more conservative model in the mixed-effects case. \n",
    "This might be due to accounting for the variability provided by the random effects. "
   ]
  },
  {
   "cell_type": "markdown",
   "metadata": {
    "id": "hukKG1AbGqXM"
   },
   "source": [
    "Use the Aikeke Information Criterion (AIC) to compare these two models. Which one is better? "
   ]
  },
  {
   "cell_type": "code",
   "execution_count": 16,
   "metadata": {
    "colab": {
     "base_uri": "https://localhost:8080/",
     "height": 159
    },
    "executionInfo": {
     "elapsed": 267,
     "status": "ok",
     "timestamp": 1615949607837,
     "user": {
      "displayName": "Patience Stevens",
      "photoUrl": "https://lh3.googleusercontent.com/a-/AOh14Gi-_9ZqhIFhAv1oMehJNvNuIKSTyrFQHzjxQKhx=s64",
      "userId": "01994571539255174942"
     },
     "user_tz": 240
    },
    "id": "KMDg8qb5FhJz",
    "outputId": "a148b06b-ec96-41e3-d13d-a439acbdf6d7"
   },
   "outputs": [
    {
     "data": {
      "text/html": [
       "914436.394428578"
      ],
      "text/latex": [
       "914436.394428578"
      ],
      "text/markdown": [
       "914436.394428578"
      ],
      "text/plain": [
       "[1] 914436.4"
      ]
     },
     "metadata": {},
     "output_type": "display_data"
    },
    {
     "data": {
      "text/html": [
       "888247.571057002"
      ],
      "text/latex": [
       "888247.571057002"
      ],
      "text/markdown": [
       "888247.571057002"
      ],
      "text/plain": [
       "[1] 888247.6"
      ]
     },
     "metadata": {},
     "output_type": "display_data"
    }
   ],
   "source": [
    "AIC(ML1) # Linear model\n",
    "AIC(ML2) # MEM model"
   ]
  },
  {
   "cell_type": "markdown",
   "metadata": {
    "id": "T4oTfsYmIvYt"
   },
   "source": [
    "> The second model (using lme4::lmer) is a better fit because the AIC values are lower.\n",
    " "
   ]
  },
  {
   "cell_type": "markdown",
   "metadata": {
    "id": "ARF2PF2yLXkZ"
   },
   "source": [
    "---\n",
    "##  4. Reflection (1 point)\n",
    "\n",
    "What other random effects could be controlled for in this data set? \n",
    "\n",
    "> Word and number of occurences would be interesting factors to use as random effects."
   ]
  },
  {
   "cell_type": "markdown",
   "metadata": {
    "id": "C4MPECMmZXqe"
   },
   "source": [
    "**DUE:** 5pm EST, March 25, 2022"
   ]
  },
  {
   "cell_type": "markdown",
   "metadata": {
    "id": "r9GUofXN4BVy"
   },
   "source": [
    "**IMPORTANT** Did you collaborate with anyone on this assignment? If so, list their names here. \n",
    "> Dr. (to be) Emily Goldberg, because... she knows what it is"
   ]
  }
 ],
 "metadata": {
  "colab": {
   "collapsed_sections": [],
   "name": "Homework6_solutions.ipynb",
   "provenance": []
  },
  "kernelspec": {
   "display_name": "R",
   "language": "R",
   "name": "ir"
  },
  "language_info": {
   "codemirror_mode": "r",
   "file_extension": ".r",
   "mimetype": "text/x-r-source",
   "name": "R",
   "pygments_lexer": "r",
   "version": "4.0.5"
  }
 },
 "nbformat": 4,
 "nbformat_minor": 1
}
