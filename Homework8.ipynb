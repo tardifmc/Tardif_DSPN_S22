{
 "cells": [
  {
   "cell_type": "markdown",
   "metadata": {
    "id": "YO9Lm6oNn8Ol"
   },
   "source": [
    "# Homework 8:  Resampling methods\n",
    "\n",
    "This homework assignment is designed to give you practice with bootstrapping and permutation tests.\n",
    "\n",
    "You will need to download the **unrestricted_trimmed_1_7_2020_10_50_44.csv** file from the *Homework/hcp_data* folder in the class GitHub repository. \n",
    "\n",
    "This data is a portion of the [Human Connectome Project database](http://www.humanconnectomeproject.org/). It provides measures of cognitive tasks and brain morphology measuresments from 1206 participants. The full description of each variable is provided in the **HCP_S1200_DataDictionary_April_20_2018.csv** file in the *Homework/hcp_data* folder in the class GitHub repository."
   ]
  },
  {
   "cell_type": "markdown",
   "metadata": {
    "id": "h8YQJS8Dn8Or"
   },
   "source": [
    "---\n",
    "## 1. Loading & Visualizing the Data (1 point)\n",
    "\n",
    "Use the `setwd` and `read.csv` functions to load data from the **unrestricted_trimmed_1_7_2020_10_50_44.csv** file. \n",
    "\n",
    "(a) Using the tidyverse tools, make a new dataframe `d1` that only inclues the subject ID (`Subject`), gender (`Gender`, self reported at time of data collection), Flanker Task performance (`Flanker_Unadj`), total intracranial volume (`FS_IntraCranial_Vol`), total white matter volume (`FS_Tot_WM_Vol`), and total grey matter volume (`FS_Total_GM_Vol`) variables and remove all _na_ values.\n",
    "\n",
    "Use the `head` function to look at the first few rows of each data frame. "
   ]
  },
  {
   "cell_type": "code",
   "execution_count": 24,
   "metadata": {},
   "outputs": [],
   "source": [
    "#Load packages\n",
    "library(tidyverse)\n",
    "library(ggplot2)\n",
    "library(ISLR)\n",
    "library(boot)"
   ]
  },
  {
   "cell_type": "code",
   "execution_count": 12,
   "metadata": {
    "colab": {
     "base_uri": "https://localhost:8080/",
     "height": 274
    },
    "executionInfo": {
     "elapsed": 2905,
     "status": "ok",
     "timestamp": 1619720227833,
     "user": {
      "displayName": "Patience Stevens",
      "photoUrl": "https://lh3.googleusercontent.com/a-/AOh14Gi-_9ZqhIFhAv1oMehJNvNuIKSTyrFQHzjxQKhx=s64",
      "userId": "01994571539255174942"
     },
     "user_tz": 240
    },
    "id": "ja0PYvbIn8Os",
    "outputId": "e80bc66d-5723-4696-ee5b-8ea6e4a4fa80"
   },
   "outputs": [
    {
     "data": {
      "text/html": [
       "FALSE"
      ],
      "text/latex": [
       "FALSE"
      ],
      "text/markdown": [
       "FALSE"
      ],
      "text/plain": [
       "[1] FALSE"
      ]
     },
     "metadata": {},
     "output_type": "display_data"
    },
    {
     "data": {
      "text/html": [
       "<table class=\"dataframe\">\n",
       "<caption>A data.frame: 6 × 6</caption>\n",
       "<thead>\n",
       "\t<tr><th></th><th scope=col>Subject</th><th scope=col>Gender</th><th scope=col>Flanker_Unadj</th><th scope=col>FS_IntraCranial_Vol</th><th scope=col>FS_Tot_WM_Vol</th><th scope=col>FS_Total_GM_Vol</th></tr>\n",
       "\t<tr><th></th><th scope=col>&lt;int&gt;</th><th scope=col>&lt;chr&gt;</th><th scope=col>&lt;dbl&gt;</th><th scope=col>&lt;dbl&gt;</th><th scope=col>&lt;int&gt;</th><th scope=col>&lt;int&gt;</th></tr>\n",
       "</thead>\n",
       "<tbody>\n",
       "\t<tr><th scope=row>1</th><td>100206</td><td>M</td><td>130.42</td><td>1864518</td><td>543134</td><td>807245</td></tr>\n",
       "\t<tr><th scope=row>2</th><td>100307</td><td>F</td><td>112.56</td><td>1512540</td><td>407292</td><td>664124</td></tr>\n",
       "\t<tr><th scope=row>3</th><td>100408</td><td>M</td><td>121.18</td><td>1684117</td><td>500417</td><td>726206</td></tr>\n",
       "\t<tr><th scope=row>4</th><td>100610</td><td>M</td><td>126.53</td><td>1816044</td><td>512946</td><td>762308</td></tr>\n",
       "\t<tr><th scope=row>5</th><td>101006</td><td>F</td><td>101.85</td><td>1437868</td><td>429449</td><td>579632</td></tr>\n",
       "\t<tr><th scope=row>6</th><td>101107</td><td>M</td><td>107.04</td><td>1512727</td><td>416995</td><td>665024</td></tr>\n",
       "</tbody>\n",
       "</table>\n"
      ],
      "text/latex": [
       "A data.frame: 6 × 6\n",
       "\\begin{tabular}{r|llllll}\n",
       "  & Subject & Gender & Flanker\\_Unadj & FS\\_IntraCranial\\_Vol & FS\\_Tot\\_WM\\_Vol & FS\\_Total\\_GM\\_Vol\\\\\n",
       "  & <int> & <chr> & <dbl> & <dbl> & <int> & <int>\\\\\n",
       "\\hline\n",
       "\t1 & 100206 & M & 130.42 & 1864518 & 543134 & 807245\\\\\n",
       "\t2 & 100307 & F & 112.56 & 1512540 & 407292 & 664124\\\\\n",
       "\t3 & 100408 & M & 121.18 & 1684117 & 500417 & 726206\\\\\n",
       "\t4 & 100610 & M & 126.53 & 1816044 & 512946 & 762308\\\\\n",
       "\t5 & 101006 & F & 101.85 & 1437868 & 429449 & 579632\\\\\n",
       "\t6 & 101107 & M & 107.04 & 1512727 & 416995 & 665024\\\\\n",
       "\\end{tabular}\n"
      ],
      "text/markdown": [
       "\n",
       "A data.frame: 6 × 6\n",
       "\n",
       "| <!--/--> | Subject &lt;int&gt; | Gender &lt;chr&gt; | Flanker_Unadj &lt;dbl&gt; | FS_IntraCranial_Vol &lt;dbl&gt; | FS_Tot_WM_Vol &lt;int&gt; | FS_Total_GM_Vol &lt;int&gt; |\n",
       "|---|---|---|---|---|---|---|\n",
       "| 1 | 100206 | M | 130.42 | 1864518 | 543134 | 807245 |\n",
       "| 2 | 100307 | F | 112.56 | 1512540 | 407292 | 664124 |\n",
       "| 3 | 100408 | M | 121.18 | 1684117 | 500417 | 726206 |\n",
       "| 4 | 100610 | M | 126.53 | 1816044 | 512946 | 762308 |\n",
       "| 5 | 101006 | F | 101.85 | 1437868 | 429449 | 579632 |\n",
       "| 6 | 101107 | M | 107.04 | 1512727 | 416995 | 665024 |\n",
       "\n"
      ],
      "text/plain": [
       "  Subject Gender Flanker_Unadj FS_IntraCranial_Vol FS_Tot_WM_Vol\n",
       "1 100206  M      130.42        1864518             543134       \n",
       "2 100307  F      112.56        1512540             407292       \n",
       "3 100408  M      121.18        1684117             500417       \n",
       "4 100610  M      126.53        1816044             512946       \n",
       "5 101006  F      101.85        1437868             429449       \n",
       "6 101107  M      107.04        1512727             416995       \n",
       "  FS_Total_GM_Vol\n",
       "1 807245         \n",
       "2 664124         \n",
       "3 726206         \n",
       "4 762308         \n",
       "5 579632         \n",
       "6 665024         "
      ]
     },
     "metadata": {},
     "output_type": "display_data"
    }
   ],
   "source": [
    "#Load data\n",
    "setwd(\"C:/Users/MCT40/OneDrive - University of Pittsburgh/Classes/Spring2022/CMU_STATS/HOMEWORK\")\n",
    "\n",
    "hcp_data <- read.csv(\"hcp_data/unrestricted_trimmed_1_7_2020_10_50_44.csv\")\n",
    "\n",
    "hcp_data %>% \n",
    "    select(Subject, Gender, Flanker_Unadj, FS_IntraCranial_Vol, FS_Tot_WM_Vol, FS_Total_GM_Vol) %>%\n",
    "    drop_na() -> d1\n",
    "\n",
    "any(d1 == \"n/a\")\n",
    "\n",
    "head(d1)"
   ]
  },
  {
   "cell_type": "markdown",
   "metadata": {
    "id": "t7Eonkzzn8Ot"
   },
   "source": [
    "(b) Plot grey matter volume (x axis) against intracranial volume (y axis) and Gender (point color). "
   ]
  },
  {
   "cell_type": "code",
   "execution_count": 13,
   "metadata": {
    "id": "eJuQ_rSYn8Ou",
    "outputId": "58c0de77-2b3c-4010-d9fc-1ac361800bc7"
   },
   "outputs": [
    {
     "data": {
      "image/png": "[encoded data removed]",
      "text/plain": [
       "plot without title"
      ]
     },
     "metadata": {
      "image/png": {
       "height": 420,
       "width": 420
      }
     },
     "output_type": "display_data"
    }
   ],
   "source": [
    "ggplot(d1, aes(FS_Total_GM_Vol, FS_IntraCranial_Vol, colour=Gender)) +\n",
    "  geom_point() +\n",
    "  theme_test() +\n",
    "  labs(x = \"Grey Matter Volume\", y = \"Intracranial Volume\", title = \"Intracranial Volume by Grey Matter Volume\") +\n",
    "  scale_color_manual(values = c(\"#ACD8AA\", \"#F48498\")) +\n",
    "  theme(panel.background = element_rect(fill = \"black\")) \n"
   ]
  },
  {
   "cell_type": "markdown",
   "metadata": {
    "id": "GgrlW2Lkn8Ou"
   },
   "source": [
    "What patterns do you observe in the scatter plot?"
   ]
  },
  {
   "cell_type": "markdown",
   "metadata": {
    "id": "L9IcxyXrn8Ou"
   },
   "source": [
    "> Females tend to have smaller overall grey matter volume and intracranial volume compared to men\n",
    "\n",
    "> Additionally there appears to be a linear correlation between the two (grey matter and intracranial volume), which makes sense since if there's a bigger skull it's probably filled with grey/white matter. "
   ]
  },
  {
   "cell_type": "markdown",
   "metadata": {
    "id": "ZyRo6pa9n8Oy"
   },
   "source": [
    "---\n",
    "## 2. Logistic classifier (2 points)"
   ]
  },
  {
   "cell_type": "markdown",
   "metadata": {
    "id": "ZOwhhD43n8Oz"
   },
   "source": [
    "We want to try predicting gender using the neural data you have loaded.\n",
    "\n",
    "(a) Run a logisic regression model to predict gender from total white matter volume, total grey matter volume, and intracranial volume. "
   ]
  },
  {
   "cell_type": "code",
   "execution_count": 35,
   "metadata": {
    "scrolled": true
   },
   "outputs": [
    {
     "data": {
      "text/plain": [
       "\n",
       "Call:\n",
       "glm(formula = Gender ~ FS_Tot_WM_Vol + FS_Total_GM_Vol + FS_IntraCranial_Vol, \n",
       "    family = binomial, data = d1)\n",
       "\n",
       "Deviance Residuals: \n",
       "    Min       1Q   Median       3Q      Max  \n",
       "-2.7695  -0.6173  -0.1863   0.5997   3.2309  \n",
       "\n",
       "Coefficients:\n",
       "                      Estimate Std. Error z value Pr(>|z|)    \n",
       "(Intercept)         -2.262e+01  1.347e+00 -16.787  < 2e-16 ***\n",
       "FS_Tot_WM_Vol        2.140e-06  3.059e-06   0.699    0.484    \n",
       "FS_Total_GM_Vol      1.959e-05  3.145e-06   6.229 4.70e-10 ***\n",
       "FS_IntraCranial_Vol  5.020e-06  1.177e-06   4.263 2.01e-05 ***\n",
       "---\n",
       "Signif. codes:  0 '***' 0.001 '**' 0.01 '*' 0.05 '.' 0.1 ' ' 1\n",
       "\n",
       "(Dispersion parameter for binomial family taken to be 1)\n",
       "\n",
       "    Null deviance: 1534.13  on 1112  degrees of freedom\n",
       "Residual deviance:  919.85  on 1109  degrees of freedom\n",
       "AIC: 927.85\n",
       "\n",
       "Number of Fisher Scoring iterations: 5\n"
      ]
     },
     "metadata": {},
     "output_type": "display_data"
    }
   ],
   "source": [
    "#Make sure the outcome variable is a binary variable coded 0(female) and 1(male)\n",
    "d1$Gender <- as.numeric(as.factor(d1$Gender))-1\n",
    "\n",
    "#Run the log regression\n",
    "Log_reg_hcp <- glm(Gender ~ FS_Tot_WM_Vol + FS_Total_GM_Vol + FS_IntraCranial_Vol, data= d1, family = binomial)\n",
    "summary(Log_reg_hcp)\n"
   ]
  },
  {
   "cell_type": "markdown",
   "metadata": {
    "id": "TJsxKecfn8Oz"
   },
   "source": [
    "Which factors are signficantly associated with gender?"
   ]
  },
  {
   "cell_type": "markdown",
   "metadata": {
    "id": "Zx8Qoy7Xn8O0"
   },
   "source": [
    "> Total grey matter volume (p <.001), and Intracranial volume (p<.001) are statistically related to gender."
   ]
  },
  {
   "cell_type": "markdown",
   "metadata": {
    "id": "mcxF31C7n8O0"
   },
   "source": [
    "(b) Estimate the prediction accuracy of your model (Note: this is the training set accuracy). Set your prediction threshold to 0.5."
   ]
  },
  {
   "cell_type": "code",
   "execution_count": 22,
   "metadata": {
    "id": "2qb1RosDn8O0",
    "outputId": "eea927d9-d437-4ccf-d3f6-1090f91cbd0e"
   },
   "outputs": [
    {
     "data": {
      "text/html": [
       "<table class=\"dataframe\">\n",
       "<caption>A data.frame: 6 × 1</caption>\n",
       "<thead>\n",
       "\t<tr><th></th><th scope=col>predicted_prob</th></tr>\n",
       "\t<tr><th></th><th scope=col>&lt;dbl&gt;</th></tr>\n",
       "</thead>\n",
       "<tbody>\n",
       "\t<tr><th scope=row>1</th><td>0.97633865</td></tr>\n",
       "\t<tr><th scope=row>2</th><td>0.24207122</td></tr>\n",
       "\t<tr><th scope=row>3</th><td>0.75683279</td></tr>\n",
       "\t<tr><th scope=row>4</th><td>0.92633475</td></tr>\n",
       "\t<tr><th scope=row>5</th><td>0.04212663</td></tr>\n",
       "\t<tr><th scope=row>6</th><td>0.24936028</td></tr>\n",
       "</tbody>\n",
       "</table>\n"
      ],
      "text/latex": [
       "A data.frame: 6 × 1\n",
       "\\begin{tabular}{r|l}\n",
       "  & predicted\\_prob\\\\\n",
       "  & <dbl>\\\\\n",
       "\\hline\n",
       "\t1 & 0.97633865\\\\\n",
       "\t2 & 0.24207122\\\\\n",
       "\t3 & 0.75683279\\\\\n",
       "\t4 & 0.92633475\\\\\n",
       "\t5 & 0.04212663\\\\\n",
       "\t6 & 0.24936028\\\\\n",
       "\\end{tabular}\n"
      ],
      "text/markdown": [
       "\n",
       "A data.frame: 6 × 1\n",
       "\n",
       "| <!--/--> | predicted_prob &lt;dbl&gt; |\n",
       "|---|---|\n",
       "| 1 | 0.97633865 |\n",
       "| 2 | 0.24207122 |\n",
       "| 3 | 0.75683279 |\n",
       "| 4 | 0.92633475 |\n",
       "| 5 | 0.04212663 |\n",
       "| 6 | 0.24936028 |\n",
       "\n"
      ],
      "text/plain": [
       "  predicted_prob\n",
       "1 0.97633865    \n",
       "2 0.24207122    \n",
       "3 0.75683279    \n",
       "4 0.92633475    \n",
       "5 0.04212663    \n",
       "6 0.24936028    "
      ]
     },
     "metadata": {},
     "output_type": "display_data"
    },
    {
     "data": {
      "text/plain": [
       "         actual\n",
       "predicted   0   1\n",
       "        0 516 110\n",
       "        1  90 397"
      ]
     },
     "metadata": {},
     "output_type": "display_data"
    },
    {
     "name": "stdout",
     "output_type": "stream",
     "text": [
      "[1] \"Accuracy: 0.820305480682839\"\n"
     ]
    }
   ],
   "source": [
    "# 2b) ##Can also  change the model to use the values in this matrix\n",
    "threshold = 0.50\n",
    "d1_predict = data.frame(predict(Log_reg_hcp, type = \"response\"))\n",
    "\n",
    "## Rename the predicted values generated above to \"predicted_prob\" for ease of interpretability\n",
    "colnames(d1_predict) = c('predicted_prob')\n",
    "head(d1_predict)\n",
    "\n",
    "# Make a list of \"Incorrect\" responses (coded as 0)\n",
    "num_obs = nrow(d1)\n",
    "d1_predict$predicted_binary=rep(0,num_obs)\n",
    "d1_predict$predicted_binary[d1_predict$predicted_prob>threshold]= 1\n",
    "\n",
    "# Look at the prediction accuracy in form of confusion matrix table\n",
    "d1_conf = data.frame(d1_predict$predicted_binary, as.factor(d1$Gender))\n",
    "colnames(d1_conf) = c('predicted', 'actual')\n",
    "table(d1_conf)\n",
    "\n",
    "#            actual\n",
    "# predicted   0   1\n",
    "# 0          516 110\n",
    "# 1          0 397\n",
    "\n",
    "## Abbreviated summary: \n",
    "## 516 predicted 0 actual F (true neg)\n",
    "## 110 predicted 0 actual M (false neg)\n",
    "## 90  predicted 1 actual F (false pos)\n",
    "## 397 predicted 1 actual M (true pos)\n",
    "\n",
    "## Calculate the general accuracy of the model's predictions: \n",
    "print(paste(\"Accuracy:\",mean(d1_conf$predicted == d1_conf$actual)))\n"
   ]
  },
  {
   "cell_type": "markdown",
   "metadata": {
    "id": "KHLfOMe-n8O0"
   },
   "source": [
    "What is the prediction accuracy for gender from the full model?"
   ]
  },
  {
   "cell_type": "markdown",
   "metadata": {
    "id": "eN9SGyESn8O1"
   },
   "source": [
    "\n",
    "> The accuracy is 82.03% which is pretty good! "
   ]
  },
  {
   "cell_type": "markdown",
   "metadata": {
    "id": "9Y_ftEZPn8O1"
   },
   "source": [
    "---\n",
    "## 3. Bootstrapped accuracy (3 points)\n",
    "\n",
    "Use bootstrapping to estimate the confidence intervals of the _prediction accuracy_ of your model. Plot the histogram of the bootstrapped prediction accuracies and estimate the confidence intervals off of the standard deviation from the bootstrap.\n"
   ]
  },
  {
   "cell_type": "code",
   "execution_count": 30,
   "metadata": {
    "id": "mwBjwZLIn8O1",
    "outputId": "470cbcba-049e-449e-f32e-e08bc59d6c8e"
   },
   "outputs": [
    {
     "name": "stdout",
     "output_type": "stream",
     "text": [
      "[1] 0.8203055\n"
     ]
    },
    {
     "data": {
      "text/html": [
       "0.818330637915544"
      ],
      "text/latex": [
       "0.818330637915544"
      ],
      "text/markdown": [
       "0.818330637915544"
      ],
      "text/plain": [
       "[1] 0.8183306"
      ]
     },
     "metadata": {},
     "output_type": "display_data"
    },
    {
     "name": "stdout",
     "output_type": "stream",
     "text": [
      "[1] \"lower bound:\"\n"
     ]
    },
    {
     "data": {
      "text/html": [
       "0.818074597322835"
      ],
      "text/latex": [
       "0.818074597322835"
      ],
      "text/markdown": [
       "0.818074597322835"
      ],
      "text/plain": [
       "[1] 0.8180746"
      ]
     },
     "metadata": {},
     "output_type": "display_data"
    },
    {
     "name": "stdout",
     "output_type": "stream",
     "text": [
      "[1] \"upper bound:\"\n"
     ]
    },
    {
     "data": {
      "text/html": [
       "0.818586678508252"
      ],
      "text/latex": [
       "0.818586678508252"
      ],
      "text/markdown": [
       "0.818586678508252"
      ],
      "text/plain": [
       "[1] 0.8185867"
      ]
     },
     "metadata": {},
     "output_type": "display_data"
    },
    {
     "ename": "ERROR",
     "evalue": "Error in hist(boot(d1, boot.fn, R = 1000)$t, xlab = \"Model Accuracy\", : non-numeric argument to binary operator\n",
     "output_type": "error",
     "traceback": [
      "Error in hist(boot(d1, boot.fn, R = 1000)$t, xlab = \"Model Accuracy\", : non-numeric argument to binary operator\nTraceback:\n"
     ]
    },
    {
     "data": {
      "image/png": "[encoded data removed]",
      "text/plain": [
       "Plot with title \"Histogram of Boostrapped Regression Accuracy\""
      ]
     },
     "metadata": {
      "image/png": {
       "height": 420,
       "width": 420
      }
     },
     "output_type": "display_data"
    }
   ],
   "source": [
    "# 3 Boostraped accuracy\n",
    "# install.packages(\"boot\")\n",
    "# install.packages(\"ISLR\")\n",
    "# library(ISLR)\n",
    "# library(boot)\n",
    "set.seed(33)\n",
    "\n",
    "#write boostrapping function\n",
    "boot.fn <- function(data, index){  \n",
    "    #run the model on a subset\n",
    "  Log_reg_hcp <- glm(Gender ~ FS_Tot_WM_Vol + FS_Total_GM_Vol + FS_IntraCranial_Vol, data, family = binomial, subset= index)\n",
    "\n",
    "  #build predict data base with column #predicted_prob\n",
    "  d1_predict = data.frame(predict(Log_reg_hcp,d1, type = \"response\"))\n",
    "  colnames(d1_predict) = c('predicted_prob')\n",
    "  \n",
    "  # Make a list of \"Incorrect\" responses (coded as 0)\n",
    "  num_obs = nrow(d1)\n",
    "  d1_predict$predicted_binary=rep(0,num_obs)\n",
    "  d1_predict$predicted_binary[d1_predict$predicted_prob>threshold]= 1\n",
    "  \n",
    "  # Look at the prediction accuracy in form of confusion matrix table\n",
    "  d1_conf = data.frame(d1_predict$predicted_binary, as.factor(d1$Gender))\n",
    "  colnames(d1_conf) = c('predicted', 'actual')\n",
    "  \n",
    "  ## Calculate the general accuracy of the model's predictions: \n",
    "  return(mean(d1_conf$predicted == d1_conf$actual))\n",
    "}\n",
    "\n",
    "#run bootstrapping function\n",
    "print(boot.fn(d1, 1:1113))\n",
    "\n",
    "##Run it with random resampling: \n",
    "boot_obj = boot(d1,boot.fn ,R=1000) #R=repetitions \n",
    "mean(boot_obj$t)\n",
    "# print(boot_obj$t) #no need to print this in the homework output\n",
    "\n",
    "\n",
    "  \n",
    "  #confidence intervals\n",
    "boot_mean <- mean(boot_obj$t)\n",
    "boot_sd <- sd(boot_obj$t)\n",
    "n <- nrow(d1)\n",
    "se <- boot_sd/sqrt(n) \n",
    "CI <- 1.96 * se \n",
    "lower <- boot_mean-CI\n",
    "upper <- boot_mean+CI\n",
    "\n",
    "print(\"lower bound:\")\n",
    "lower\n",
    "\n",
    "print(\"upper bound:\")\n",
    "upper\n",
    "\n",
    "#plot histogram\n",
    "hist(boot(d1,boot.fn ,R=1000)$t, xlab=\"Model Accuracy\", main=\"Histogram of Boostrapped Regression Accuracy\") +\n",
    "  abline(v=c(lower, upper),col=\"purple\",lwd=2)"
   ]
  },
  {
   "cell_type": "markdown",
   "metadata": {
    "id": "RflF_i36n8O2"
   },
   "source": [
    "How robust is the prediction accuracy of the full model?"
   ]
  },
  {
   "cell_type": "markdown",
   "metadata": {
    "id": "JDM2tpBMn8O2"
   },
   "source": [
    "> The model accuracy is quite robust because of the confidence interval range is very narrow. "
   ]
  },
  {
   "cell_type": "markdown",
   "metadata": {
    "id": "jZVWq9SVn8O2"
   },
   "source": [
    "---\n",
    "## 4. Permutation test for grey matter effects (3 points)\n",
    "\n",
    "Now run a permutation test, with 1000 iterations, to evaluate how much grey matter volume contributes to the prediction accuracy. Compare the prediction accuracy of the full (unpermuted model) with the distribution of accuracies you get with a randomized grey matter volume term using a histogram (Hint: use the `abline` function to show the original accuracy on the histogram)."
   ]
  },
  {
   "cell_type": "code",
   "execution_count": 34,
   "metadata": {
    "id": "SmtoqASUn8O2"
   },
   "outputs": [
    {
     "data": {
      "text/html": [
       "0.805571428571429"
      ],
      "text/latex": [
       "0.805571428571429"
      ],
      "text/markdown": [
       "0.805571428571429"
      ],
      "text/plain": [
       "[1] 0.8055714"
      ]
     },
     "metadata": {},
     "output_type": "display_data"
    },
    {
     "data": {
      "image/png": "[encoded data removed]",
      "text/plain": [
       "Plot with title \"Histogram of Permutation test Accuracy\""
      ]
     },
     "metadata": {
      "image/png": {
       "height": 420,
       "width": 420
      }
     },
     "output_type": "display_data"
    }
   ],
   "source": [
    "perm_d1 = d1 #want to preserve the non-permuted, true form of data!\n",
    "num_obs = nrow(d1) \n",
    "\n",
    "# Set the number of iterations\n",
    "R=1000\n",
    "\n",
    "# Next make an output object to store the results\n",
    "perm_acc=matrix(NA,nrow=R, ncol=1) #filling with nas at first\n",
    "\n",
    "# Now just write a for loop where we scramble the observations\n",
    "# in X using the sample() function. We'll scramble the observations in R different ways\n",
    "for (i in 1:R){\n",
    "  perm_d1$FS_Total_GM_Vol=d1$FS_Total_GM_Vol[sample(1113)] #randomize GM vol\n",
    "  perm_acc[i]<- boot.fn(perm_d1, 1:1113) # then we get coefficients for linear model of shuffled horsepower to auto\n",
    "}\n",
    "\n",
    "\n",
    "# Take a look at the null distributions\n",
    "perm_acc <- as.data.frame(perm_acc)\n",
    "mean(perm_acc$V1)\n",
    "\n",
    "#HIST\n",
    "hist((perm_acc$V1*100), xlim=c(80,82), xlab=\"Model Accuracy\", main=\"Histogram of Permutation test Accuracy\", col=\"lightblue\")\n",
    "abline(v= boot_mean*100, col=\"green\", lwd=3, lty=2)"
   ]
  },
  {
   "cell_type": "markdown",
   "metadata": {
    "id": "lMCPgckCn8O3"
   },
   "source": [
    "How much does the grey matter volume influence the prediction accuracy of the model?"
   ]
  },
  {
   "cell_type": "markdown",
   "metadata": {
    "id": "jNk69mfmn8O4"
   },
   "source": [
    "> Grey matter volume played an important influence on the model. You can see how much the accuracy of the model dropped when the variable was permuted. It dropped by a whole percentage point. \n",
    " "
   ]
  },
  {
   "cell_type": "markdown",
   "metadata": {
    "id": "E827AOcUn8O4"
   },
   "source": [
    "---\n",
    "## 5. Reflection (1 point)\n",
    "\n",
    "Differentiate the bootstrap from a permutation test. Describe each and when is it appropriate use to each."
   ]
  },
  {
   "cell_type": "markdown",
   "metadata": {
    "id": "wVcR2qaOn8O4"
   },
   "source": [
    "In my own words: \n",
    "\n",
    " > Boostrapping allows for resampling with resampling, which allows us to explore different possible outcomes that may arise. This is helpful in answering question of reliability and replicability. \n",
    "    \n",
    " > Permutation testing allows you to determine the role of a specific variable to answer a question about that variable. And allows you to build essentially null distributions of your data, which is a great way to test model significance. \n",
    "\n",
    "\n",
    "\n",
    "From the tutorial (for my own future notes): \n",
    "\n",
    "> Bootstrapping:\n",
    "> - quantifies uncertainty by reusing the data (random resampling with replacement)\n",
    "> - answers the question: what is the range of values I can expect for a statistic, given the varaibility in my > data?\n",
    "\n",
    "> Permutation testing:\n",
    ">\n",
    "> - breaks whatever structure may exist between variables of interest while maintaining the structure between  others (permute, or shuffle, the relationship between x and y, for example)\n",
    ">\n",
    "> - allows targeted null hypothesis testing\n",
    ">\n",
    "> - quantifies the null distribution for a given hypothesis\n",
    ">\n",
    "> - answers the question: what kind of pattern would you expect to see if there were no statistical >relationship between two (or more) variables?\n",
    "\n",
    "> These methods are useful if you need non-parametric estimates of uncertainty for a given statistic (bootstrapping) or if you need a non-parametric way of testing your hypotheses (permutation). In other words, if you don’t want to risk making assumptions about the functional form of your data during uncertainty estimation or hypothesis testing, these randomization methods are for you.\n",
    "> \n",
    "> However, keep in mind that there are cons (and assumptions) associated with non-parametric methods. For example, one major limitation of bootstrapping is that you must make the assumption that your data contains variability similar to the kind of variability you might see when you sample new datasets in the wild, given the same statistical model, to make inferential interpretations. See here and here for more information."
   ]
  },
  {
   "cell_type": "markdown",
   "metadata": {
    "id": "8PoekVTAn8O4"
   },
   "source": [
    "**DUE:** 5pm EST, April 1, 2022"
   ]
  },
  {
   "cell_type": "markdown",
   "metadata": {
    "id": "PTVa2-bEn8O4"
   },
   "source": [
    "**IMPORTANT** Did you collaborate with anyone on this assignment? If so, list their names here. \n",
    "> Emily Goldberg! Shoutout to making it through this week (and honestly 2021-2022 so far) \n",
    "\n",
    "> Amy Sentis: Thank you for answer my email! :) "
   ]
  }
 ],
 "metadata": {
  "colab": {
   "name": "Homework8_solutions.ipynb",
   "provenance": []
  },
  "kernelspec": {
   "display_name": "R",
   "language": "R",
   "name": "ir"
  },
  "language_info": {
   "codemirror_mode": "r",
   "file_extension": ".r",
   "mimetype": "text/x-r-source",
   "name": "R",
   "pygments_lexer": "r",
   "version": "4.0.5"
  }
 },
 "nbformat": 4,
 "nbformat_minor": 1
}
