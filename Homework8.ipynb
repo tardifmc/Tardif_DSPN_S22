{
 "cells": [
  {
   "cell_type": "markdown",
   "metadata": {
    "id": "YO9Lm6oNn8Ol"
   },
   "source": [
    "# Homework 8:  Resampling methods\n",
    "\n",
    "This homework assignment is designed to give you practice with bootstrapping and permutation tests.\n",
    "\n",
    "You will need to download the **unrestricted_trimmed_1_7_2020_10_50_44.csv** file from the *Homework/hcp_data* folder in the class GitHub repository. \n",
    "\n",
    "This data is a portion of the [Human Connectome Project database](http://www.humanconnectomeproject.org/). It provides measures of cognitive tasks and brain morphology measuresments from 1206 participants. The full description of each variable is provided in the **HCP_S1200_DataDictionary_April_20_2018.csv** file in the *Homework/hcp_data* folder in the class GitHub repository."
   ]
  },
  {
   "cell_type": "markdown",
   "metadata": {
    "id": "h8YQJS8Dn8Or"
   },
   "source": [
    "---\n",
    "## 1. Loading & Visualizing the Data (1 point)\n",
    "\n",
    "Use the `setwd` and `read.csv` functions to load data from the **unrestricted_trimmed_1_7_2020_10_50_44.csv** file. \n",
    "\n",
    "(a) Using the tidyverse tools, make a new dataframe `d1` that only inclues the subject ID (`Subject`), gender (`Gender`, self reported at time of data collection), Flanker Task performance (`Flanker_Unadj`), total intracranial volume (`FS_IntraCranial_Vol`), total white matter volume (`FS_Tot_WM_Vol`), and total grey matter volume (`FS_Total_GM_Vol`) variables and remove all _na_ values.\n",
    "\n",
    "Use the `head` function to look at the first few rows of each data frame. "
   ]
  },
  {
   "cell_type": "code",
   "execution_count": 1,
   "metadata": {},
   "outputs": [
    {
     "name": "stderr",
     "output_type": "stream",
     "text": [
      "-- \u001b[1mAttaching packages\u001b[22m ------------------------------------------------------------------------------- tidyverse 1.3.1 --\n",
      "\n",
      "\u001b[32mv\u001b[39m \u001b[34mggplot2\u001b[39m 3.3.5     \u001b[32mv\u001b[39m \u001b[34mpurrr  \u001b[39m 0.3.4\n",
      "\u001b[32mv\u001b[39m \u001b[34mtibble \u001b[39m 3.1.6     \u001b[32mv\u001b[39m \u001b[34mdplyr  \u001b[39m 1.0.7\n",
      "\u001b[32mv\u001b[39m \u001b[34mtidyr  \u001b[39m 1.2.0     \u001b[32mv\u001b[39m \u001b[34mstringr\u001b[39m 1.4.0\n",
      "\u001b[32mv\u001b[39m \u001b[34mreadr  \u001b[39m 2.1.2     \u001b[32mv\u001b[39m \u001b[34mforcats\u001b[39m 0.5.1\n",
      "\n",
      "-- \u001b[1mConflicts\u001b[22m ---------------------------------------------------------------------------------- tidyverse_conflicts() --\n",
      "\u001b[31mx\u001b[39m \u001b[34mdplyr\u001b[39m::\u001b[32mfilter()\u001b[39m masks \u001b[34mstats\u001b[39m::filter()\n",
      "\u001b[31mx\u001b[39m \u001b[34mdplyr\u001b[39m::\u001b[32mlag()\u001b[39m    masks \u001b[34mstats\u001b[39m::lag()\n",
      "\n"
     ]
    }
   ],
   "source": [
    "#Load packages\n",
    "library(tidyverse)\n",
    "library(ggplot2)"
   ]
  },
  {
   "cell_type": "code",
   "execution_count": 11,
   "metadata": {
    "colab": {
     "base_uri": "https://localhost:8080/",
     "height": 274
    },
    "executionInfo": {
     "elapsed": 2905,
     "status": "ok",
     "timestamp": 1619720227833,
     "user": {
      "displayName": "Patience Stevens",
      "photoUrl": "https://lh3.googleusercontent.com/a-/AOh14Gi-_9ZqhIFhAv1oMehJNvNuIKSTyrFQHzjxQKhx=s64",
      "userId": "01994571539255174942"
     },
     "user_tz": 240
    },
    "id": "ja0PYvbIn8Os",
    "outputId": "e80bc66d-5723-4696-ee5b-8ea6e4a4fa80"
   },
   "outputs": [
    {
     "data": {
      "text/html": [
       "FALSE"
      ],
      "text/latex": [
       "FALSE"
      ],
      "text/markdown": [
       "FALSE"
      ],
      "text/plain": [
       "[1] FALSE"
      ]
     },
     "metadata": {},
     "output_type": "display_data"
    },
    {
     "data": {
      "text/html": [
       "<table class=\"dataframe\">\n",
       "<caption>A data.frame: 6 × 6</caption>\n",
       "<thead>\n",
       "\t<tr><th></th><th scope=col>Subject</th><th scope=col>Gender</th><th scope=col>Flanker_Unadj</th><th scope=col>FS_IntraCranial_Vol</th><th scope=col>FS_Tot_WM_Vol</th><th scope=col>FS_Total_GM_Vol</th></tr>\n",
       "\t<tr><th></th><th scope=col>&lt;int&gt;</th><th scope=col>&lt;chr&gt;</th><th scope=col>&lt;dbl&gt;</th><th scope=col>&lt;dbl&gt;</th><th scope=col>&lt;int&gt;</th><th scope=col>&lt;int&gt;</th></tr>\n",
       "</thead>\n",
       "<tbody>\n",
       "\t<tr><th scope=row>1</th><td>100206</td><td>M</td><td>130.42</td><td>1864518</td><td>543134</td><td>807245</td></tr>\n",
       "\t<tr><th scope=row>2</th><td>100307</td><td>F</td><td>112.56</td><td>1512540</td><td>407292</td><td>664124</td></tr>\n",
       "\t<tr><th scope=row>3</th><td>100408</td><td>M</td><td>121.18</td><td>1684117</td><td>500417</td><td>726206</td></tr>\n",
       "\t<tr><th scope=row>4</th><td>100610</td><td>M</td><td>126.53</td><td>1816044</td><td>512946</td><td>762308</td></tr>\n",
       "\t<tr><th scope=row>5</th><td>101006</td><td>F</td><td>101.85</td><td>1437868</td><td>429449</td><td>579632</td></tr>\n",
       "\t<tr><th scope=row>6</th><td>101107</td><td>M</td><td>107.04</td><td>1512727</td><td>416995</td><td>665024</td></tr>\n",
       "</tbody>\n",
       "</table>\n"
      ],
      "text/latex": [
       "A data.frame: 6 × 6\n",
       "\\begin{tabular}{r|llllll}\n",
       "  & Subject & Gender & Flanker\\_Unadj & FS\\_IntraCranial\\_Vol & FS\\_Tot\\_WM\\_Vol & FS\\_Total\\_GM\\_Vol\\\\\n",
       "  & <int> & <chr> & <dbl> & <dbl> & <int> & <int>\\\\\n",
       "\\hline\n",
       "\t1 & 100206 & M & 130.42 & 1864518 & 543134 & 807245\\\\\n",
       "\t2 & 100307 & F & 112.56 & 1512540 & 407292 & 664124\\\\\n",
       "\t3 & 100408 & M & 121.18 & 1684117 & 500417 & 726206\\\\\n",
       "\t4 & 100610 & M & 126.53 & 1816044 & 512946 & 762308\\\\\n",
       "\t5 & 101006 & F & 101.85 & 1437868 & 429449 & 579632\\\\\n",
       "\t6 & 101107 & M & 107.04 & 1512727 & 416995 & 665024\\\\\n",
       "\\end{tabular}\n"
      ],
      "text/markdown": [
       "\n",
       "A data.frame: 6 × 6\n",
       "\n",
       "| <!--/--> | Subject &lt;int&gt; | Gender &lt;chr&gt; | Flanker_Unadj &lt;dbl&gt; | FS_IntraCranial_Vol &lt;dbl&gt; | FS_Tot_WM_Vol &lt;int&gt; | FS_Total_GM_Vol &lt;int&gt; |\n",
       "|---|---|---|---|---|---|---|\n",
       "| 1 | 100206 | M | 130.42 | 1864518 | 543134 | 807245 |\n",
       "| 2 | 100307 | F | 112.56 | 1512540 | 407292 | 664124 |\n",
       "| 3 | 100408 | M | 121.18 | 1684117 | 500417 | 726206 |\n",
       "| 4 | 100610 | M | 126.53 | 1816044 | 512946 | 762308 |\n",
       "| 5 | 101006 | F | 101.85 | 1437868 | 429449 | 579632 |\n",
       "| 6 | 101107 | M | 107.04 | 1512727 | 416995 | 665024 |\n",
       "\n"
      ],
      "text/plain": [
       "  Subject Gender Flanker_Unadj FS_IntraCranial_Vol FS_Tot_WM_Vol\n",
       "1 100206  M      130.42        1864518             543134       \n",
       "2 100307  F      112.56        1512540             407292       \n",
       "3 100408  M      121.18        1684117             500417       \n",
       "4 100610  M      126.53        1816044             512946       \n",
       "5 101006  F      101.85        1437868             429449       \n",
       "6 101107  M      107.04        1512727             416995       \n",
       "  FS_Total_GM_Vol\n",
       "1 807245         \n",
       "2 664124         \n",
       "3 726206         \n",
       "4 762308         \n",
       "5 579632         \n",
       "6 665024         "
      ]
     },
     "metadata": {},
     "output_type": "display_data"
    }
   ],
   "source": [
    "#Load data\n",
    "setwd(\"C:/Users/MCT40/OneDrive - University of Pittsburgh/Classes/Spring2022/CMU_STATS/HOMEWORK\")\n",
    "\n",
    "d1 <- read.csv(\"hcp_data/unrestricted_trimmed_1_7_2020_10_50_44.csv\")\n",
    "\n",
    "d1 %>% \n",
    "    select(Subject, Gender, Flanker_Unadj, FS_IntraCranial_Vol, FS_Tot_WM_Vol, FS_Total_GM_Vol) %>%\n",
    "    drop_na() -> d2\n",
    "\n",
    "any(d2 == \"n/a\")\n",
    "\n",
    "head(d2)"
   ]
  },
  {
   "cell_type": "markdown",
   "metadata": {
    "id": "t7Eonkzzn8Ot"
   },
   "source": [
    "(b) Plot grey matter volume (x axis) against intracranial volume (y axis) and Gender (point color). "
   ]
  },
  {
   "cell_type": "code",
   "execution_count": 12,
   "metadata": {
    "id": "eJuQ_rSYn8Ou",
    "outputId": "58c0de77-2b3c-4010-d9fc-1ac361800bc7"
   },
   "outputs": [
    {
     "data": {
      "image/png": "[encoded data removed]",
      "text/plain": [
       "plot without title"
      ]
     },
     "metadata": {
      "image/png": {
       "height": 420,
       "width": 420
      }
     },
     "output_type": "display_data"
    }
   ],
   "source": [
    "# WRITE YOUR CODE HERE\n",
    "ggplot(d2, aes(FS_Total_GM_Vol, FS_IntraCranial_Vol, colour=Gender)) +\n",
    "  geom_point() +\n",
    "  theme_bw()\n"
   ]
  },
  {
   "cell_type": "markdown",
   "metadata": {
    "id": "GgrlW2Lkn8Ou"
   },
   "source": [
    "What patterns do you observe in the scatter plot?"
   ]
  },
  {
   "cell_type": "markdown",
   "metadata": {
    "id": "L9IcxyXrn8Ou"
   },
   "source": [
    "> Females tend to have smaller overall grey matter volume and intracranial volume compare to men\n",
    "\n",
    "> Additionally there appears to be a linear correlation between the two, which makes sense since if there's a bigger skull, it's probably filled with grey/white matter. "
   ]
  },
  {
   "cell_type": "markdown",
   "metadata": {
    "id": "ZyRo6pa9n8Oy"
   },
   "source": [
    "---\n",
    "## 2. Logistic classifier (2 points)"
   ]
  },
  {
   "cell_type": "markdown",
   "metadata": {
    "id": "ZOwhhD43n8Oz"
   },
   "source": [
    "We want to try predicting gender using the neural data you have loaded.\n",
    "\n",
    "(a) Run a logisic regression model to predict gender from total white matter volume, total grey matter volume, and intracranial volume. "
   ]
  },
  {
   "cell_type": "code",
   "execution_count": 16,
   "metadata": {
    "scrolled": true
   },
   "outputs": [
    {
     "data": {
      "text/plain": [
       "\n",
       "Call:\n",
       "glm(formula = as.factor(Gender) ~ FS_Tot_WM_Vol * FS_Total_GM_Vol * \n",
       "    FS_IntraCranial_Vol, family = binomial, data = d2)\n",
       "\n",
       "Deviance Residuals: \n",
       "    Min       1Q   Median       3Q      Max  \n",
       "-2.7971  -0.6071  -0.2616   0.5740   2.7208  \n",
       "\n",
       "Coefficients:\n",
       "                                                    Estimate Std. Error z value\n",
       "(Intercept)                                        3.689e+01  7.095e+01   0.520\n",
       "FS_Tot_WM_Vol                                     -7.339e-05  1.815e-04  -0.404\n",
       "FS_Total_GM_Vol                                   -3.212e-05  1.123e-04  -0.286\n",
       "FS_IntraCranial_Vol                               -5.468e-05  4.226e-05  -1.294\n",
       "FS_Tot_WM_Vol:FS_Total_GM_Vol                      3.005e-11  2.737e-10   0.110\n",
       "FS_Tot_WM_Vol:FS_IntraCranial_Vol                  9.667e-11  1.054e-10   0.917\n",
       "FS_Total_GM_Vol:FS_IntraCranial_Vol                6.490e-11  6.442e-11   1.007\n",
       "FS_Tot_WM_Vol:FS_Total_GM_Vol:FS_IntraCranial_Vol -9.055e-17  1.535e-16  -0.590\n",
       "                                                  Pr(>|z|)\n",
       "(Intercept)                                          0.603\n",
       "FS_Tot_WM_Vol                                        0.686\n",
       "FS_Total_GM_Vol                                      0.775\n",
       "FS_IntraCranial_Vol                                  0.196\n",
       "FS_Tot_WM_Vol:FS_Total_GM_Vol                        0.913\n",
       "FS_Tot_WM_Vol:FS_IntraCranial_Vol                    0.359\n",
       "FS_Total_GM_Vol:FS_IntraCranial_Vol                  0.314\n",
       "FS_Tot_WM_Vol:FS_Total_GM_Vol:FS_IntraCranial_Vol    0.555\n",
       "\n",
       "(Dispersion parameter for binomial family taken to be 1)\n",
       "\n",
       "    Null deviance: 1534.13  on 1112  degrees of freedom\n",
       "Residual deviance:  912.46  on 1105  degrees of freedom\n",
       "AIC: 928.46\n",
       "\n",
       "Number of Fisher Scoring iterations: 7\n"
      ]
     },
     "metadata": {},
     "output_type": "display_data"
    }
   ],
   "source": [
    "d2$Gender <- as.numeric(as.factor(d2$Gender)) #convert to a number\n",
    "\n",
    "#run Logistic regression\n",
    "Log_reg_hcp <- glm(as.factor(Gender) ~ FS_Tot_WM_Vol*FS_Total_GM_Vol*FS_IntraCranial_Vol, data= d2, family = binomial)\n",
    "summary(Log_reg_hcp)\n"
   ]
  },
  {
   "cell_type": "markdown",
   "metadata": {
    "id": "TJsxKecfn8Oz"
   },
   "source": [
    "Which factors are signficantly associated with gender?"
   ]
  },
  {
   "cell_type": "markdown",
   "metadata": {
    "id": "Zx8Qoy7Xn8O0"
   },
   "source": [
    "> None are statistically significant at p<.05"
   ]
  },
  {
   "cell_type": "markdown",
   "metadata": {
    "id": "mcxF31C7n8O0"
   },
   "source": [
    "(b) Estimate the prediction accuracy of your model (Note: this is the training set accuracy). Set your prediction threshold to 0.5."
   ]
  },
  {
   "cell_type": "code",
   "execution_count": 18,
   "metadata": {
    "id": "2qb1RosDn8O0",
    "outputId": "eea927d9-d437-4ccf-d3f6-1090f91cbd0e"
   },
   "outputs": [
    {
     "data": {
      "text/html": [
       "<table class=\"dataframe\">\n",
       "<caption>A data.frame: 6 × 1</caption>\n",
       "<thead>\n",
       "\t<tr><th></th><th scope=col>predicted_prob</th></tr>\n",
       "\t<tr><th></th><th scope=col>&lt;dbl&gt;</th></tr>\n",
       "</thead>\n",
       "<tbody>\n",
       "\t<tr><th scope=row>1</th><td>0.97989278</td></tr>\n",
       "\t<tr><th scope=row>2</th><td>0.23036160</td></tr>\n",
       "\t<tr><th scope=row>3</th><td>0.75067805</td></tr>\n",
       "\t<tr><th scope=row>4</th><td>0.94330674</td></tr>\n",
       "\t<tr><th scope=row>5</th><td>0.04695691</td></tr>\n",
       "\t<tr><th scope=row>6</th><td>0.23711665</td></tr>\n",
       "</tbody>\n",
       "</table>\n"
      ],
      "text/latex": [
       "A data.frame: 6 × 1\n",
       "\\begin{tabular}{r|l}\n",
       "  & predicted\\_prob\\\\\n",
       "  & <dbl>\\\\\n",
       "\\hline\n",
       "\t1 & 0.97989278\\\\\n",
       "\t2 & 0.23036160\\\\\n",
       "\t3 & 0.75067805\\\\\n",
       "\t4 & 0.94330674\\\\\n",
       "\t5 & 0.04695691\\\\\n",
       "\t6 & 0.23711665\\\\\n",
       "\\end{tabular}\n"
      ],
      "text/markdown": [
       "\n",
       "A data.frame: 6 × 1\n",
       "\n",
       "| <!--/--> | predicted_prob &lt;dbl&gt; |\n",
       "|---|---|\n",
       "| 1 | 0.97989278 |\n",
       "| 2 | 0.23036160 |\n",
       "| 3 | 0.75067805 |\n",
       "| 4 | 0.94330674 |\n",
       "| 5 | 0.04695691 |\n",
       "| 6 | 0.23711665 |\n",
       "\n"
      ],
      "text/plain": [
       "  predicted_prob\n",
       "1 0.97989278    \n",
       "2 0.23036160    \n",
       "3 0.75067805    \n",
       "4 0.94330674    \n",
       "5 0.04695691    \n",
       "6 0.23711665    "
      ]
     },
     "metadata": {},
     "output_type": "display_data"
    },
    {
     "data": {
      "text/plain": [
       "         actual\n",
       "predicted   1   2\n",
       "        0 522 115\n",
       "        1  84 392"
      ]
     },
     "metadata": {},
     "output_type": "display_data"
    },
    {
     "name": "stdout",
     "output_type": "stream",
     "text": [
      "[1] \"Accuracy: 0.0754716981132075\"\n"
     ]
    }
   ],
   "source": [
    "# 2b)\n",
    "threshold = 0.50\n",
    "\n",
    "d2_predict = data.frame(predict(Log_reg_hcp, type = \"response\"))\n",
    "\n",
    "## Rename the predicted values generated above to \"predicted_prob\" for ease of interpretability\n",
    "colnames(d2_predict) = c('predicted_prob')\n",
    "head(d2_predict)\n",
    "\n",
    "# Make a list of \"Incorrect\" responses (coded as 0)\n",
    "num_obs = nrow(d2)\n",
    "d2_predict$predicted_binary=rep(0,num_obs)\n",
    "d2_predict$predicted_binary[d2_predict$predicted_prob>threshold]= 1\n",
    "\n",
    "# Look at the prediction accuracy in form of confusion matrix table\n",
    "d2_conf = data.frame(d2_predict$predicted_binary, as.factor(d2$Gender))\n",
    "colnames(d2_conf) = c('predicted', 'actual')\n",
    "table(d2_conf)\n",
    "\n",
    "## Abbreviated summary: \n",
    "## 522 predicted 0 actual F (true neg)\n",
    "## 115 predicted 0 actual M (false neg)\n",
    "## 84  predicted 1 actual F (false pos)\n",
    "## 392 predicted 1 actual M (true pos)\n",
    "\n",
    "## Calculate the general accuracy of the model's predictions: \n",
    "print(paste(\"Accuracy:\",mean(d2_conf$predicted == d2_conf$actual)))\n"
   ]
  },
  {
   "cell_type": "markdown",
   "metadata": {
    "id": "KHLfOMe-n8O0"
   },
   "source": [
    "What is the prediction accuracy for gender from the full model?"
   ]
  },
  {
   "cell_type": "markdown",
   "metadata": {
    "id": "eN9SGyESn8O1"
   },
   "source": [
    "\n",
    "> The Accuracy is 7.5% which is very very low"
   ]
  },
  {
   "cell_type": "markdown",
   "metadata": {
    "id": "9Y_ftEZPn8O1"
   },
   "source": [
    "---\n",
    "## 3. Bootstrapped accuracy (3 points)\n",
    "\n",
    "Use bootstrapping to estimate the confidence intervals of the _prediction accuracy_ of your model. Plot the histogram of the bootstrapped prediction accuracies and estimate the confidence intervals off of the standard deviation from the bootstrap.\n"
   ]
  },
  {
   "cell_type": "code",
   "execution_count": 21,
   "metadata": {
    "id": "mwBjwZLIn8O1",
    "outputId": "470cbcba-049e-449e-f32e-e08bc59d6c8e"
   },
   "outputs": [
    {
     "name": "stderr",
     "output_type": "stream",
     "text": [
      "Warning message:\n",
      "\"package 'boot' is in use and will not be installed\"\n",
      "Warning message:\n",
      "\"package 'ISLR' is in use and will not be installed\"\n"
     ]
    },
    {
     "name": "stdout",
     "output_type": "stream",
     "text": [
      "[1] \"Accuracy: 0.0754716981132075\"\n"
     ]
    },
    {
     "name": "stderr",
     "output_type": "stream",
     "text": [
      "Warning message in mean.default(newX[, i], ...):\n",
      "\"argument is not numeric or logical: returning NA\"\n"
     ]
    },
    {
     "ename": "ERROR",
     "evalue": "Error in apply(t, 2L, mean, na.rm = TRUE) - t0: non-numeric argument to binary operator\n",
     "output_type": "error",
     "traceback": [
      "Error in apply(t, 2L, mean, na.rm = TRUE) - t0: non-numeric argument to binary operator\nTraceback:\n",
      "1. print(boot_obj)",
      "2. print.boot(boot_obj)",
      "3. cbind(t0, apply(t, 2L, mean, na.rm = TRUE) - t0, sqrt(apply(t, \n .     2L, function(t.st) var(t.st[!is.na(t.st)]))))"
     ]
    }
   ],
   "source": [
    "# 3 Boostraped accuracy\n",
    "install.packages(\"boot\")\n",
    " install.packages(\"ISLR\")\n",
    "library(ISLR)\n",
    "library(boot)\n",
    "set.seed(33)\n",
    "\n",
    "#write boostrapping function\n",
    "boot.fn <- function(data, index){  \n",
    "  # return: throw this as output\n",
    "  # coef: extract coefficients from model object \n",
    "  log_reg_hcp <- glm(as.factor(Gender) ~ FS_Tot_WM_Vol*FS_Total_GM_Vol*FS_IntraCranial_Vol, data=data, subset=index, family = binomial)\n",
    "  # The function needs two inputs: Data, Index\n",
    "  \n",
    "  #set threshold\n",
    "  threshold = 0.50\n",
    "  \n",
    "  #use the outcome of the model above\n",
    "  d2_predict = data.frame(predict(Log_reg_hcp, type = \"response\"))\n",
    "  \n",
    "  ## Rename the predicted values generated above to \"predicted_prob\" for ease of interpretability\n",
    "  colnames(d2_predict) = c('predicted_prob')\n",
    "  head(d2_predict)\n",
    "  \n",
    "  # Make a list of \"Incorrect\" responses (coded as 0)\n",
    "  num_obs = nrow(d2)\n",
    "  d2_predict$predicted_binary=rep(0,num_obs)\n",
    "  d2_predict$predicted_binary[d2_predict$predicted_prob>threshold]= 1\n",
    "  \n",
    "  # Look at the prediction accuracy in form of confusion matrix table\n",
    "  d2_conf = data.frame(d2_predict$predicted_binary, as.factor(d2$Gender))\n",
    "  colnames(d2_conf) = c('predicted', 'actual')\n",
    "  table(d2_conf)\n",
    "  \n",
    "  return(paste(\"Accuracy:\",mean(d2_conf$predicted == d2_conf$actual)))\n",
    "  }\n",
    "\n",
    "#run bootstrapping function\n",
    "print(boot.fn(d2, 1:1113))\n",
    "\n",
    "##Run it with random resampling: \n",
    "boot_obj = boot(d2,boot.fn ,R=1000) #R=repetitions \n",
    "print(boot_obj) #t1 is the intercept and t2 WM, t3 is GM, t4 is vol + interactions.\n",
    "\n",
    "\n",
    "#hist(boot(d2,boot.fn ,R=1000)$t[,2], xlab=\"Horsepower coefficient\") #we get a distribution of all of the estimates\n",
    "#                               ^^ indexing the second \"t\" value\n"
   ]
  },
  {
   "cell_type": "markdown",
   "metadata": {
    "id": "RflF_i36n8O2"
   },
   "source": [
    "How robust is the prediction accuracy of the full model?"
   ]
  },
  {
   "cell_type": "markdown",
   "metadata": {
    "id": "JDM2tpBMn8O2"
   },
   "source": [
    "> *Write your response here* \n",
    "> Idk. Because it won't run. oups"
   ]
  },
  {
   "cell_type": "markdown",
   "metadata": {
    "id": "jZVWq9SVn8O2"
   },
   "source": [
    "---\n",
    "## 4. Permutation test for grey matter effects (3 points)\n",
    "\n",
    "Now run a permutation test, with 1000 iterations, to evaluate how much grey matter volume contributes to the prediction accuracy. Compare the prediction accuracy of the full (unpermuted model) with the distribution of accuracies you get with a randomized grey matter volume term using a histogram (Hint: use the `abline` function to show the original accuracy on the histogram)."
   ]
  },
  {
   "cell_type": "code",
   "execution_count": null,
   "metadata": {
    "id": "SmtoqASUn8O2"
   },
   "outputs": [],
   "source": [
    "#permutation test from the tutorial. #need to add abline\n",
    "perm_d2 = d2\n",
    "\n",
    "R =1000\n",
    "\n",
    "perm.coefs=matrix(NA,nrow=R, ncol=2) #\n",
    "\n",
    "for (i in 1:R){\n",
    "  perm_d2$XXX = d2$XXXr[sample(392)] # This is a shuffled version of the Auto$horsepower vector\n",
    "  perm.acc[i,]= XXXaccuracy ###\n",
    "}\n",
    "\n",
    "# Take a look at the null distributions\n",
    "hist(perm.acc[,2])\n",
    "\n",
    "\n",
    "# Now re-estimate the real (unpermuted) effect \n",
    "perm.real = XXXaccuracy\n",
    "perm.real\n"
   ]
  },
  {
   "cell_type": "markdown",
   "metadata": {
    "id": "lMCPgckCn8O3"
   },
   "source": [
    "How much does the grey matter volume influence the prediction accuracy of the model?"
   ]
  },
  {
   "cell_type": "markdown",
   "metadata": {
    "id": "jNk69mfmn8O4"
   },
   "source": [
    "> *Write your response here* \n",
    "> "
   ]
  },
  {
   "cell_type": "markdown",
   "metadata": {
    "id": "E827AOcUn8O4"
   },
   "source": [
    "---\n",
    "## 5. Reflection (1 point)\n",
    "\n",
    "Differentiate the bootstrap from a permutation test. Describe each and when is it appropriate use to each."
   ]
  },
  {
   "cell_type": "markdown",
   "metadata": {
    "id": "wVcR2qaOn8O4"
   },
   "source": [
    "> From the tutorial: \n",
    "\n",
    "Bootstrapping:\n",
    "\n",
    "    quantifies uncertainty by reusing the data (random resampling with replacement)\n",
    "\n",
    "    answers the question: what is the range of values I can expect for a statistic, given the varaibility in my data?\n",
    "\n",
    "Permutation testing:\n",
    "\n",
    "    breaks whatever structure may exist between variables of interest while maintaining the structure between others (permute, or shuffle, the relationship between x and y, for example)\n",
    "\n",
    "    allows targeted null hypothesis testing\n",
    "\n",
    "    quantifies the null distribution for a given hypothesis\n",
    "\n",
    "    answers the question: what kind of pattern would you expect to see if there were no statistical relationship between two (or more) variables?\n",
    "\n",
    "These methods are useful if you need non-parametric estimates of uncertainty for a given statistic (bootstrapping) or if you need a non-parametric way of testing your hypotheses (permutation). In other words, if you don’t want to risk making assumptions about the functional form of your data during uncertainty estimation or hypothesis testing, these randomization methods are for you.\n",
    "\n",
    "However, keep in mind that there are cons (and assumptions) associated with non-parametric methods. For example, one major limitation of bootstrapping is that you must make the assumption that your data contains variability similar to the kind of variability you might see when you sample new datasets in the wild, given the same statistical model, to make inferential interpretations. See here and here for more information."
   ]
  },
  {
   "cell_type": "markdown",
   "metadata": {
    "id": "8PoekVTAn8O4"
   },
   "source": [
    "**DUE:** 5pm EST, April 1, 2022"
   ]
  },
  {
   "cell_type": "markdown",
   "metadata": {
    "id": "PTVa2-bEn8O4"
   },
   "source": [
    "**IMPORTANT** Did you collaborate with anyone on this assignment? If so, list their names here. \n",
    "> Emily Goldberg! Shoutout to making it through this week; "
   ]
  }
 ],
 "metadata": {
  "colab": {
   "name": "Homework8_solutions.ipynb",
   "provenance": []
  },
  "kernelspec": {
   "display_name": "R",
   "language": "R",
   "name": "ir"
  },
  "language_info": {
   "codemirror_mode": "r",
   "file_extension": ".r",
   "mimetype": "text/x-r-source",
   "name": "R",
   "pygments_lexer": "r",
   "version": "4.0.5"
  }
 },
 "nbformat": 4,
 "nbformat_minor": 1
}
