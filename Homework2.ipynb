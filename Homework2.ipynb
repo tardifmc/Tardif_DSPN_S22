{
 "cells": [
  {
   "cell_type": "markdown",
   "metadata": {
    "id": "-2W919d2ZXp7"
   },
   "source": [
    "# Homework 2: Data tables"
   ]
  },
  {
   "cell_type": "markdown",
   "metadata": {
    "id": "L4nOzVhyZXqK"
   },
   "source": [
    "This homework assignment is designed to get you comfortable loading and working with data tables.\n",
    "\n",
    "You will need to download the **LexicalData_toclean.csv** file from the *Homework/lexDat* folder in the class GitHub repository. \n",
    "\n",
    "This data is a subset of the [English Lexicon Project database](https://elexicon.wustl.edu/). It provides the reaction times (in milliseconds) of many subjects as they are presented with letter strings and asked to decide, as quickly and as accurately as possible, whether the letter string is a word or not.\n",
    "\n",
    "*Data courtesy of Balota, D.A., Yap, M.J., Cortese, M.J., Hutchison, K.A., Kessler, B., Loftis, B., Neely, J.H., Nelson, D.L., Simpson, G.B., & Treiman, R. (2007). The English Lexicon Project. Behavior Research Methods, 39, 445-459.*"
   ]
  },
  {
   "cell_type": "code",
   "execution_count": 7,
   "metadata": {},
   "outputs": [],
   "source": [
    "library(tidyverse);"
   ]
  },
  {
   "cell_type": "markdown",
   "metadata": {
    "id": "9DsyBTB6ZXqN"
   },
   "source": [
    "---\n",
    "## 1. **Loading the Data (1 point)** \n",
    "\n",
    "Use the `setwd` and `read.csv` functions to load the data table from the **LexicalData_toclean.csv** file. Use the `head` function to look at the first few rows of the data. "
   ]
  },
  {
   "cell_type": "code",
   "execution_count": 2,
   "metadata": {
    "id": "UnBVazYfZXqP"
   },
   "outputs": [
    {
     "data": {
      "text/html": [
       "<table>\n",
       "<thead><tr><th scope=col>Sub_ID</th><th scope=col>Trial</th><th scope=col>Type</th><th scope=col>D_RT</th><th scope=col>D_Word</th><th scope=col>Outlier</th><th scope=col>D_Zscore</th></tr></thead>\n",
       "<tbody>\n",
       "\t<tr><td>157        </td><td>1          </td><td>1          </td><td>710        </td><td>browse     </td><td>false      </td><td>-0.437     </td></tr>\n",
       "\t<tr><td> 67        </td><td>1          </td><td>1          </td><td>1,094      </td><td>refrigerant</td><td>false      </td><td> 0.825     </td></tr>\n",
       "\t<tr><td>120        </td><td>1          </td><td>1          </td><td>587        </td><td>gaining    </td><td>false      </td><td>-0.645     </td></tr>\n",
       "\t<tr><td> 21        </td><td>1          </td><td>1          </td><td>984        </td><td>cheerless  </td><td>false      </td><td> 0.025     </td></tr>\n",
       "\t<tr><td>236        </td><td>1          </td><td>1          </td><td>577        </td><td>pattered   </td><td>false      </td><td>-0.763     </td></tr>\n",
       "\t<tr><td>236        </td><td>2          </td><td>1          </td><td>715        </td><td>conjures   </td><td>false      </td><td>-0.364     </td></tr>\n",
       "</tbody>\n",
       "</table>\n"
      ],
      "text/latex": [
       "\\begin{tabular}{r|lllllll}\n",
       " Sub\\_ID & Trial & Type & D\\_RT & D\\_Word & Outlier & D\\_Zscore\\\\\n",
       "\\hline\n",
       "\t 157         & 1           & 1           & 710         & browse      & false       & -0.437     \\\\\n",
       "\t  67         & 1           & 1           & 1,094       & refrigerant & false       &  0.825     \\\\\n",
       "\t 120         & 1           & 1           & 587         & gaining     & false       & -0.645     \\\\\n",
       "\t  21         & 1           & 1           & 984         & cheerless   & false       &  0.025     \\\\\n",
       "\t 236         & 1           & 1           & 577         & pattered    & false       & -0.763     \\\\\n",
       "\t 236         & 2           & 1           & 715         & conjures    & false       & -0.364     \\\\\n",
       "\\end{tabular}\n"
      ],
      "text/markdown": [
       "\n",
       "| Sub_ID | Trial | Type | D_RT | D_Word | Outlier | D_Zscore |\n",
       "|---|---|---|---|---|---|---|\n",
       "| 157         | 1           | 1           | 710         | browse      | false       | -0.437      |\n",
       "|  67         | 1           | 1           | 1,094       | refrigerant | false       |  0.825      |\n",
       "| 120         | 1           | 1           | 587         | gaining     | false       | -0.645      |\n",
       "|  21         | 1           | 1           | 984         | cheerless   | false       |  0.025      |\n",
       "| 236         | 1           | 1           | 577         | pattered    | false       | -0.763      |\n",
       "| 236         | 2           | 1           | 715         | conjures    | false       | -0.364      |\n",
       "\n"
      ],
      "text/plain": [
       "  Sub_ID Trial Type D_RT  D_Word      Outlier D_Zscore\n",
       "1 157    1     1    710   browse      false   -0.437  \n",
       "2  67    1     1    1,094 refrigerant false    0.825  \n",
       "3 120    1     1    587   gaining     false   -0.645  \n",
       "4  21    1     1    984   cheerless   false    0.025  \n",
       "5 236    1     1    577   pattered    false   -0.763  \n",
       "6 236    2     1    715   conjures    false   -0.364  "
      ]
     },
     "metadata": {},
     "output_type": "display_data"
    }
   ],
   "source": [
    "setwd(\"C:/Users/MCT40/OneDrive - University of Pittsburgh/Documents/GitHub/DataSciencePsychNeuro/Homeworks/lexDat\")\n",
    "LD <- read.csv(\"LexicalData_toclean.csv\")\n",
    "head(LD)\n"
   ]
  },
  {
   "cell_type": "markdown",
   "metadata": {
    "id": "vk5oha2W4G7h"
   },
   "source": [
    "The **LexicalData_toclean.csv** file contains the variables `Sub_ID` (Subject ID), `Trial` (the trial number), `D_RT` (reaction time) and `D_Word` (the word they were responding to)."
   ]
  },
  {
   "cell_type": "markdown",
   "metadata": {
    "id": "SJuj14ZyZXqS"
   },
   "source": [
    "---\n",
    "## 2. **Data Cleansing (4 points)**\n",
    "\n",
    "There are three things we want to do to make this data more useable:\n",
    "* Get rid of the commas in the reaction time values, and make this variable numeric (hint: check out the functions `gsub` and `as.numeric`).\n",
    "* Get rid of rows where the reaction times are missing (hint: you can use the `filter` function from `tidyverse`, but you'll need to load the library).\n",
    "* Make sure all of the reaction times are positive. \n",
    "\n",
    "Write code that will copy the data to a new variable and make the above changes. "
   ]
  },
  {
   "cell_type": "code",
   "execution_count": 3,
   "metadata": {
    "id": "5pXIjADNZXqU"
   },
   "outputs": [
    {
     "data": {
      "text/html": [
       "&lt;NA&gt;"
      ],
      "text/latex": [
       "<NA>"
      ],
      "text/markdown": [
       "&lt;NA&gt;"
      ],
      "text/plain": [
       "[1] NA"
      ]
     },
     "metadata": {},
     "output_type": "display_data"
    }
   ],
   "source": [
    "LD_nona <- LD\n",
    "LD_nona$D_RT <- as.numeric(as.character(gsub(\",\", \"\", LD$D_RT))) #remove the commas and make the col numeric\n",
    "LD_nona %>% filter(LD$D_RT !=\"NA\") -> LD2 #remove NAs save to LD2\n",
    "\n",
    "any(LD2$D_RT < 0) #check to see if any values in the D_RT are smaller than 0 (or not positive)\n",
    "\n",
    "\n"
   ]
  },
  {
   "cell_type": "markdown",
   "metadata": {},
   "source": [
    "NA in the output above indicates that no reaction times smaller than 0 were found. "
   ]
  },
  {
   "cell_type": "markdown",
   "metadata": {
    "id": "a3tOGnZL5E9S"
   },
   "source": [
    "For each of the three actions above, is it addressing a data anomaly (as described in the Müller reading)? If so, name the *type* of anomaly it's addressing. "
   ]
  },
  {
   "cell_type": "markdown",
   "metadata": {
    "id": "6CvlJZOK5qx0"
   },
   "source": [
    "> *Write your response here.*\n",
    "> * First action: \n",
    "> * Second action: \n",
    "> * Third action:"
   ]
  },
  {
   "cell_type": "markdown",
   "metadata": {
    "id": "AX4B1CxyZXqX"
   },
   "source": [
    "---\n",
    "## 3. **Data Manipulation with Tidyverse (4 points)**\n",
    "\n",
    "Now let's use `tidyverse` functions to play around with this data a bit. Use the piping operator (`%>%`) in both of these code cells. \n",
    "\n",
    "First, let's get some useful summary **statistics** using `summarise`. Output a table that tells us how many observations there are in the data set, as well as the mean and standard deviation of the reaction times."
   ]
  },
  {
   "cell_type": "code",
   "execution_count": 4,
   "metadata": {
    "id": "S_DJDsUzZXqY"
   },
   "outputs": [
    {
     "data": {
      "text/html": [
       "<table>\n",
       "<thead><tr><th scope=col>number_obs</th><th scope=col>mean</th><th scope=col>stan_Dev</th></tr></thead>\n",
       "<tbody>\n",
       "\t<tr><td>62610</td><td>NA   </td><td>NaN  </td></tr>\n",
       "</tbody>\n",
       "</table>\n"
      ],
      "text/latex": [
       "\\begin{tabular}{r|lll}\n",
       " number\\_obs & mean & stan\\_Dev\\\\\n",
       "\\hline\n",
       "\t 62610 & NA    & NaN  \\\\\n",
       "\\end{tabular}\n"
      ],
      "text/markdown": [
       "\n",
       "| number_obs | mean | stan_Dev |\n",
       "|---|---|---|\n",
       "| 62610 | NA    | NaN   |\n",
       "\n"
      ],
      "text/plain": [
       "  number_obs mean stan_Dev\n",
       "1 62610      NA   NaN     "
      ]
     },
     "metadata": {},
     "output_type": "display_data"
    }
   ],
   "source": [
    "LD2 %>%  summarise(number_obs = n(),mean = mean(D_RT), stan_Dev = sd(D_RT))#num observations, mean, SD of D_RT\n",
    "\n"
   ]
  },
  {
   "cell_type": "markdown",
   "metadata": {
    "id": "RgKbS2AqIDQ-"
   },
   "source": [
    "Now, we'll use `mutate` to re-number the trials, starting from 0 instead of 1. Make a new variable that is equal to the `Trial` variable minus one. "
   ]
  },
  {
   "cell_type": "code",
   "execution_count": 5,
   "metadata": {
    "id": "ejQvUAZRZXqd"
   },
   "outputs": [],
   "source": [
    "LD2 %>%  mutate(trial0 = LD2$Trial - 1) -> LD3 # Make a new column called Trial0 that is the current trial number -1 \n",
    "\n"
   ]
  },
  {
   "cell_type": "markdown",
   "metadata": {
    "id": "MSV81LJGMCjs"
   },
   "source": [
    "---\n",
    "## 4. **Plotting Data (1 point)**\n",
    "\n",
    "Use the `plot()` function to visualize the data, in a way that helps you see if there's a relationship between `D_RT` and your new trial variable."
   ]
  },
  {
   "cell_type": "code",
   "execution_count": 6,
   "metadata": {
    "id": "AA8f06KzM3Bg"
   },
   "outputs": [
    {
     "data": {
      "image/png": "[encoded data removed]",
      "text/plain": [
       "Plot with title \"Reaction time by trial number of lexical data\""
      ]
     },
     "metadata": {},
     "output_type": "display_data"
    }
   ],
   "source": [
    "plot(LD3$trial0, LD3$D_RT, xlab =\"Trial number\", ylab=\"Reaction time\", main=\"Reaction time by trial number of lexical data\")\n",
    "\n"
   ]
  },
  {
   "cell_type": "markdown",
   "metadata": {
    "id": "2slWzsoYGuLt"
   },
   "source": [
    "That's all for Homework 2! When you are finished, save the notebook as Homework2.ipynb, push it to your class GitHub repository (the one you made for Homework 1) and send the instructors a link to your notebook via Canvas. You can send messages via Canvas by clicking \"Inbox\" on the left and then pressing the icon with a pencil inside a square."
   ]
  },
  {
   "cell_type": "markdown",
   "metadata": {
    "id": "C4MPECMmZXqe"
   },
   "source": [
    "**DUE:** 5pm EST, Feb 14, 2022"
   ]
  },
  {
   "cell_type": "markdown",
   "metadata": {
    "id": "r9GUofXN4BVy"
   },
   "source": [
    "**IMPORTANT** Did you collaborate with anyone on this assignment? If so, list their names here. \n",
    "> Emily Goldberg MVP"
   ]
  }
 ],
 "metadata": {
  "colab": {
   "collapsed_sections": [],
   "name": "Homework2.ipynb",
   "provenance": []
  },
  "kernelspec": {
   "display_name": "R",
   "language": "R",
   "name": "ir"
  },
  "language_info": {
   "codemirror_mode": "r",
   "file_extension": ".r",
   "mimetype": "text/x-r-source",
   "name": "R",
   "pygments_lexer": "r",
   "version": "3.6.1"
  }
 },
 "nbformat": 4,
 "nbformat_minor": 1
}
