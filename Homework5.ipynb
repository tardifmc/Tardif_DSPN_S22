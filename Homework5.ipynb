{
 "cells": [
  {
   "cell_type": "markdown",
   "metadata": {
    "id": "szkkhiCZDF52"
   },
   "source": [
    "# Homework 5:  Linear models, continued\n",
    "This homework assignment is designed to give you a deeper understanding of linear models. First, we'll dive into the math behind the closed-form solution of maximum likelihood estimation. **In the first section below, write your answers using Latex equation formatting.**\n",
    "\n",
    "*Note: Check out [this page](https://gtribello.github.io/mathNET/assets/notebook-writing.html) and [this page](https://towardsdatascience.com/write-markdown-latex-in-the-jupyter-notebook-10985edb91fd) for resources on how to do Latex formatting. You can also double click on the question cells in this notebook to see how math is formatted in the questions.*\n"
   ]
  },
  {
   "cell_type": "markdown",
   "metadata": {
    "id": "QJscNReoylRt"
   },
   "source": [
    "---\n",
    "## 1. Deriving the Maximum Likelihood Estimate for Simple Linear Regression (6 points)"
   ]
  },
  {
   "cell_type": "markdown",
   "metadata": {
    "id": "nH82gwuymPi0"
   },
   "source": [
    "Using the mean squared error (MSE) as your objective function (the thing you're trying to minimize when you fit your model) allows for a closed form solution to finding the maximum likelihood estimate (MLE) of your model parameters in linear regression. Let’s consider the simple, single predictor variable model, i.e. simple linear regression :  $Y= \\beta_0 + \\beta_1 X $. \n",
    "\n",
    "a) Use algebra to show how you can expand out $MSE(\\beta_0, \\beta_1)$ to get from i to ii below.\n",
    "\n",
    "> _i)_ $E[ (Y-(\\beta_0 + \\beta_1 X))^2]$\n",
    "\n",
    "> _ii)_ $E[Y^2] -2 \\beta_0E[Y]-2 \\beta_1 Cov[X,Y]-2 \\beta_1 E[X]E[Y]+ \\beta_0^2 +2 \\beta_0 \\beta_1 E[X]+\\beta_1^2 Var[X]+ \\beta_1^2 (E[X])^2$\n",
    "\n",
    "\n",
    "\n",
    "\n"
   ]
  },
  {
   "cell_type": "markdown",
   "metadata": {
    "id": "dn2hveNho-Of"
   },
   "source": [
    "**Answer:**\n",
    "\n",
    "> Original expression $$ E[ (Y-(\\beta_0 + \\beta_1 X))^2] $$\n",
    "> Goal $$E[Y^2] -2 \\beta_0E[Y]-2 \\beta_1 Cov[X,Y]-2 \\beta_1 E[X]E[Y]+ \\beta_0^2 +2 \\beta_0 \\beta_1 E[X]+\\beta_1^2 Var[X]+ \\beta_1^2 (E[X])^2$$\n",
    "\n",
    "> Identity mentions: \n",
    "1) \n",
    "$$ cov(X,Y) = E[XY] - E[X]E[Y]$$\n",
    "\n",
    "$$E[XY] = cov(X,Y) + E[X]E[Y]$$\n",
    "\n",
    "2)                        \n",
    "$$ var (X) = E[X^2] - E[X]^2 $$\n",
    "\n",
    "$$ E[X^2] = var(X) + E[X]^2 $$\n",
    "\n",
    "\n",
    "\n",
    "$ E[ (Y-(\\beta_0 + \\beta_1 X))^2] $ can be simplified using the identity $ (a-b)^2 = a^2 + b^2 - 2ab $\n",
    "\n",
    " $ = E[(Y-(\\beta_0 + \\beta_1X))] $\n",
    " \n",
    " $ = E[ Y^2 + (\\beta_0 + \\beta_1X)^2 - 2Y(\\beta_0 + \\beta_1X)] $\n",
    " \n",
    " $ = E[ Y^2 + \\beta_0^2 + \\beta_1^2 X^2 + 2\\beta_0\\beta_1X - 2Y\\beta_0 - 2Y\\beta_1X] $\n",
    " \n",
    " $ = EY^2 + \\beta_0^2 + E\\beta_1^2 X^2 + E2\\beta_0\\beta_1X - 2EY\\beta_0 - 2EY\\beta_1X $     %I'm not sure where $ \\beta_0^2 $ does not need an E during the factorization, but I'm trusting the process\n",
    " \n",
    " Using the identities above and replacing the terms gives us... \n",
    " \n",
    "> $ EY^2 - 2\\beta_0EY + \\beta_1^2 varX + \\beta_1^2(EX)^2 + \\beta_0^2 + \\beta_1^2EX^2 - 2\\beta_1cov(X,Y) - 2\\beta_1EXY $"
   ]
  },
  {
   "cell_type": "markdown",
   "metadata": {
    "id": "GCr46r9xwRXP"
   },
   "source": [
    "b) Prove that the MLE of $\\beta_0$ is $E[Y]- \\beta_1 E[X]$ by taking the derivative of _ii_ above, with respect to $\\beta_0$, setting the derivative to zero, and solving for $\\beta_0$."
   ]
  },
  {
   "cell_type": "markdown",
   "metadata": {
    "id": "Ul-PZyLbwTCQ"
   },
   "source": [
    "**Answer:**\n",
    "\n",
    "$ f(\\beta_0) = E[Y^2] - 2\\beta_0E[Y] - 2\\beta_1cov(X,Y) - 2\\beta_1E[X]E[Y] + \\beta_0^2 + 2\\beta_0\\beta_1E[X] + \\beta_1^2 (var[X]) + \\beta_1^2(E[X])^2 $\n",
    "\n",
    "Because we are differentiating relative to $ \\beta_0 $ many of the terms from the original equation go to 0 (anything without $ \\beta_0 $...So the remainder look like: \n",
    "\n",
    "$ Partial f'(\\beta_0) = - 2\\beta_0E[Y] + \\beta_0^2 + 2\\beta_0\\beta_1E[X] $\n",
    "\n",
    "Final derivative:\n",
    "\n",
    "> $ f'(\\beta_0) = -2E[Y] + 2\\beta_0 + 2\\beta_1E[X]$"
   ]
  },
  {
   "cell_type": "markdown",
   "metadata": {},
   "source": [
    "**Setting the derivative to 0 **\n",
    "\n",
    "\n",
    "$ 0 = -2E[Y] + 2\\beta_0 + 2\\beta_1E[X] $\n",
    "\n",
    "$ 0 = 2(-E[Y] + \\beta_0 + \\beta_1E[X])$\n",
    "\n",
    "$ 0 = -E[Y] + \\beta_0 + \\beta_1E[X]$\n",
    "\n",
    "$ -\\beta_0 = -E[Y]+ \\beta_1E[X]$\n",
    "\n",
    "$ \\beta_0 = E[Y] - \\beta_1E[X]$ \n",
    "\n",
    "> **tadaaaa** : $ \\beta_0 = E[Y] - \\beta_1E[X]$   \n",
    "\n"
   ]
  },
  {
   "cell_type": "markdown",
   "metadata": {
    "id": "-uv4Z7afw4gB"
   },
   "source": [
    "c) Prove that the MLE for $\\beta_1$ is $Cov[X,Y]/Var[X]$ by taking the derivative of equation _ii_ above, with respect to $\\beta_1$, setting the derivative to zero, and solving for $\\beta_1$. *Hint: after you've simplified / expanded a bit, plug in the solution for $\\beta_0$ from part b.*"
   ]
  },
  {
   "cell_type": "markdown",
   "metadata": {
    "id": "sWTFZ6ZSw6sh"
   },
   "source": [
    "**Answer:**\n",
    "\n",
    "$ f(\\beta_0) = E[Y^2] - 2\\beta_0E[Y] - 2\\beta_1cov(X,Y) - 2\\beta_1E[X]E[Y] + \\beta_0^2 + 2\\beta_0\\beta_1E[X] + \\beta_1^2 (var[X]) + \\beta_1^2(E[X])^2 $\n",
    "\n",
    "Because we are differentiating relative to $ \\beta_0 $ many of the terms from the original equation go to 0 (anything without $ \\beta_0 $...So the remainder look like: \n",
    "\n",
    "$ Partial f'(\\beta_1) = - 2\\beta_1cov(X,Y) - 2\\beta_1E[X]E[Y] + 2\\beta_0\\beta_1E[X] + \\beta_1^2 (var[X]) + \\beta_1^2(E[X])^2 $\n",
    "\n",
    "\n",
    "Final derivative including $ \\beta_0 $ and $ \\beta_1 $:\n",
    "\n",
    "> $ f'(\\beta_1) = -2cov(X,Y) - 2E[X]E[Y] + 2\\beta_0E[X] + 2\\beta_1var(X) + 2\\beta_1E[(X)]^2$\n",
    "\n",
    "\n",
    "Now substitute $(\\beta_0)$ to simplify the equation, since $ \\beta_0 = E[Y] - \\beta_1E[X]$ : \n",
    "\n",
    "\n",
    "$ f'(\\beta_1) = -2cov(X,Y) - 2E[X]E[Y] + 2\\beta_0E[X] + 2\\beta_1var(X) + 2\\beta_1E[(X)]^2$\n",
    "\n",
    "$ f'(\\beta_1) = -2cov(X,Y) -2E[X]E[Y] + 2E[X](E[Y] - \\beta_1E[X]) + 2\\beta_1var(X) + 2\\beta_1E[X]^2 $\n",
    "\n",
    "Many redundant terms that cancel out, remove these and it simplified to: \n",
    "\n",
    "$ f'(\\beta_1) = -2cov(X,Y) + 2\\beta_1var(X) $\n",
    "\n",
    "\n",
    "\n",
    "Final derivative with only $ \\beta_1 $:\n",
    "\n",
    "> $ f(\\beta_1) = -2cov(X,Y) + 2\\beta_1var(X) $\n"
   ]
  },
  {
   "cell_type": "markdown",
   "metadata": {},
   "source": [
    "**Setting the derivative to 0 **\n",
    "\n",
    "$ f(\\beta_1) = -2cov(X,Y) + 2\\beta_1var(X) $\n",
    "\n",
    "$ 0 = -2cov(X,Y) + 2\\beta_1var(X) $\n",
    "\n",
    "$ 0 = 2(-cov(X,Y) + \\beta_1var(X)) $\n",
    "\n",
    "$ -\\beta_1var(X) = -cov(X,Y) $\n",
    "\n",
    "$ \\beta_1 = \\frac{cov(X,Y)}{var(X)}$\n",
    "\n",
    "\n",
    "Final equation for of  $\\beta_1$: \n",
    "\n",
    "> $ \\beta_1 = \\frac{cov(X,Y)}{var(X)}$\n",
    "\n"
   ]
  },
  {
   "cell_type": "markdown",
   "metadata": {
    "id": "66X264ZpDF58"
   },
   "source": [
    "---\n",
    "## 2. Connecting to data (4 points)\n",
    "\n",
    "Now let's connect this to some real data. Once again we'll be using the  **unrestricted_trimmed_1_7_2020_10_50_44.csv** file from the *Homework/hcp_data* folder in the class GitHub repository. \n",
    "\n",
    "​\n",
    "This data is a portion of the [Human Connectome Project database](http://www.humanconnectomeproject.org/). It provides measures of cognitive tasks and brain morphology measurements from 1206 participants. The full description of each variable is provided in the **HCP_S1200_DataDictionary_April_20_2018.csv** file in the *Homework/hcp_data* folder in the class GitHub repository. \n",
    "\n",
    "a) Use the `setwd` and `read.csv` functions to load data from the **unrestricted_trimmed_1_7_2020_10_50_44.csv** file. Then use the `tidyverse` tools make a new dataframe `d1` that only inclues the subject ID (`Subject`), Flanker Task performance (`Flanker_Unadj`), and total grey matter volume (`FS_Total_GM_Vol`) variables and remove all _NA_ values.\n",
    "\n",
    "Use the `head` function to look at the first few rows of each data frame. "
   ]
  },
  {
   "cell_type": "code",
   "execution_count": 6,
   "metadata": {
    "colab": {
     "base_uri": "https://localhost:8080/",
     "height": 1000
    },
    "executionInfo": {
     "elapsed": 5637,
     "status": "ok",
     "timestamp": 1616440721755,
     "user": {
      "displayName": "Patience Stevens",
      "photoUrl": "https://lh3.googleusercontent.com/a-/AOh14Gi-_9ZqhIFhAv1oMehJNvNuIKSTyrFQHzjxQKhx=s64",
      "userId": "01994571539255174942"
     },
     "user_tz": 240
    },
    "id": "PZ0lngBjDF58",
    "outputId": "a3c4f688-d665-4d79-8250-56c4d45465e2"
   },
   "outputs": [
    {
     "data": {
      "text/html": [
       "FALSE"
      ],
      "text/latex": [
       "FALSE"
      ],
      "text/markdown": [
       "FALSE"
      ],
      "text/plain": [
       "[1] FALSE"
      ]
     },
     "metadata": {},
     "output_type": "display_data"
    },
    {
     "data": {
      "text/html": [
       "<table class=\"dataframe\">\n",
       "<caption>A data.frame: 6 × 4</caption>\n",
       "<thead>\n",
       "\t<tr><th></th><th scope=col>Subject</th><th scope=col>Gender</th><th scope=col>Flanker_Unadj</th><th scope=col>FS_Total_GM_Vol</th></tr>\n",
       "\t<tr><th></th><th scope=col>&lt;int&gt;</th><th scope=col>&lt;chr&gt;</th><th scope=col>&lt;dbl&gt;</th><th scope=col>&lt;int&gt;</th></tr>\n",
       "</thead>\n",
       "<tbody>\n",
       "\t<tr><th scope=row>1</th><td>100206</td><td>M</td><td>130.42</td><td>807245</td></tr>\n",
       "\t<tr><th scope=row>2</th><td>100307</td><td>F</td><td>112.56</td><td>664124</td></tr>\n",
       "\t<tr><th scope=row>3</th><td>100408</td><td>M</td><td>121.18</td><td>726206</td></tr>\n",
       "\t<tr><th scope=row>4</th><td>100610</td><td>M</td><td>126.53</td><td>762308</td></tr>\n",
       "\t<tr><th scope=row>5</th><td>101006</td><td>F</td><td>101.85</td><td>579632</td></tr>\n",
       "\t<tr><th scope=row>6</th><td>101107</td><td>M</td><td>107.04</td><td>665024</td></tr>\n",
       "</tbody>\n",
       "</table>\n"
      ],
      "text/latex": [
       "A data.frame: 6 × 4\n",
       "\\begin{tabular}{r|llll}\n",
       "  & Subject & Gender & Flanker\\_Unadj & FS\\_Total\\_GM\\_Vol\\\\\n",
       "  & <int> & <chr> & <dbl> & <int>\\\\\n",
       "\\hline\n",
       "\t1 & 100206 & M & 130.42 & 807245\\\\\n",
       "\t2 & 100307 & F & 112.56 & 664124\\\\\n",
       "\t3 & 100408 & M & 121.18 & 726206\\\\\n",
       "\t4 & 100610 & M & 126.53 & 762308\\\\\n",
       "\t5 & 101006 & F & 101.85 & 579632\\\\\n",
       "\t6 & 101107 & M & 107.04 & 665024\\\\\n",
       "\\end{tabular}\n"
      ],
      "text/markdown": [
       "\n",
       "A data.frame: 6 × 4\n",
       "\n",
       "| <!--/--> | Subject &lt;int&gt; | Gender &lt;chr&gt; | Flanker_Unadj &lt;dbl&gt; | FS_Total_GM_Vol &lt;int&gt; |\n",
       "|---|---|---|---|---|\n",
       "| 1 | 100206 | M | 130.42 | 807245 |\n",
       "| 2 | 100307 | F | 112.56 | 664124 |\n",
       "| 3 | 100408 | M | 121.18 | 726206 |\n",
       "| 4 | 100610 | M | 126.53 | 762308 |\n",
       "| 5 | 101006 | F | 101.85 | 579632 |\n",
       "| 6 | 101107 | M | 107.04 | 665024 |\n",
       "\n"
      ],
      "text/plain": [
       "  Subject Gender Flanker_Unadj FS_Total_GM_Vol\n",
       "1 100206  M      130.42        807245         \n",
       "2 100307  F      112.56        664124         \n",
       "3 100408  M      121.18        726206         \n",
       "4 100610  M      126.53        762308         \n",
       "5 101006  F      101.85        579632         \n",
       "6 101107  M      107.04        665024         "
      ]
     },
     "metadata": {},
     "output_type": "display_data"
    }
   ],
   "source": [
    "#load packages\n",
    "library(tidyverse)\n",
    "\n",
    "#load data\n",
    "setwd('C:/Users/MCT40/OneDrive - University of Pittsburgh/Classes/Spring2022/CMU_STATS/HOMEWORK/hcp_data')\n",
    "d <- read.csv('unrestricted_trimmed_1_7_2020_10_50_44.csv') #import and call it d (because of next step)\n",
    "\n",
    "#take a subset including specific 4 variables, and call it d1\n",
    "d %>% \n",
    "    subset(select = c(Subject, Gender, Flanker_Unadj, FS_Total_GM_Vol)) %>% #subset the rows\n",
    "    drop_na() -> d1 #drop the NAs\n",
    "\n",
    "any(is.na(d1)) #FALSE indicates that there are no 'NA's in the dataset \n",
    "\n",
    "head(d1)#llok at the data real quick\n"
   ]
  },
  {
   "cell_type": "markdown",
   "metadata": {
    "id": "J3owDQ0U2Ewn"
   },
   "source": [
    "b) Now we're going to see if the solutions we proved above actually line up with the model fit that R gives us (it should...). Calculate what the $\\beta_0$ and $\\beta_1$ coefficients should be for a simple linear regression model using `Flanker_Unadj` as $Y$ and `FS_Total_GM_Vol` as $X$. Use the formulas we derived above ($\\beta_1 = Cov[XY]/Var[X]$ , $\\beta_0 = E[Y] - \\beta_1E[X]$). Then use `lm()` to compare the coefficients you calculated with the ones R gives you. "
   ]
  },
  {
   "cell_type": "code",
   "execution_count": 7,
   "metadata": {
    "colab": {
     "base_uri": "https://localhost:8080/",
     "height": 391
    },
    "executionInfo": {
     "elapsed": 553,
     "status": "ok",
     "timestamp": 1614907277511,
     "user": {
      "displayName": "Patience Stevens",
      "photoUrl": "https://lh3.googleusercontent.com/a-/AOh14Gi-_9ZqhIFhAv1oMehJNvNuIKSTyrFQHzjxQKhx=s64",
      "userId": "01994571539255174942"
     },
     "user_tz": 300
    },
    "id": "mWvD8shRDF5_",
    "outputId": "02f91143-c36c-4e9d-dce1-d81f4cbd71b4"
   },
   "outputs": [
    {
     "data": {
      "text/html": [
       "3.10996547106463e-05"
      ],
      "text/latex": [
       "3.10996547106463e-05"
      ],
      "text/markdown": [
       "3.10996547106463e-05"
      ],
      "text/plain": [
       "[1] 3.109965e-05"
      ]
     },
     "metadata": {},
     "output_type": "display_data"
    },
    {
     "data": {
      "text/html": [
       "90.2564608190943"
      ],
      "text/latex": [
       "90.2564608190943"
      ],
      "text/markdown": [
       "90.2564608190943"
      ],
      "text/plain": [
       "[1] 90.25646"
      ]
     },
     "metadata": {},
     "output_type": "display_data"
    },
    {
     "data": {
      "text/plain": [
       "\n",
       "Call:\n",
       "lm(formula = Flanker_Unadj ~ FS_Total_GM_Vol, data = d1)\n",
       "\n",
       "Residuals:\n",
       "     Min       1Q   Median       3Q      Max \n",
       "-28.2280  -6.5969  -0.0119   6.5497  31.0108 \n",
       "\n",
       "Coefficients:\n",
       "                 Estimate Std. Error t value Pr(>|t|)    \n",
       "(Intercept)     9.026e+01  3.041e+00  29.677  < 2e-16 ***\n",
       "FS_Total_GM_Vol 3.110e-05  4.412e-06   7.048 3.18e-12 ***\n",
       "---\n",
       "Signif. codes:  0 '***' 0.001 '**' 0.01 '*' 0.05 '.' 0.1 ' ' 1\n",
       "\n",
       "Residual standard error: 9.864 on 1111 degrees of freedom\n",
       "Multiple R-squared:  0.0428,\tAdjusted R-squared:  0.04194 \n",
       "F-statistic: 49.68 on 1 and 1111 DF,  p-value: 3.177e-12\n"
      ]
     },
     "metadata": {},
     "output_type": "display_data"
    },
    {
     "data": {
      "text/html": [
       "<style>\n",
       ".dl-inline {width: auto; margin:0; padding: 0}\n",
       ".dl-inline>dt, .dl-inline>dd {float: none; width: auto; display: inline-block}\n",
       ".dl-inline>dt::after {content: \":\\0020\"; padding-right: .5ex}\n",
       ".dl-inline>dt:not(:first-of-type) {padding-left: .5ex}\n",
       "</style><dl class=dl-inline><dt>(Intercept)</dt><dd>90.2564608190944</dd><dt>FS_Total_GM_Vol</dt><dd>3.10996547106465e-05</dd></dl>\n"
      ],
      "text/latex": [
       "\\begin{description*}\n",
       "\\item[(Intercept)] 90.2564608190944\n",
       "\\item[FS\\textbackslash{}\\_Total\\textbackslash{}\\_GM\\textbackslash{}\\_Vol] 3.10996547106465e-05\n",
       "\\end{description*}\n"
      ],
      "text/markdown": [
       "(Intercept)\n",
       ":   90.2564608190944FS_Total_GM_Vol\n",
       ":   3.10996547106465e-05\n",
       "\n"
      ],
      "text/plain": [
       "    (Intercept) FS_Total_GM_Vol \n",
       "   9.025646e+01    3.109965e-05 "
      ]
     },
     "metadata": {},
     "output_type": "display_data"
    }
   ],
   "source": [
    "# Assign these to the variables in the equations above\n",
    "X <- d1$FS_Total_GM_Vol\n",
    "Y <- d1$Flanker_Unadj\n",
    "\n",
    "#retype the equations above\n",
    "    #first the covariance and variance: \n",
    "    covXY <- mean((X-mean(X))*(Y-mean(Y)))\n",
    "    varX <- mean((X-mean(X))^2)\n",
    "\n",
    "#Beta_1 = 3.10996547106463e-05\n",
    "Beta_1 = covXY/varX\n",
    "Beta_1 # This is Beta 1 value\n",
    "\n",
    "#Beta_0 = 90.2564608190943\n",
    "Beta_0 = mean(Y)-(Beta_1*(mean(X)))\n",
    "Beta_0 # This is Beta 2 value\n",
    "\n",
    "\n",
    "lm_flank <- lm(Flanker_Unadj ~ FS_Total_GM_Vol, data=d1)\n",
    "summary(lm_flank)\n",
    "coef(lm_flank)\n",
    "\n"
   ]
  },
  {
   "cell_type": "markdown",
   "metadata": {},
   "source": [
    "##### b) Comments: \n",
    "> compare the coefficients you calculated with the ones R gives you\n",
    "\n",
    "**Answer:**\n",
    "\n",
    "The coefficients calculated by hand and with the lm function are identical!!!! This is almost magical, and makes me immensely grateful R can do this without deriving the equations every time. \n",
    "\n",
    "**Formula**\n",
    "$ \\beta_1 = 3.10996547106463e-05 $\n",
    "$ \\beta_0 = 90.2564608190943 $\n",
    "\n",
    "**lm model**\n",
    "$ \\beta_1 = 3.10996547106465e-05 $\n",
    "$ \\beta_0 = 90.2564608190944 $\n"
   ]
  },
  {
   "cell_type": "markdown",
   "metadata": {
    "id": "xcnXbsZvDF6B"
   },
   "source": [
    "**DUE:** 5pm EST, March 15, 2022"
   ]
  },
  {
   "cell_type": "markdown",
   "metadata": {
    "id": "aG5swCweDF6B"
   },
   "source": [
    "**IMPORTANT** Did you collaborate with anyone on this assignment? If so, list their names here. \n",
    "> Emily Goldberg, who is a wonderful human being and impressively mastered calculus in a week"
   ]
  }
 ],
 "metadata": {
  "colab": {
   "collapsed_sections": [],
   "name": "Homework5_solutions.ipynb",
   "provenance": []
  },
  "kernelspec": {
   "display_name": "R",
   "language": "R",
   "name": "ir"
  },
  "language_info": {
   "codemirror_mode": "r",
   "file_extension": ".r",
   "mimetype": "text/x-r-source",
   "name": "R",
   "pygments_lexer": "r",
   "version": "4.0.5"
  }
 },
 "nbformat": 4,
 "nbformat_minor": 1
}
